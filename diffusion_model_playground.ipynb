{
 "cells": [
  {
   "cell_type": "code",
   "id": "initial_id",
   "metadata": {
    "collapsed": true,
    "ExecuteTime": {
     "end_time": "2025-01-30T17:46:03.494346Z",
     "start_time": "2025-01-30T17:46:03.491704Z"
    }
   },
   "source": [
    "# ==============================================\n",
    "# Diffusion Model Training Notebook\n",
    "# ==============================================\n",
    "# Author: [Han Zhang]\n",
    "# Date: [19/11/2024]\n",
    "# Purpose: End-to-end demonstration of training a diffusion model on preliminary data\n",
    "# =============================================="
   ],
   "outputs": [],
   "execution_count": 20
  },
  {
   "metadata": {
    "ExecuteTime": {
     "end_time": "2025-01-30T17:46:03.509266Z",
     "start_time": "2025-01-30T17:46:03.506351Z"
    }
   },
   "cell_type": "code",
   "source": [
    "# --- Import Necessary Libraries ---\n",
    "import os  # For file handling\n",
    "import csv # For saving data to CSV\n",
    "from datetime import datetime # For timestamping\n",
    "import numpy as np  # For numerical operations\n",
    "import matplotlib.pyplot as plt  # For visualization\n",
    "import scipy.io as sio  # For handling MATLAB .mat files\n",
    "import torch  # PyTorch: deep learning framework\n",
    "import torch.nn as nn  # Neural network modules\n",
    "import torch.nn.functional as F  # Functions for neural networks\n",
    "import torch.optim as optim  # Optimization algorithms\n",
    "from torch.utils.data import DataLoader, Dataset, TensorDataset, random_split # Data handling\n",
    "from tqdm import tqdm  # Progress bar\n",
    "from sklearn.preprocessing import MinMaxScaler  # Scaling data (optional)\n",
    "#from segmentation_models_pytorch import Unet\n"
   ],
   "id": "6accb534536c080a",
   "outputs": [],
   "execution_count": 21
  },
  {
   "metadata": {
    "ExecuteTime": {
     "end_time": "2025-01-30T17:46:03.540811Z",
     "start_time": "2025-01-30T17:46:03.538207Z"
    }
   },
   "cell_type": "code",
   "source": [
    "# --- File Paths ---\n",
    "# Define file paths (modify these for your datasets)\n",
    "# MATLAB_FILE_PATH = \"C:/Users/hz283/Documents/Duke/Research/Diffusion-Model-2D-Metamaterials/datasets/datasets/complete_datasets/complete_control.mat\"\n",
    "MATLAB_FILE_PATH = \"C:/Users/hz283/Documents/Duke/Research/Diffusion-Model-2D-Metamaterials/datasets/datasets/complete_datasets/complete_control_big_nosym.mat\"\n",
    "\n",
    "OUTPUT_DIRECTORY = \"output/\"  # Directory to save results/models\n"
   ],
   "id": "65e3696697f96836",
   "outputs": [],
   "execution_count": 22
  },
  {
   "metadata": {
    "ExecuteTime": {
     "end_time": "2025-01-30T17:46:04.838078Z",
     "start_time": "2025-01-30T17:46:03.546815Z"
    }
   },
   "cell_type": "code",
   "source": [
    "# Load the .mat file\n",
    "data = sio.loadmat(MATLAB_FILE_PATH)\n",
    "\n",
    "# Inspect the keys in the dictionary\n",
    "print(\"Variables in the .mat file:\", data.keys())\n",
    "\n",
    "# Extract specific variables\n",
    "designs_raw = data.get('designs')\n",
    "if designs_raw is not None:\n",
    "    print(\"Designs raw shape:\", designs_raw.shape)\n",
    "else:\n",
    "    print(\"Designs variable not found.\")\n",
    "\n",
    "bandgap_locations_raw = data.get('bandgap_locations')\n",
    "if bandgap_locations_raw is not None:\n",
    "    print(\"Bandgap locations raw shape:\", bandgap_locations_raw.shape)\n",
    "else:\n",
    "    print(\"Bandgap locations variable not found.\")\n",
    "\n",
    "bandgap_widths_raw = data.get('bandgap_widths')\n",
    "if bandgap_widths_raw is not None:\n",
    "    print(\"Bandgap widths raw shape:\", bandgap_widths_raw.shape)\n",
    "else:\n",
    "    print(\"Bandgap widths variable not found.\")\n",
    "\n",
    "# Reshape designs_raw to put last dimension (N) first, drop redundant 3rd dimension\n",
    "designs = np.transpose(designs_raw, (3, 0, 1, 2))[..., 0]\n",
    "print(\"Designs processed shape:\", designs.shape)\n",
    "\n",
    "# Reshape bandgap locations and bandgap widths to put last dimension (N) first\n",
    "bandgap_locations = np.transpose(bandgap_locations_raw, (1, 0))\n",
    "bandgap_widths = np.transpose(bandgap_widths_raw, (1, 0))\n",
    "\n",
    "# Convert bandgap locations and widths to bandgap edges\n",
    "bandgap_edges = np.transpose(np.stack((bandgap_locations - bandgap_widths / 2, bandgap_locations + bandgap_widths / 2), axis=1), (0, 2, 1))\n",
    "print(\"Bandgaps processed shapes\", bandgap_locations.shape, bandgap_widths.shape, bandgap_edges.shape)"
   ],
   "id": "272d64f8f741121",
   "outputs": [
    {
     "name": "stdout",
     "output_type": "stream",
     "text": [
      "Variables in the .mat file: dict_keys(['__header__', '__version__', '__globals__', 'DENSITY_DATA', 'EIGENVALUE_DATA', 'MODULUS_DATA', 'POISSON_DATA', 'WAVEVECTOR_DATA', 'bandgap_locations', 'bandgap_widths', 'const', 'None', 'designs', '__function_workspace__'])\n",
      "Designs raw shape: (32, 32, 3, 10000)\n",
      "Bandgap locations raw shape: (5, 10000)\n",
      "Bandgap widths raw shape: (5, 10000)\n",
      "Designs processed shape: (10000, 32, 32)\n",
      "Bandgaps processed shapes (10000, 5) (10000, 5) (10000, 5, 2)\n"
     ]
    }
   ],
   "execution_count": 23
  },
  {
   "metadata": {
    "ExecuteTime": {
     "end_time": "2025-01-30T17:46:04.880725Z",
     "start_time": "2025-01-30T17:46:04.874060Z"
    }
   },
   "cell_type": "code",
   "source": [
    "def plot_sample_geometry(designs, bandgap_tops, bandgap_bottoms, index=0):\n",
    "    \"\"\"\n",
    "    Plots a single sample geometry from the designs array with additional metadata.\n",
    "    The title includes the index, bandgap top, and bandgap bottom values.\n",
    "    The colorbar is adjusted to be the same height as the plot.\n",
    "    \n",
    "    Args:\n",
    "    - designs (np.ndarray): Array containing the designs of shape (n, 32, 32).\n",
    "    - index (int): Index of the sample to plot.\n",
    "    - bandgap_tops (np.ndarray): Array of bandgap top values.\n",
    "    - bandgap_bottoms (np.ndarray): Array of bandgap bottom values.\n",
    "    \"\"\"\n",
    "    # Validate index\n",
    "    if index < 0 or index >= designs.shape[0]:\n",
    "        raise ValueError(f\"Index {index} is out of bounds for designs array with shape {designs.shape}.\")\n",
    "\n",
    "    # Extract the geometry to plot\n",
    "    sample_geometry = designs[index]\n",
    "\n",
    "    # Metadata for the title\n",
    "    top = bandgap_tops[index]\n",
    "    bottom = bandgap_bottoms[index]\n",
    "\n",
    "    # Create the plot\n",
    "    fig, ax = plt.subplots(figsize=(6, 6))\n",
    "    im = ax.imshow(sample_geometry, cmap='gray', vmin=0, vmax=1)\n",
    "    ax.set_title(f\"Index: {index}, Bandgap Top: {top:.2f}, Bottom: {bottom:.2f}\")\n",
    "    ax.axis(\"off\")  # Remove axis ticks for cleaner visualization\n",
    "\n",
    "    # Add a colorbar with adjusted height\n",
    "    cbar = fig.colorbar(im, ax=ax, fraction=0.046, pad=0.04)  # Fraction controls height, pad adjusts spacing\n",
    "    cbar.set_label(\"Value\")  # Label for the colorbar\n",
    "\n",
    "    # Show the plot\n",
    "    plt.show()\n",
    "\n",
    "def extract_bandgap_edges(bandgap_edges, warn_threshold=1, zero_threshold=0.5):\n",
    "    \"\"\"\n",
    "    Extracts the bandgap tops and bottoms for each geometry.\n",
    "    Prints warnings for:\n",
    "      - Rows with a single non-zero value.\n",
    "      - Negative non-zero values.\n",
    "      - Non-positive differences between top and bottom values.\n",
    "      - Bandgap differences smaller than warn_threshold.\n",
    "      - Bandgap set to 0 due to zero_threshold.\n",
    "\n",
    "    Args:\n",
    "    - bandgap_edges (np.ndarray): Array of shape (n, 5, 2) containing bandgap edges.\n",
    "    - warn_threshold (float): Threshold for small bandgap warnings.\n",
    "    - zero_threshold (float): Minimum difference for a valid bandgap. Below this, a different row is checked.\n",
    "\n",
    "    Returns:\n",
    "    - bandgap_tops (np.ndarray): Vector of length n containing the top edges of the bandgap.\n",
    "    - bandgap_bottoms (np.ndarray): Vector of length n containing the bottom edges of the bandgap.\n",
    "    \"\"\"\n",
    "    n = bandgap_edges.shape[0]  # Number of samples\n",
    "    bandgap_tops = np.zeros(n)  # Initialize tops\n",
    "    bandgap_bottoms = np.zeros(n)  # Initialize bottoms\n",
    "\n",
    "    for i in range(n):\n",
    "        # Extract the 5x2 array for the current sample\n",
    "        edges = bandgap_edges[i]\n",
    "\n",
    "        # Iterate over the rows to find a valid row\n",
    "        valid_pair = False\n",
    "        for row in edges:\n",
    "            non_zero_count = np.count_nonzero(row)  # Count non-zero values in the row\n",
    "            if non_zero_count == 2:\n",
    "                # Check for negative non-zero values\n",
    "                if any(value < 0 for value in row):\n",
    "                    print(f\"Warning: Negative values found in sample {i}, row: {row}\")\n",
    "\n",
    "                # Compute the bandgap top and bottom\n",
    "                bottom, top  = row[0], row[1]\n",
    "                difference = top - bottom\n",
    "\n",
    "                # Check for non-positive difference\n",
    "                if difference <= 0:\n",
    "                    print(f\"Warning: Non-positive difference in sample {i}, row: {row}\")\n",
    "                    continue  # Move to the next row\n",
    "\n",
    "                # Check if the difference is between 0 and zero_threshold\n",
    "                elif 0 < difference < zero_threshold:\n",
    "                    print(f\"Warning: Bandgap difference below zero_threshold ({zero_threshold}) in sample {i}, row: {row}, ignoring this bandgap.\")\n",
    "                    continue  # Skip this row and move to the next\n",
    "\n",
    "                # Check if the difference is between zero_threshold and warn_threshold\n",
    "                elif zero_threshold <= difference < warn_threshold:\n",
    "                    print(f\"Warning: Small bandgap detected at index {i}, value: {difference:.6f}, still recorded as valid bandgap.\")\n",
    "\n",
    "                # Assign values to bandgap_tops and bandgap_bottoms\n",
    "                bandgap_tops[i] = top\n",
    "                bandgap_bottoms[i] = bottom\n",
    "                valid_pair = True\n",
    "                break  # Exit the loop once a valid row is found\n",
    "            elif non_zero_count == 1:\n",
    "                # Row has a single non-zero value: print a warning\n",
    "                print(f\"Warning: Row with a single non-zero value detected in sample {i}: {row}\")\n",
    "\n",
    "        if not valid_pair:\n",
    "            # No valid row found or all rows had differences below zero_threshold\n",
    "            bandgap_tops[i] = 0\n",
    "            bandgap_bottoms[i] = 0\n",
    "            #print(f\"Bandgap set to 0 for sample {i} due to zero_threshold ({zero_threshold}).\")\n",
    "\n",
    "    non_zero_count = np.count_nonzero(bandgap_tops)\n",
    "    print(f\"Number of non-zero bandgap_tops and bandgap_bottoms: {non_zero_count} out of {n}\")\n",
    "    return bandgap_tops, bandgap_bottoms"
   ],
   "id": "122a78551bb96dcb",
   "outputs": [],
   "execution_count": 24
  },
  {
   "metadata": {
    "ExecuteTime": {
     "end_time": "2025-01-30T17:46:04.914865Z",
     "start_time": "2025-01-30T17:46:04.885729Z"
    }
   },
   "cell_type": "code",
   "source": "bandgap_tops, bandgap_bottoms = extract_bandgap_edges(bandgap_edges)",
   "id": "492a31fa7678c8a5",
   "outputs": [
    {
     "name": "stdout",
     "output_type": "stream",
     "text": [
      "Warning: Bandgap difference below zero_threshold (0.5) in sample 94, row: [1304.58746708 1304.91387773], ignoring this bandgap.\n",
      "Warning: Bandgap difference below zero_threshold (0.5) in sample 192, row: [1099.97150354 1100.33195056], ignoring this bandgap.\n",
      "Warning: Bandgap difference below zero_threshold (0.5) in sample 247, row: [1831.07037222 1831.12266455], ignoring this bandgap.\n",
      "Warning: Small bandgap detected at index 388, value: 0.898440, still recorded as valid bandgap.\n",
      "Warning: Bandgap difference below zero_threshold (0.5) in sample 410, row: [976.94812014 977.1246659 ], ignoring this bandgap.\n",
      "Warning: Small bandgap detected at index 570, value: 0.996785, still recorded as valid bandgap.\n",
      "Warning: Small bandgap detected at index 754, value: 0.889946, still recorded as valid bandgap.\n",
      "Warning: Bandgap difference below zero_threshold (0.5) in sample 832, row: [1937.91070662 1938.18073007], ignoring this bandgap.\n",
      "Warning: Small bandgap detected at index 888, value: 0.761424, still recorded as valid bandgap.\n",
      "Warning: Bandgap difference below zero_threshold (0.5) in sample 956, row: [844.6591645  845.01044653], ignoring this bandgap.\n",
      "Warning: Small bandgap detected at index 962, value: 0.566903, still recorded as valid bandgap.\n",
      "Warning: Small bandgap detected at index 1283, value: 0.758069, still recorded as valid bandgap.\n",
      "Warning: Small bandgap detected at index 1340, value: 0.989582, still recorded as valid bandgap.\n",
      "Warning: Bandgap difference below zero_threshold (0.5) in sample 1358, row: [1532.75369612 1532.9262128 ], ignoring this bandgap.\n",
      "Warning: Bandgap difference below zero_threshold (0.5) in sample 1421, row: [1481.6589974  1481.77963048], ignoring this bandgap.\n",
      "Warning: Bandgap difference below zero_threshold (0.5) in sample 1534, row: [597.35635221 597.67355574], ignoring this bandgap.\n",
      "Warning: Small bandgap detected at index 1711, value: 0.991714, still recorded as valid bandgap.\n",
      "Warning: Small bandgap detected at index 1876, value: 0.790107, still recorded as valid bandgap.\n",
      "Warning: Bandgap difference below zero_threshold (0.5) in sample 2100, row: [683.73317626 684.14944915], ignoring this bandgap.\n",
      "Warning: Bandgap difference below zero_threshold (0.5) in sample 2130, row: [930.33548508 930.35696432], ignoring this bandgap.\n",
      "Warning: Bandgap difference below zero_threshold (0.5) in sample 2149, row: [1075.98077338 1076.47546774], ignoring this bandgap.\n",
      "Warning: Bandgap difference below zero_threshold (0.5) in sample 2159, row: [1529.23473839 1529.24823584], ignoring this bandgap.\n",
      "Warning: Bandgap difference below zero_threshold (0.5) in sample 2243, row: [1471.54618554 1471.77257062], ignoring this bandgap.\n",
      "Warning: Bandgap difference below zero_threshold (0.5) in sample 2306, row: [686.19625423 686.32200889], ignoring this bandgap.\n",
      "Warning: Bandgap difference below zero_threshold (0.5) in sample 2476, row: [955.70660372 955.95638539], ignoring this bandgap.\n",
      "Warning: Bandgap difference below zero_threshold (0.5) in sample 2492, row: [1452.27801921 1452.7420987 ], ignoring this bandgap.\n",
      "Warning: Small bandgap detected at index 2554, value: 0.962389, still recorded as valid bandgap.\n",
      "Warning: Bandgap difference below zero_threshold (0.5) in sample 2780, row: [1091.83034012 1091.90111523], ignoring this bandgap.\n",
      "Warning: Small bandgap detected at index 2889, value: 0.726396, still recorded as valid bandgap.\n",
      "Warning: Bandgap difference below zero_threshold (0.5) in sample 2940, row: [968.26972073 968.29160916], ignoring this bandgap.\n",
      "Warning: Bandgap difference below zero_threshold (0.5) in sample 2963, row: [772.23023363 772.59860449], ignoring this bandgap.\n",
      "Warning: Bandgap difference below zero_threshold (0.5) in sample 3058, row: [940.64996071 940.78644668], ignoring this bandgap.\n",
      "Warning: Small bandgap detected at index 3337, value: 0.860082, still recorded as valid bandgap.\n",
      "Warning: Small bandgap detected at index 3350, value: 0.851044, still recorded as valid bandgap.\n",
      "Warning: Bandgap difference below zero_threshold (0.5) in sample 3398, row: [902.62778909 902.90343305], ignoring this bandgap.\n",
      "Warning: Bandgap difference below zero_threshold (0.5) in sample 3411, row: [762.48141307 762.72749896], ignoring this bandgap.\n",
      "Warning: Bandgap difference below zero_threshold (0.5) in sample 3527, row: [1685.84182596 1686.27176319], ignoring this bandgap.\n",
      "Warning: Small bandgap detected at index 3609, value: 0.575054, still recorded as valid bandgap.\n",
      "Warning: Small bandgap detected at index 3633, value: 0.633340, still recorded as valid bandgap.\n",
      "Warning: Bandgap difference below zero_threshold (0.5) in sample 3656, row: [1147.06347326 1147.38826973], ignoring this bandgap.\n",
      "Warning: Bandgap difference below zero_threshold (0.5) in sample 3725, row: [1862.24955696 1862.32500807], ignoring this bandgap.\n",
      "Warning: Bandgap difference below zero_threshold (0.5) in sample 3804, row: [1011.68786137 1012.06869304], ignoring this bandgap.\n",
      "Warning: Small bandgap detected at index 3851, value: 0.766018, still recorded as valid bandgap.\n",
      "Warning: Small bandgap detected at index 3890, value: 0.752527, still recorded as valid bandgap.\n",
      "Warning: Bandgap difference below zero_threshold (0.5) in sample 4011, row: [1124.56343094 1124.98558361], ignoring this bandgap.\n",
      "Warning: Small bandgap detected at index 4018, value: 0.594175, still recorded as valid bandgap.\n",
      "Warning: Small bandgap detected at index 4181, value: 0.834112, still recorded as valid bandgap.\n",
      "Warning: Small bandgap detected at index 4242, value: 0.887794, still recorded as valid bandgap.\n",
      "Warning: Small bandgap detected at index 4246, value: 0.514566, still recorded as valid bandgap.\n",
      "Warning: Bandgap difference below zero_threshold (0.5) in sample 4359, row: [973.16865517 973.36044625], ignoring this bandgap.\n",
      "Warning: Bandgap difference below zero_threshold (0.5) in sample 4375, row: [1702.70180561 1702.95967628], ignoring this bandgap.\n",
      "Warning: Small bandgap detected at index 4549, value: 0.793413, still recorded as valid bandgap.\n",
      "Warning: Bandgap difference below zero_threshold (0.5) in sample 4824, row: [987.2969964  987.66060138], ignoring this bandgap.\n",
      "Warning: Small bandgap detected at index 5044, value: 0.700728, still recorded as valid bandgap.\n",
      "Warning: Bandgap difference below zero_threshold (0.5) in sample 5090, row: [1474.87075133 1475.24571511], ignoring this bandgap.\n",
      "Warning: Bandgap difference below zero_threshold (0.5) in sample 5124, row: [1443.12420352 1443.22852972], ignoring this bandgap.\n",
      "Warning: Bandgap difference below zero_threshold (0.5) in sample 5206, row: [1231.87070533 1232.35940241], ignoring this bandgap.\n",
      "Warning: Small bandgap detected at index 5210, value: 0.765820, still recorded as valid bandgap.\n",
      "Warning: Bandgap difference below zero_threshold (0.5) in sample 5221, row: [646.28382549 646.51168485], ignoring this bandgap.\n",
      "Warning: Small bandgap detected at index 5326, value: 0.996674, still recorded as valid bandgap.\n",
      "Warning: Bandgap difference below zero_threshold (0.5) in sample 5441, row: [1084.70136769 1085.03371629], ignoring this bandgap.\n",
      "Warning: Small bandgap detected at index 5493, value: 0.715770, still recorded as valid bandgap.\n",
      "Warning: Bandgap difference below zero_threshold (0.5) in sample 5719, row: [953.48101634 953.81670159], ignoring this bandgap.\n",
      "Warning: Small bandgap detected at index 5765, value: 0.554525, still recorded as valid bandgap.\n",
      "Warning: Bandgap difference below zero_threshold (0.5) in sample 5802, row: [963.70544012 963.93608334], ignoring this bandgap.\n",
      "Warning: Bandgap difference below zero_threshold (0.5) in sample 5806, row: [903.7192086  903.91181073], ignoring this bandgap.\n",
      "Warning: Small bandgap detected at index 5846, value: 0.828100, still recorded as valid bandgap.\n",
      "Warning: Bandgap difference below zero_threshold (0.5) in sample 5891, row: [1117.96690077 1118.30768733], ignoring this bandgap.\n",
      "Warning: Bandgap difference below zero_threshold (0.5) in sample 5981, row: [1680.10019999 1680.13546141], ignoring this bandgap.\n",
      "Warning: Small bandgap detected at index 6122, value: 0.903536, still recorded as valid bandgap.\n",
      "Warning: Small bandgap detected at index 6142, value: 0.840362, still recorded as valid bandgap.\n",
      "Warning: Bandgap difference below zero_threshold (0.5) in sample 6169, row: [1233.09774413 1233.12917028], ignoring this bandgap.\n",
      "Warning: Bandgap difference below zero_threshold (0.5) in sample 6314, row: [1088.40269983 1088.87957307], ignoring this bandgap.\n",
      "Warning: Bandgap difference below zero_threshold (0.5) in sample 6348, row: [1430.07580331 1430.32934949], ignoring this bandgap.\n",
      "Warning: Bandgap difference below zero_threshold (0.5) in sample 6750, row: [2053.56700163 2053.63735574], ignoring this bandgap.\n",
      "Warning: Bandgap difference below zero_threshold (0.5) in sample 6837, row: [1190.18474045 1190.58982828], ignoring this bandgap.\n",
      "Warning: Bandgap difference below zero_threshold (0.5) in sample 6899, row: [1566.63525867 1566.75084561], ignoring this bandgap.\n",
      "Warning: Small bandgap detected at index 7017, value: 0.825856, still recorded as valid bandgap.\n",
      "Warning: Small bandgap detected at index 7060, value: 0.677910, still recorded as valid bandgap.\n",
      "Warning: Small bandgap detected at index 7157, value: 0.678188, still recorded as valid bandgap.\n",
      "Warning: Small bandgap detected at index 7200, value: 0.858037, still recorded as valid bandgap.\n",
      "Warning: Bandgap difference below zero_threshold (0.5) in sample 7205, row: [1379.79672993 1380.20932754], ignoring this bandgap.\n",
      "Warning: Bandgap difference below zero_threshold (0.5) in sample 7306, row: [1113.40316707 1113.62851257], ignoring this bandgap.\n",
      "Warning: Small bandgap detected at index 7314, value: 0.773273, still recorded as valid bandgap.\n",
      "Warning: Bandgap difference below zero_threshold (0.5) in sample 7389, row: [1836.19058267 1836.49043786], ignoring this bandgap.\n",
      "Warning: Bandgap difference below zero_threshold (0.5) in sample 7399, row: [1424.45958402 1424.67279612], ignoring this bandgap.\n",
      "Warning: Bandgap difference below zero_threshold (0.5) in sample 7522, row: [1234.13542279 1234.40290687], ignoring this bandgap.\n",
      "Warning: Bandgap difference below zero_threshold (0.5) in sample 7556, row: [1376.42215625 1376.89320222], ignoring this bandgap.\n",
      "Warning: Small bandgap detected at index 7603, value: 0.707757, still recorded as valid bandgap.\n",
      "Warning: Bandgap difference below zero_threshold (0.5) in sample 7639, row: [1124.34596668 1124.50926728], ignoring this bandgap.\n",
      "Warning: Bandgap difference below zero_threshold (0.5) in sample 7650, row: [1208.1286359  1208.18108405], ignoring this bandgap.\n",
      "Warning: Small bandgap detected at index 7957, value: 0.588454, still recorded as valid bandgap.\n",
      "Warning: Small bandgap detected at index 8029, value: 0.750228, still recorded as valid bandgap.\n",
      "Warning: Small bandgap detected at index 8130, value: 0.513617, still recorded as valid bandgap.\n",
      "Warning: Small bandgap detected at index 8210, value: 0.993351, still recorded as valid bandgap.\n",
      "Warning: Small bandgap detected at index 8227, value: 0.572449, still recorded as valid bandgap.\n",
      "Warning: Small bandgap detected at index 8432, value: 0.535926, still recorded as valid bandgap.\n",
      "Warning: Bandgap difference below zero_threshold (0.5) in sample 8876, row: [1300.17989336 1300.27863735], ignoring this bandgap.\n",
      "Warning: Bandgap difference below zero_threshold (0.5) in sample 8980, row: [1189.71992018 1190.18746899], ignoring this bandgap.\n",
      "Warning: Small bandgap detected at index 9123, value: 0.883170, still recorded as valid bandgap.\n",
      "Warning: Bandgap difference below zero_threshold (0.5) in sample 9247, row: [873.9439184  874.04156532], ignoring this bandgap.\n",
      "Warning: Small bandgap detected at index 9309, value: 0.692502, still recorded as valid bandgap.\n",
      "Warning: Small bandgap detected at index 9333, value: 0.675301, still recorded as valid bandgap.\n",
      "Warning: Bandgap difference below zero_threshold (0.5) in sample 9351, row: [908.2272031  908.66321298], ignoring this bandgap.\n",
      "Warning: Bandgap difference below zero_threshold (0.5) in sample 9470, row: [1303.29925946 1303.4833785 ], ignoring this bandgap.\n",
      "Warning: Bandgap difference below zero_threshold (0.5) in sample 9550, row: [1111.34646895 1111.67855826], ignoring this bandgap.\n",
      "Warning: Bandgap difference below zero_threshold (0.5) in sample 9710, row: [606.62321887 606.94384619], ignoring this bandgap.\n",
      "Warning: Small bandgap detected at index 9823, value: 0.777026, still recorded as valid bandgap.\n",
      "Warning: Bandgap difference below zero_threshold (0.5) in sample 9926, row: [971.09328818 971.47930137], ignoring this bandgap.\n",
      "Number of non-zero bandgap_tops and bandgap_bottoms: 8338 out of 10000\n"
     ]
    }
   ],
   "execution_count": 25
  },
  {
   "metadata": {
    "ExecuteTime": {
     "end_time": "2025-01-30T17:46:05.008143Z",
     "start_time": "2025-01-30T17:46:04.939860Z"
    }
   },
   "cell_type": "code",
   "source": "plot_sample_geometry(designs, bandgap_tops, bandgap_bottoms, index=0)",
   "id": "42f09f63666d1110",
   "outputs": [
    {
     "data": {
      "text/plain": [
       "<Figure size 600x600 with 2 Axes>"
      ],
      "image/png": "[encoded data removed]"
     },
     "metadata": {},
     "output_type": "display_data"
    }
   ],
   "execution_count": 26
  },
  {
   "metadata": {
    "ExecuteTime": {
     "end_time": "2025-01-30T17:46:05.034185Z",
     "start_time": "2025-01-30T17:46:05.025075Z"
    }
   },
   "cell_type": "code",
   "source": [
    "class UNetWithTimeAndBandgap(nn.Module):\n",
    "    \"\"\"\n",
    "    U-Net implementation with scalar timestep and bandgap conditioning for diffusion modeling.\n",
    "    \"\"\"\n",
    "    def __init__(self, input_channels, output_channels, time_embedding_dim, condition_dim, debug=False):\n",
    "        \"\"\"\n",
    "        Initialize the U-Net model.\n",
    "\n",
    "        Args:\n",
    "        - input_channels (int): Number of input channels (e.g., 1 for geometry images).\n",
    "        - output_channels (int): Number of output channels.\n",
    "        - time_embedding_dim (int): Dimensionality of timestep embedding.\n",
    "        - condition_dim (int): Dimensionality of bandgap condition embedding.\n",
    "        - debug (bool): Whether to print debugging information about tensor shapes.\n",
    "        \"\"\"\n",
    "        super(UNetWithTimeAndBandgap, self).__init__()\n",
    "        self.debug = debug  # Debug flag to control print statements\n",
    "\n",
    "        # Time embedding layer\n",
    "        self.time_embedding = nn.Sequential(\n",
    "            nn.Linear(1, time_embedding_dim),  # Scalar t to vector\n",
    "            nn.ReLU(),\n",
    "            nn.Linear(time_embedding_dim, time_embedding_dim)\n",
    "        )\n",
    "\n",
    "        # Bandgap condition embedding layer\n",
    "        self.bandgap_embedding = nn.Sequential(\n",
    "            nn.Linear(2, condition_dim),  # Two bandgap values (top, bottom)\n",
    "            nn.ReLU(),\n",
    "            nn.Linear(condition_dim, condition_dim)\n",
    "        )\n",
    "\n",
    "        # Encoder\n",
    "        self.enc1 = self.conv_block(input_channels, 64)  # (B, C, H, W) -> (B, 64, H, W)\n",
    "        self.enc2 = self.conv_block(64, 128)            # (B, 64, H/2, W/2) -> (B, 128, H/2, W/2)\n",
    "        self.enc3 = self.conv_block(128, 256)           # (B, 128, H/4, W/4) -> (B, 256, H/4, W/4)\n",
    "        self.enc4 = self.conv_block(256, 512)           # (B, 256, H/8, W/8) -> (B, 512, H/8, W/8)\n",
    "\n",
    "        # Bottleneck\n",
    "        self.bottleneck = self.conv_block(512, 1024)    # (B, 512, H/16, W/16) -> (B, 1024, H/16, W/16)\n",
    "\n",
    "        # Decoder\n",
    "        self.upconv4 = self.upconv(1024, 512)           # (B, 1024, H/16, W/16) -> (B, 512, H/8, W/8)\n",
    "        self.dec4 = self.conv_block(1024, 512)          # (B, 1024, H/8, W/8) -> (B, 512, H/8, W/8)\n",
    "\n",
    "        self.upconv3 = self.upconv(512, 256)            # (B, 512, H/8, W/8) -> (B, 256, H/4, W/4)\n",
    "        self.dec3 = self.conv_block(512, 256)           # (B, 512, H/4, W/4) -> (B, 256, H/4, W/4)\n",
    "\n",
    "        self.upconv2 = self.upconv(256, 128)            # (B, 256, H/4, W/4) -> (B, 128, H/2, W/2)\n",
    "        self.dec2 = self.conv_block(256, 128)           # (B, 256, H/2, W/2) -> (B, 128, H/2, W/2)\n",
    "\n",
    "        self.upconv1 = self.upconv(128, 64)             # (B, 128, H/2, W/2) -> (B, 64, H, W)\n",
    "        self.dec1 = self.conv_block(128, 64)            # (B, 128, H, W) -> (B, 64, H, W)\n",
    "\n",
    "        # Final output layer\n",
    "        self.final_conv = nn.Conv2d(64, output_channels, kernel_size=1)  # (B, 64, H, W) -> (B, output_channels, H, W)\n",
    "\n",
    "        self.embedding_projection = nn.Linear(time_embedding_dim, 1024)  # Match bottleneck channels\n",
    "\n",
    "    def conv_block(self, in_channels, out_channels):\n",
    "        \"\"\"A convolutional block with two convolutional layers followed by ReLU activations.\"\"\"\n",
    "        return nn.Sequential(\n",
    "            nn.Conv2d(in_channels, out_channels, kernel_size=3, padding=1),\n",
    "            nn.ReLU(inplace=True),\n",
    "            nn.Conv2d(out_channels, out_channels, kernel_size=3, padding=1),\n",
    "            nn.ReLU(inplace=True)\n",
    "        )\n",
    "\n",
    "    def upconv(self, in_channels, out_channels):\n",
    "        \"\"\"An upconvolution (transposed convolution) layer for upsampling.\"\"\"\n",
    "        return nn.ConvTranspose2d(in_channels, out_channels, kernel_size=2, stride=2)\n",
    "\n",
    "    def debug_print(self, name, tensor):\n",
    "        \"\"\"Utility function to print tensor shapes if debugging is enabled.\"\"\"\n",
    "        if self.debug:\n",
    "            print(f\"{name} shape: {tensor.shape}\")\n",
    "\n",
    "    def forward(self, x, t, bandgap):\n",
    "        # Embeddings\n",
    "        t = t.unsqueeze(-1)  # (B, 1) -> (B, 1, 1)\n",
    "        t_emb = self.time_embedding(t)  # (B, 1, 1) -> (B, time_embedding_dim)\n",
    "        self.debug_print(\"t_emb\", t_emb)\n",
    "\n",
    "        bandgap_emb = self.bandgap_embedding(bandgap)  # (B, 2) -> (B, condition_dim)\n",
    "        self.debug_print(\"bandgap_emb\", bandgap_emb)\n",
    "\n",
    "        combined_emb = t_emb + bandgap_emb  # Element-wise addition (B, time_embedding_dim)\n",
    "        self.debug_print(\"combined_emb\", combined_emb)\n",
    "\n",
    "        # Encoder\n",
    "        enc1 = self.enc1(x)  # (B, input_channels, H, W) -> (B, 64, H, W)\n",
    "        self.debug_print(\"enc1\", enc1)\n",
    "\n",
    "        enc2 = self.enc2(F.max_pool2d(enc1, 2))  # (B, 64, H, W) -> (B, 128, H/2, W/2)\n",
    "        self.debug_print(\"enc2\", enc2)\n",
    "\n",
    "        enc3 = self.enc3(F.max_pool2d(enc2, 2))  # (B, 128, H/2, W/2) -> (B, 256, H/4, W/4)\n",
    "        self.debug_print(\"enc3\", enc3)\n",
    "\n",
    "        enc4 = self.enc4(F.max_pool2d(enc3, 2))  # (B, 256, H/4, W/4) -> (B, 512, H/8, W/8)\n",
    "        self.debug_print(\"enc4\", enc4)\n",
    "\n",
    "        # Bottleneck\n",
    "        bottleneck = self.bottleneck(F.max_pool2d(enc4, 2))  # (B, 512, H/8, W/8) -> (B, 1024, H/16, W/16)\n",
    "        self.debug_print(\"bottleneck\", bottleneck)\n",
    "\n",
    "        projected_emb = self.embedding_projection(combined_emb)  # (B, time_embedding_dim) -> (B, 1024)\n",
    "        self.debug_print(\"projected_emb (before view)\", projected_emb)\n",
    "\n",
    "        projected_emb = projected_emb.view(projected_emb.size(0), -1, 1, 1)  # (B, 1024) -> (B, 1024, 1, 1)\n",
    "        self.debug_print(\"projected_emb (after view)\", projected_emb)\n",
    "\n",
    "        projected_emb = projected_emb.expand(-1, -1, bottleneck.size(2), bottleneck.size(3))  # Match bottleneck dims\n",
    "        self.debug_print(\"projected_emb (after expand)\", projected_emb)\n",
    "\n",
    "        bottleneck = bottleneck + projected_emb  # (B, 1024, H/16, W/16)\n",
    "        self.debug_print(\"bottleneck (after addition)\", bottleneck)\n",
    "\n",
    "        # Decoder\n",
    "        up4 = self.upconv4(bottleneck)  # (B, 1024, H/16, W/16) -> (B, 512, H/8, W/8)\n",
    "        self.debug_print(\"up4\", up4)\n",
    "\n",
    "        dec4 = self.dec4(torch.cat((up4, enc4), dim=1))  # (B, 1024, H/8, W/8) -> (B, 512, H/8, W/8)\n",
    "        self.debug_print(\"dec4\", dec4)\n",
    "\n",
    "        up3 = self.upconv3(dec4)  # (B, 512, H/8, W/8) -> (B, 256, H/4, W/4)\n",
    "        self.debug_print(\"up3\", up3)\n",
    "\n",
    "        dec3 = self.dec3(torch.cat((up3, enc3), dim=1))  # (B, 512, H/4, W/4) -> (B, 256, H/4, W/4)\n",
    "        self.debug_print(\"dec3\", dec3)\n",
    "\n",
    "        up2 = self.upconv2(dec3)  # (B, 256, H/4, W/4) -> (B, 128, H/2, W/2)\n",
    "        self.debug_print(\"up2\", up2)\n",
    "\n",
    "        dec2 = self.dec2(torch.cat((up2, enc2), dim=1))  # (B, 256, H/2, W/2) -> (B, 128, H/2, W/2)\n",
    "        self.debug_print(\"dec2\", dec2)\n",
    "\n",
    "        up1 = self.upconv1(dec2)  # (B, 128, H/2, W/2) -> (B, 64, H, W)\n",
    "        self.debug_print(\"up1\", up1)\n",
    "\n",
    "        dec1 = self.dec1(torch.cat((up1, enc1), dim=1))  # (B, 128, H, W) -> (B, 64, H, W)\n",
    "        self.debug_print(\"dec1\", dec1)\n",
    "\n",
    "        final_output = self.final_conv(dec1)  # (B, 64, H, W) -> (B, output_channels, H, W)\n",
    "        self.debug_print(\"final_output\", final_output)\n",
    "\n",
    "        return final_output"
   ],
   "id": "e249e8d5b4e31104",
   "outputs": [],
   "execution_count": 27
  },
  {
   "metadata": {
    "ExecuteTime": {
     "end_time": "2025-01-30T17:46:05.046111Z",
     "start_time": "2025-01-30T17:46:05.037189Z"
    }
   },
   "cell_type": "code",
   "source": [
    "# Define the forward diffusion process\n",
    "def forward_diffusion_sample(x_0, t, noise=None):\n",
    "    \"\"\"\n",
    "    Add Gaussian noise to input images based on the timestep.\n",
    "    Args:\n",
    "    - x_0 (torch.Tensor): Clean input images of shape (batch, channels, H, W).\n",
    "    - t (torch.Tensor): Timestep scalar tensor of shape (batch,).\n",
    "    - noise (torch.Tensor): Optional noise to add; otherwise, sampled from normal distribution.\n",
    "    Returns:\n",
    "    - x_t: Noisy image at timestep t.\n",
    "    - noise: The added noise.\n",
    "    \"\"\"\n",
    "    if noise is None:\n",
    "        noise = torch.randn_like(x_0)  # Generate Gaussian noise\n",
    "    alpha_t = (1 - t / t.max()).view(-1, 1, 1, 1)  # Linearly decreasing variance schedule\n",
    "    x_t = alpha_t * x_0 + (1 - alpha_t) * noise  # Add noise proportional to alpha_t\n",
    "    return x_t, noise\n",
    "\n",
    "# Training function\n",
    "def train_diffusion_model(\n",
    "        model,\n",
    "        train_dataloader,\n",
    "        val_dataloader,\n",
    "        num_timesteps=1000,\n",
    "        epochs=20,\n",
    "        device=\"cuda\",\n",
    "        output_folder=\"./models\",\n",
    "        save_intermediates=False,\n",
    "        track_losses=True,\n",
    "):\n",
    "    \"\"\"\n",
    "    Train the diffusion model with optional intermediate model saving and loss tracking.\n",
    "    \"\"\"\n",
    "    optimizer = optim.AdamW(model.parameters(), lr=1e-4, weight_decay=1e-2)\n",
    "    criterion = nn.MSELoss()\n",
    "\n",
    "    device = torch.device(device)\n",
    "    model.to(device)\n",
    "    model.train()\n",
    "\n",
    "    # Create output folder if it doesn't exist\n",
    "    os.makedirs(output_folder, exist_ok=True)\n",
    "\n",
    "    # Initialize lists to track losses\n",
    "    training_losses = []\n",
    "    validation_losses = []\n",
    "\n",
    "    for epoch in range(epochs):\n",
    "        model.train()  # Set model to training mode\n",
    "        epoch_train_loss = 0\n",
    "        with tqdm(train_dataloader, desc=f\"Epoch {epoch + 1}/{epochs} [Train]\") as pbar:\n",
    "            for batch in pbar:\n",
    "                images, bandgap_tops, bandgap_bottoms = batch\n",
    "                images = images.to(device)\n",
    "                bandgap_tops = bandgap_tops.to(device)\n",
    "                bandgap_bottoms = bandgap_bottoms.to(device)\n",
    "\n",
    "                # Ensure images have the correct channel dimension\n",
    "                if images.ndim == 3:\n",
    "                    images = images.unsqueeze(1)\n",
    "\n",
    "                # Combine bandgap_tops and bandgap_bottoms into a single tensor\n",
    "                bandgap_conditions = torch.stack([bandgap_tops, bandgap_bottoms], dim=1)\n",
    "\n",
    "                # Sample random timesteps for the batch\n",
    "                timesteps = torch.randint(1, num_timesteps + 1, (images.size(0),), device=device).float()\n",
    "\n",
    "                # Forward diffusion process (add noise)\n",
    "                noisy_images, noise = forward_diffusion_sample(images, timesteps)\n",
    "\n",
    "                # Predict noise from the noisy images\n",
    "                predicted_noise = model(noisy_images, timesteps, bandgap_conditions)\n",
    "\n",
    "                # Compute loss\n",
    "                loss = criterion(predicted_noise, noise)\n",
    "\n",
    "                # Backpropagation\n",
    "                optimizer.zero_grad()\n",
    "                loss.backward()\n",
    "                optimizer.step()\n",
    "\n",
    "                # Update TQDM progress bar\n",
    "                epoch_train_loss += loss.item()\n",
    "                pbar.set_postfix(loss=loss.item())\n",
    "\n",
    "        avg_train_loss = epoch_train_loss / len(train_dataloader)\n",
    "        training_losses.append(avg_train_loss)\n",
    "\n",
    "        # Validation Loss\n",
    "        model.eval()  # Set model to evaluation mode\n",
    "        epoch_val_loss = 0\n",
    "        with torch.no_grad():\n",
    "            with tqdm(val_dataloader, desc=f\"Epoch {epoch + 1}/{epochs} [Validation]\") as pbar:\n",
    "                for batch in pbar:\n",
    "                    images, bandgap_tops, bandgap_bottoms = batch\n",
    "                    images = images.to(device)\n",
    "                    bandgap_tops = bandgap_tops.to(device)\n",
    "                    bandgap_bottoms = bandgap_bottoms.to(device)\n",
    "\n",
    "                    if images.ndim == 3:\n",
    "                        images = images.unsqueeze(1)\n",
    "\n",
    "                    bandgap_conditions = torch.stack([bandgap_tops, bandgap_bottoms], dim=1)\n",
    "                    timesteps = torch.randint(1, num_timesteps + 1, (images.size(0),), device=device).float()\n",
    "                    noisy_images, noise = forward_diffusion_sample(images, timesteps)\n",
    "                    predicted_noise = model(noisy_images, timesteps, bandgap_conditions)\n",
    "                    val_loss = criterion(predicted_noise, noise)\n",
    "                    epoch_val_loss += val_loss.item()\n",
    "                    pbar.set_postfix(val_loss=val_loss.item())\n",
    "\n",
    "        avg_val_loss = epoch_val_loss / len(val_dataloader)\n",
    "        validation_losses.append(avg_val_loss)\n",
    "\n",
    "        print(f\"Epoch {epoch + 1}/{epochs}, Train Loss: {avg_train_loss:.6f}, Validation Loss: {avg_val_loss:.6f}\")\n",
    "\n",
    "        # Save model checkpoint\n",
    "        if save_intermediates:\n",
    "            model_path = os.path.join(output_folder, f\"model_epoch_{epoch + 1}.pth\")\n",
    "            torch.save(model.state_dict(), model_path)\n",
    "            print(f\"Saved intermediate model to {model_path}\")\n",
    "\n",
    "    # Save the final model\n",
    "    final_model_path = os.path.join(output_folder, \"model_final.pth\")\n",
    "    torch.save(model.state_dict(), final_model_path)\n",
    "    print(f\"Saved final model to {final_model_path}\")\n",
    "\n",
    "    # Track losses\n",
    "    if track_losses:\n",
    "        # Save losses to CSV\n",
    "        losses_csv_path = os.path.join(output_folder, \"losses.csv\")\n",
    "        with open(losses_csv_path, \"w\", newline=\"\") as csvfile:\n",
    "            writer = csv.writer(csvfile)\n",
    "            writer.writerow([\"Epoch\", \"Train Loss\", \"Validation Loss\"])\n",
    "            for epoch, (train_loss, val_loss) in enumerate(zip(training_losses, validation_losses), start=1):\n",
    "                writer.writerow([epoch, train_loss, val_loss])\n",
    "        print(f\"Saved losses to {losses_csv_path}\")\n",
    "\n",
    "        # Plot losses\n",
    "        plt.figure(figsize=(10, 6))\n",
    "        plt.plot(range(1, epochs + 1), training_losses, label=\"Training Loss\")\n",
    "        plt.plot(range(1, epochs + 1), validation_losses, label=\"Validation Loss\")\n",
    "        plt.xlabel(\"Epochs\")\n",
    "        plt.ylabel(\"Loss\")\n",
    "        plt.title(\"Training and Validation Loss Over Epochs\")\n",
    "        plt.legend()\n",
    "        plt.grid(True)\n",
    "        plt_path = os.path.join(output_folder, \"loss_plot.png\")\n",
    "        plt.savefig(plt_path)\n",
    "        print(f\"Saved loss plot to {plt_path}\")\n",
    "        plt.show()"
   ],
   "id": "9b218521dc684589",
   "outputs": [],
   "execution_count": 28
  },
  {
   "metadata": {
    "ExecuteTime": {
     "end_time": "2025-01-30T17:46:05.070599Z",
     "start_time": "2025-01-30T17:46:05.059681Z"
    }
   },
   "cell_type": "code",
   "source": [
    "# Create Dataset\n",
    "batch_size = 256\n",
    "images = torch.tensor(designs, dtype=torch.float32)\n",
    "bandgap_tops = torch.tensor(bandgap_tops, dtype=torch.float32)\n",
    "bandgap_bottoms = torch.tensor(bandgap_bottoms, dtype=torch.float32)\n",
    "\n",
    "dataset = TensorDataset(images, bandgap_tops, bandgap_bottoms)\n",
    "\n",
    "# Split into training and validation sets (80-20 split)\n",
    "train_size = int(0.8 * len(dataset))\n",
    "val_size = len(dataset) - train_size\n",
    "train_dataset, val_dataset = random_split(dataset, [train_size, val_size])\n",
    "\n",
    "# Create DataLoaders\n",
    "train_dataloader = DataLoader(train_dataset, batch_size=batch_size, shuffle=True)\n",
    "val_dataloader = DataLoader(val_dataset, batch_size=batch_size, shuffle=False)"
   ],
   "id": "65014772c8b1f499",
   "outputs": [],
   "execution_count": 29
  },
  {
   "metadata": {
    "ExecuteTime": {
     "end_time": "2025-01-30T17:46:05.170515Z",
     "start_time": "2025-01-30T17:46:05.082887Z"
    }
   },
   "cell_type": "code",
   "source": [
    "# Initialize the model\n",
    "input_channels = 1  # Single channel for geometry images\n",
    "output_channels = 1  # Single channel for noise prediction\n",
    "time_embedding_dim = 128  # Dimensionality of timestep embedding\n",
    "condition_dim = 128  # Dimensionality of bandgap condition embedding\n",
    "\n",
    "model = UNetWithTimeAndBandgap(\n",
    "    input_channels=input_channels, \n",
    "    output_channels=output_channels, \n",
    "    time_embedding_dim=time_embedding_dim, \n",
    "    condition_dim=condition_dim\n",
    ")"
   ],
   "id": "184813673daa6dbc",
   "outputs": [],
   "execution_count": 30
  },
  {
   "metadata": {
    "ExecuteTime": {
     "end_time": "2025-01-30T17:46:44.616892Z",
     "start_time": "2025-01-30T17:46:05.192454Z"
    }
   },
   "cell_type": "code",
   "source": [
    "# Get a timestamp for the training session\n",
    "training_timestamp = datetime.now().strftime(\"%Y%m%d_%H%M%S\")\n",
    "\n",
    "# Define the output folder\n",
    "output_folder = os.path.join(\"./diffusion_models\", training_timestamp)\n",
    "\n",
    "# Train the model\n",
    "train_diffusion_model(\n",
    "    model,\n",
    "    train_dataloader,\n",
    "    val_dataloader,\n",
    "    num_timesteps=200,\n",
    "    epochs=20,\n",
    "    device=\"cuda\",\n",
    "    output_folder=output_folder,\n",
    "    save_intermediates=True,\n",
    "    track_losses=True,\n",
    ")"
   ],
   "id": "acacb4b14816c492",
   "outputs": [
    {
     "name": "stderr",
     "output_type": "stream",
     "text": [
      "Epoch 1/20 [Train]: 100%|██████████| 32/32 [00:01<00:00, 17.20it/s, loss=0.721]\n",
      "Epoch 1/20 [Validation]: 100%|██████████| 8/8 [00:00<00:00, 55.35it/s, val_loss=0.701]\n"
     ]
    },
    {
     "name": "stdout",
     "output_type": "stream",
     "text": [
      "Epoch 1/20, Train Loss: 0.904748, Validation Loss: 0.704682\n",
      "Saved intermediate model to ./diffusion_models\\20250130_124605\\model_epoch_1.pth\n"
     ]
    },
    {
     "name": "stderr",
     "output_type": "stream",
     "text": [
      "Epoch 2/20 [Train]: 100%|██████████| 32/32 [00:01<00:00, 18.93it/s, loss=0.335]\n",
      "Epoch 2/20 [Validation]: 100%|██████████| 8/8 [00:00<00:00, 64.25it/s, val_loss=0.3] \n"
     ]
    },
    {
     "name": "stdout",
     "output_type": "stream",
     "text": [
      "Epoch 2/20, Train Loss: 0.453156, Validation Loss: 0.319732\n",
      "Saved intermediate model to ./diffusion_models\\20250130_124605\\model_epoch_2.pth\n"
     ]
    },
    {
     "name": "stderr",
     "output_type": "stream",
     "text": [
      "Epoch 3/20 [Train]: 100%|██████████| 32/32 [00:01<00:00, 18.98it/s, loss=0.25] \n",
      "Epoch 3/20 [Validation]: 100%|██████████| 8/8 [00:00<00:00, 64.19it/s, val_loss=0.299]\n"
     ]
    },
    {
     "name": "stdout",
     "output_type": "stream",
     "text": [
      "Epoch 3/20, Train Loss: 0.294450, Validation Loss: 0.292372\n",
      "Saved intermediate model to ./diffusion_models\\20250130_124605\\model_epoch_3.pth\n"
     ]
    },
    {
     "name": "stderr",
     "output_type": "stream",
     "text": [
      "Epoch 4/20 [Train]: 100%|██████████| 32/32 [00:01<00:00, 19.22it/s, loss=0.213]\n",
      "Epoch 4/20 [Validation]: 100%|██████████| 8/8 [00:00<00:00, 63.98it/s, val_loss=0.242]\n"
     ]
    },
    {
     "name": "stdout",
     "output_type": "stream",
     "text": [
      "Epoch 4/20, Train Loss: 0.260062, Validation Loss: 0.240429\n",
      "Saved intermediate model to ./diffusion_models\\20250130_124605\\model_epoch_4.pth\n"
     ]
    },
    {
     "name": "stderr",
     "output_type": "stream",
     "text": [
      "Epoch 5/20 [Train]: 100%|██████████| 32/32 [00:01<00:00, 17.66it/s, loss=0.189]\n",
      "Epoch 5/20 [Validation]: 100%|██████████| 8/8 [00:00<00:00, 60.37it/s, val_loss=0.254]\n"
     ]
    },
    {
     "name": "stdout",
     "output_type": "stream",
     "text": [
      "Epoch 5/20, Train Loss: 0.233642, Validation Loss: 0.220135\n",
      "Saved intermediate model to ./diffusion_models\\20250130_124605\\model_epoch_5.pth\n"
     ]
    },
    {
     "name": "stderr",
     "output_type": "stream",
     "text": [
      "Epoch 6/20 [Train]: 100%|██████████| 32/32 [00:01<00:00, 18.81it/s, loss=0.189]\n",
      "Epoch 6/20 [Validation]: 100%|██████████| 8/8 [00:00<00:00, 60.37it/s, val_loss=0.224]\n"
     ]
    },
    {
     "name": "stdout",
     "output_type": "stream",
     "text": [
      "Epoch 6/20, Train Loss: 0.214178, Validation Loss: 0.207047\n",
      "Saved intermediate model to ./diffusion_models\\20250130_124605\\model_epoch_6.pth\n"
     ]
    },
    {
     "name": "stderr",
     "output_type": "stream",
     "text": [
      "Epoch 7/20 [Train]: 100%|██████████| 32/32 [00:01<00:00, 18.96it/s, loss=0.144]\n",
      "Epoch 7/20 [Validation]: 100%|██████████| 8/8 [00:00<00:00, 60.36it/s, val_loss=0.208]\n"
     ]
    },
    {
     "name": "stdout",
     "output_type": "stream",
     "text": [
      "Epoch 7/20, Train Loss: 0.195930, Validation Loss: 0.220913\n",
      "Saved intermediate model to ./diffusion_models\\20250130_124605\\model_epoch_7.pth\n"
     ]
    },
    {
     "name": "stderr",
     "output_type": "stream",
     "text": [
      "Epoch 8/20 [Train]: 100%|██████████| 32/32 [00:01<00:00, 18.74it/s, loss=0.179]\n",
      "Epoch 8/20 [Validation]: 100%|██████████| 8/8 [00:00<00:00, 61.70it/s, val_loss=0.187]\n"
     ]
    },
    {
     "name": "stdout",
     "output_type": "stream",
     "text": [
      "Epoch 8/20, Train Loss: 0.195108, Validation Loss: 0.190894\n",
      "Saved intermediate model to ./diffusion_models\\20250130_124605\\model_epoch_8.pth\n"
     ]
    },
    {
     "name": "stderr",
     "output_type": "stream",
     "text": [
      "Epoch 9/20 [Train]: 100%|██████████| 32/32 [00:01<00:00, 18.92it/s, loss=0.206]\n",
      "Epoch 9/20 [Validation]: 100%|██████████| 8/8 [00:00<00:00, 60.90it/s, val_loss=0.187]\n"
     ]
    },
    {
     "name": "stdout",
     "output_type": "stream",
     "text": [
      "Epoch 9/20, Train Loss: 0.185755, Validation Loss: 0.179688\n",
      "Saved intermediate model to ./diffusion_models\\20250130_124605\\model_epoch_9.pth\n"
     ]
    },
    {
     "name": "stderr",
     "output_type": "stream",
     "text": [
      "Epoch 10/20 [Train]: 100%|██████████| 32/32 [00:01<00:00, 18.96it/s, loss=0.177]\n",
      "Epoch 10/20 [Validation]: 100%|██████████| 8/8 [00:00<00:00, 60.14it/s, val_loss=0.158]\n"
     ]
    },
    {
     "name": "stdout",
     "output_type": "stream",
     "text": [
      "Epoch 10/20, Train Loss: 0.184121, Validation Loss: 0.172859\n",
      "Saved intermediate model to ./diffusion_models\\20250130_124605\\model_epoch_10.pth\n"
     ]
    },
    {
     "name": "stderr",
     "output_type": "stream",
     "text": [
      "Epoch 11/20 [Train]: 100%|██████████| 32/32 [00:01<00:00, 18.92it/s, loss=0.185]\n",
      "Epoch 11/20 [Validation]: 100%|██████████| 8/8 [00:00<00:00, 60.40it/s, val_loss=0.228]\n"
     ]
    },
    {
     "name": "stdout",
     "output_type": "stream",
     "text": [
      "Epoch 11/20, Train Loss: 0.177814, Validation Loss: 0.193546\n",
      "Saved intermediate model to ./diffusion_models\\20250130_124605\\model_epoch_11.pth\n"
     ]
    },
    {
     "name": "stderr",
     "output_type": "stream",
     "text": [
      "Epoch 12/20 [Train]: 100%|██████████| 32/32 [00:01<00:00, 18.97it/s, loss=0.18] \n",
      "Epoch 12/20 [Validation]: 100%|██████████| 8/8 [00:00<00:00, 60.37it/s, val_loss=0.212]\n"
     ]
    },
    {
     "name": "stdout",
     "output_type": "stream",
     "text": [
      "Epoch 12/20, Train Loss: 0.176736, Validation Loss: 0.185249\n",
      "Saved intermediate model to ./diffusion_models\\20250130_124605\\model_epoch_12.pth\n"
     ]
    },
    {
     "name": "stderr",
     "output_type": "stream",
     "text": [
      "Epoch 13/20 [Train]: 100%|██████████| 32/32 [00:01<00:00, 18.87it/s, loss=0.169]\n",
      "Epoch 13/20 [Validation]: 100%|██████████| 8/8 [00:00<00:00, 62.22it/s, val_loss=0.151]\n"
     ]
    },
    {
     "name": "stdout",
     "output_type": "stream",
     "text": [
      "Epoch 13/20, Train Loss: 0.175811, Validation Loss: 0.167634\n",
      "Saved intermediate model to ./diffusion_models\\20250130_124605\\model_epoch_13.pth\n"
     ]
    },
    {
     "name": "stderr",
     "output_type": "stream",
     "text": [
      "Epoch 14/20 [Train]: 100%|██████████| 32/32 [00:01<00:00, 18.87it/s, loss=0.161]\n",
      "Epoch 14/20 [Validation]: 100%|██████████| 8/8 [00:00<00:00, 61.77it/s, val_loss=0.157]\n"
     ]
    },
    {
     "name": "stdout",
     "output_type": "stream",
     "text": [
      "Epoch 14/20, Train Loss: 0.168058, Validation Loss: 0.171364\n",
      "Saved intermediate model to ./diffusion_models\\20250130_124605\\model_epoch_14.pth\n"
     ]
    },
    {
     "name": "stderr",
     "output_type": "stream",
     "text": [
      "Epoch 15/20 [Train]: 100%|██████████| 32/32 [00:01<00:00, 18.94it/s, loss=0.212]\n",
      "Epoch 15/20 [Validation]: 100%|██████████| 8/8 [00:00<00:00, 58.11it/s, val_loss=0.165]\n"
     ]
    },
    {
     "name": "stdout",
     "output_type": "stream",
     "text": [
      "Epoch 15/20, Train Loss: 0.168477, Validation Loss: 0.165220\n",
      "Saved intermediate model to ./diffusion_models\\20250130_124605\\model_epoch_15.pth\n"
     ]
    },
    {
     "name": "stderr",
     "output_type": "stream",
     "text": [
      "Epoch 16/20 [Train]: 100%|██████████| 32/32 [00:01<00:00, 18.90it/s, loss=0.25] \n",
      "Epoch 16/20 [Validation]: 100%|██████████| 8/8 [00:00<00:00, 60.37it/s, val_loss=0.154]\n"
     ]
    },
    {
     "name": "stdout",
     "output_type": "stream",
     "text": [
      "Epoch 16/20, Train Loss: 0.169670, Validation Loss: 0.176883\n",
      "Saved intermediate model to ./diffusion_models\\20250130_124605\\model_epoch_16.pth\n"
     ]
    },
    {
     "name": "stderr",
     "output_type": "stream",
     "text": [
      "Epoch 17/20 [Train]: 100%|██████████| 32/32 [00:01<00:00, 18.96it/s, loss=0.175]\n",
      "Epoch 17/20 [Validation]: 100%|██████████| 8/8 [00:00<00:00, 61.77it/s, val_loss=0.175]\n"
     ]
    },
    {
     "name": "stdout",
     "output_type": "stream",
     "text": [
      "Epoch 17/20, Train Loss: 0.171122, Validation Loss: 0.169292\n",
      "Saved intermediate model to ./diffusion_models\\20250130_124605\\model_epoch_17.pth\n"
     ]
    },
    {
     "name": "stderr",
     "output_type": "stream",
     "text": [
      "Epoch 18/20 [Train]: 100%|██████████| 32/32 [00:01<00:00, 19.02it/s, loss=0.128]\n",
      "Epoch 18/20 [Validation]: 100%|██████████| 8/8 [00:00<00:00, 64.48it/s, val_loss=0.166]\n"
     ]
    },
    {
     "name": "stdout",
     "output_type": "stream",
     "text": [
      "Epoch 18/20, Train Loss: 0.164052, Validation Loss: 0.164587\n",
      "Saved intermediate model to ./diffusion_models\\20250130_124605\\model_epoch_18.pth\n"
     ]
    },
    {
     "name": "stderr",
     "output_type": "stream",
     "text": [
      "Epoch 19/20 [Train]: 100%|██████████| 32/32 [00:01<00:00, 18.07it/s, loss=0.129]\n",
      "Epoch 19/20 [Validation]: 100%|██████████| 8/8 [00:00<00:00, 64.51it/s, val_loss=0.175]\n"
     ]
    },
    {
     "name": "stdout",
     "output_type": "stream",
     "text": [
      "Epoch 19/20, Train Loss: 0.157696, Validation Loss: 0.165227\n",
      "Saved intermediate model to ./diffusion_models\\20250130_124605\\model_epoch_19.pth\n"
     ]
    },
    {
     "name": "stderr",
     "output_type": "stream",
     "text": [
      "Epoch 20/20 [Train]: 100%|██████████| 32/32 [00:01<00:00, 19.10it/s, loss=0.179]\n",
      "Epoch 20/20 [Validation]: 100%|██████████| 8/8 [00:00<00:00, 63.48it/s, val_loss=0.142]\n"
     ]
    },
    {
     "name": "stdout",
     "output_type": "stream",
     "text": [
      "Epoch 20/20, Train Loss: 0.161510, Validation Loss: 0.166435\n",
      "Saved intermediate model to ./diffusion_models\\20250130_124605\\model_epoch_20.pth\n",
      "Saved final model to ./diffusion_models\\20250130_124605\\model_final.pth\n",
      "Saved losses to ./diffusion_models\\20250130_124605\\losses.csv\n",
      "Saved loss plot to ./diffusion_models\\20250130_124605\\loss_plot.png\n"
     ]
    },
    {
     "data": {
      "text/plain": [
       "<Figure size 1000x600 with 1 Axes>"
      ],
      "image/png": "[encoded data removed]"
     },
     "metadata": {},
     "output_type": "display_data"
    }
   ],
   "execution_count": 31
  },
  {
   "metadata": {
    "ExecuteTime": {
     "end_time": "2025-01-30T20:20:35.592469Z",
     "start_time": "2025-01-30T20:20:35.586484Z"
    }
   },
   "cell_type": "code",
   "source": [
    "def generate_image_fixed(model, bandgap_top, bandgap_bottom, num_timesteps=200, device=\"cuda\", image_size=32):\n",
    "    \"\"\"\n",
    "    Generate an image given bandgap conditions using the trained diffusion model.\n",
    "    Fixed shape alignment issues in the forward method.\n",
    "    \"\"\"\n",
    "    model.eval()  # Set model to evaluation mode\n",
    "    model.to(device)\n",
    "\n",
    "    # Initialize Gaussian noise\n",
    "    x_t = torch.randn(1, 1, image_size, image_size, device=device)  # Start with pure noise\n",
    "    x_i = x_t.clone()  # Save initial noise for visualization\n",
    "    \n",
    "    # Create conditioning tensor\n",
    "    bandgap_conditions = torch.tensor([[bandgap_top, bandgap_bottom]], dtype=torch.float32, device=device)\n",
    "    print(\"bandgap_conditions shape:\", bandgap_conditions.shape)\n",
    "\n",
    "    # Iterative reverse diffusion process\n",
    "    with torch.no_grad():\n",
    "        for t in range(num_timesteps, 0, -1):\n",
    "            t_tensor = torch.tensor([[t]], dtype=torch.float32, device=device)\n",
    "            predicted_noise = model(x_t, t_tensor, bandgap_conditions)\n",
    "\n",
    "            if torch.any(torch.isnan(predicted_noise)):\n",
    "                print(f\"NaNs detected in predicted_noise at timestep {t}\")\n",
    "                break\n",
    "\n",
    "            alpha_t = torch.tensor(1 - t / num_timesteps, device=device)#.clamp(min=1e-4)\n",
    "            x_t = (x_t - (1 - alpha_t) * predicted_noise) / alpha_t\n",
    "\n",
    "            if torch.any(torch.isnan(x_t)):\n",
    "                print(f\"NaNs detected in x_t at timestep {t}\")\n",
    "                break\n",
    "\n",
    "    # Final denoised image\n",
    "    final_image = x_t.clamp(0, 1)  # Clamp to [0, 1] for visualization\n",
    "\n",
    "    return final_image.cpu(), x_i.cpu()\n",
    "\n",
    "def plot_generated_image(image_tensor, bandgap_top, bandgap_bottom, title=None, save_path=None):\n",
    "    \"\"\"\n",
    "    Plot a generated image from a diffusion model output with metadata in the title.\n",
    "    The title includes the bandgap top and bandgap bottom values.\n",
    "    The colorbar is adjusted to be the same height as the plot.\n",
    "    \n",
    "    Args:\n",
    "    - image_tensor (torch.Tensor): The generated image tensor of shape (1, 1, H, W).\n",
    "    - bandgap_top (float): Bandgap top value.\n",
    "    - bandgap_bottom (float): Bandgap bottom value.\n",
    "    - title (str): Optional title for the plot. If None, a default title is created.\n",
    "    - save_path (str): Optional path to save the plot as an image file.\n",
    "    \"\"\"\n",
    "    # Remove batch and channel dimensions\n",
    "    image = image_tensor.squeeze(0).squeeze(0).cpu().numpy()  # Shape: (H, W)\n",
    "\n",
    "    # Create the plot\n",
    "    fig, ax = plt.subplots(figsize=(6, 6))\n",
    "    im = ax.imshow(image, cmap='viridis', vmin=0, vmax=1)\n",
    "\n",
    "    # Add title with metadata\n",
    "    if title is None:\n",
    "        title = f\"Generated Image\\nBandgap Top: {bandgap_top:.2f}, Bottom: {bandgap_bottom:.2f}\"\n",
    "    ax.set_title(title)\n",
    "    ax.axis(\"off\")  # Remove axis ticks for cleaner visualization\n",
    "\n",
    "    # Add a colorbar with adjusted height\n",
    "    cbar = fig.colorbar(im, ax=ax, fraction=0.046, pad=0.04)\n",
    "    cbar.set_label(\"Value\")  # Label for the colorbar\n",
    "\n",
    "    # Save or show the plot\n",
    "    if save_path:\n",
    "        plt.savefig(save_path, bbox_inches=\"tight\")\n",
    "        print(f\"Saved plot to {save_path}\")\n",
    "    else:\n",
    "        plt.show()"
   ],
   "id": "124441cdaf0c844a",
   "outputs": [],
   "execution_count": 47
  },
  {
   "metadata": {
    "ExecuteTime": {
     "end_time": "2025-01-30T20:20:35.892070Z",
     "start_time": "2025-01-30T20:20:35.890351Z"
    }
   },
   "cell_type": "code",
   "source": "",
   "id": "dd203367bb9c1fb2",
   "outputs": [],
   "execution_count": null
  },
  {
   "metadata": {
    "ExecuteTime": {
     "end_time": "2025-01-30T20:20:36.881342Z",
     "start_time": "2025-01-30T20:20:36.534206Z"
    }
   },
   "cell_type": "code",
   "source": [
    "bandgap_top = 1500\n",
    "bandgap_bottom = 1300\n",
    "generated_image, initial_image = generate_image_fixed(model, bandgap_top, bandgap_bottom, num_timesteps=100)\n",
    "print(generated_image.shape)\n",
    "\n",
    "# Plot the generated image\n",
    "plot_generated_image(\n",
    "    generated_image,\n",
    "    bandgap_top=bandgap_top,\n",
    "    bandgap_bottom=bandgap_bottom,\n",
    "    title=None,  # Use the default title format\n",
    "    save_path=\"generated_image_with_metadata.png\"  # Optional: Save the plot\n",
    ")"
   ],
   "id": "4f7f871eecc84d5a",
   "outputs": [
    {
     "name": "stdout",
     "output_type": "stream",
     "text": [
      "bandgap_conditions shape: torch.Size([1, 2])\n",
      "NaNs detected in predicted_noise at timestep 99\n",
      "torch.Size([1, 1, 32, 32])\n",
      "Saved plot to generated_image_with_metadata.png\n"
     ]
    },
    {
     "data": {
      "text/plain": [
       "<Figure size 600x600 with 2 Axes>"
      ],
      "image/png": "[encoded data removed]"
     },
     "metadata": {},
     "output_type": "display_data"
    }
   ],
   "execution_count": 48
  },
  {
   "metadata": {
    "ExecuteTime": {
     "end_time": "2025-01-30T20:20:49.939575Z",
     "start_time": "2025-01-30T20:20:49.812118Z"
    }
   },
   "cell_type": "code",
   "source": [
    "plot_generated_image(\n",
    "    initial_image,\n",
    "    bandgap_top=bandgap_top,\n",
    "    bandgap_bottom=bandgap_bottom,\n",
    "    title=\"Initial Noise Image\",\n",
    "    save_path=\"initial_noise_image.png\"\n",
    ")"
   ],
   "id": "22ca5cbcfdeafc0f",
   "outputs": [
    {
     "name": "stdout",
     "output_type": "stream",
     "text": [
      "Saved plot to initial_noise_image.png\n"
     ]
    },
    {
     "data": {
      "text/plain": [
       "<Figure size 600x600 with 2 Axes>"
      ],
      "image/png": "[encoded data removed]"
     },
     "metadata": {},
     "output_type": "display_data"
    }
   ],
   "execution_count": 49
  },
  {
   "metadata": {
    "ExecuteTime": {
     "end_time": "2025-01-30T20:20:51.237069Z",
     "start_time": "2025-01-30T20:20:51.113280Z"
    }
   },
   "cell_type": "code",
   "source": [
    "delta_image = generated_image - initial_image\n",
    "plot_generated_image(\n",
    "    delta_image,\n",
    "    bandgap_top=bandgap_top,\n",
    "    bandgap_bottom=bandgap_bottom,\n",
    "    title=\"Difference Image\",\n",
    "    save_path=\"difference_image.png\"\n",
    ")"
   ],
   "id": "b36241ba5925715c",
   "outputs": [
    {
     "name": "stdout",
     "output_type": "stream",
     "text": [
      "Saved plot to difference_image.png\n"
     ]
    },
    {
     "data": {
      "text/plain": [
       "<Figure size 600x600 with 2 Axes>"
      ],
      "image/png": "[encoded data removed]"
     },
     "metadata": {},
     "output_type": "display_data"
    }
   ],
   "execution_count": 50
  },
  {
   "metadata": {
    "ExecuteTime": {
     "end_time": "2025-01-30T17:46:45.056894Z",
     "start_time": "2025-01-30T17:46:45.054754Z"
    }
   },
   "cell_type": "code",
   "source": "",
   "id": "53d88b1f048524ca",
   "outputs": [],
   "execution_count": null
  }
 ],
 "metadata": {
  "kernelspec": {
   "display_name": "Python 3",
   "language": "python",
   "name": "python3"
  },
  "language_info": {
   "codemirror_mode": {
    "name": "ipython",
    "version": 2
   },
   "file_extension": ".py",
   "mimetype": "text/x-python",
   "name": "python",
   "nbconvert_exporter": "python",
   "pygments_lexer": "ipython2",
   "version": "2.7.6"
  }
 },
 "nbformat": 4,
 "nbformat_minor": 5
}

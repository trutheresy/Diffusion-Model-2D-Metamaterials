{
 "cells": [
  {
   "cell_type": "code",
   "id": "initial_id",
   "metadata": {
    "collapsed": true,
    "ExecuteTime": {
     "end_time": "2024-11-20T19:29:25.841169Z",
     "start_time": "2024-11-20T19:29:25.838361Z"
    }
   },
   "source": [
    "# ==============================================\n",
    "# Diffusion Model Training Notebook\n",
    "# ==============================================\n",
    "# Author: [Han Zhang]\n",
    "# Date: [19/11/2024]\n",
    "# Purpose: End-to-end demonstration of training a diffusion model on preliminary data\n",
    "# =============================================="
   ],
   "outputs": [],
   "execution_count": 43
  },
  {
   "metadata": {
    "ExecuteTime": {
     "end_time": "2024-11-20T19:29:25.887766Z",
     "start_time": "2024-11-20T19:29:25.885080Z"
    }
   },
   "cell_type": "code",
   "source": [
    "# --- Import Necessary Libraries ---\n",
    "import os  # For file handling\n",
    "import csv # For saving data to CSV\n",
    "from datetime import datetime # For timestamping\n",
    "import numpy as np  # For numerical operations\n",
    "import matplotlib.pyplot as plt  # For visualization\n",
    "import scipy.io as sio  # For handling MATLAB .mat files\n",
    "import torch  # PyTorch: deep learning framework\n",
    "import torch.nn as nn  # Neural network modules\n",
    "import torch.nn.functional as F  # Functions for neural networks\n",
    "import torch.optim as optim  # Optimization algorithms\n",
    "from torch.utils.data import DataLoader, Dataset, TensorDataset, random_split # Data handling\n",
    "from tqdm import tqdm  # Progress bar\n",
    "from sklearn.preprocessing import MinMaxScaler  # Scaling data (optional)\n",
    "#from segmentation_models_pytorch import Unet\n"
   ],
   "id": "6accb534536c080a",
   "outputs": [],
   "execution_count": 44
  },
  {
   "metadata": {
    "ExecuteTime": {
     "end_time": "2024-11-20T19:29:25.916531Z",
     "start_time": "2024-11-20T19:29:25.914010Z"
    }
   },
   "cell_type": "code",
   "source": [
    "# --- File Paths ---\n",
    "# Define file paths (modify these for your datasets)\n",
    "MATLAB_FILE_PATH = \"A:/Research/Projects/Metamaterial Geometry Bandgap Dataset Generator/2D-dispersion/complete_datasets/complete_dataset_control_32pix.mat\"  # Path to .mat file\n",
    "MATLAB_FILE_PATH = \"C:/Users/hz283/Documents/Duke/Research/2D-dispersion/complete_datasets/complete_dataset_control_32pix.mat\"  # Path to .mat file\n",
    "\n",
    "OUTPUT_DIRECTORY = \"output/\"  # Directory to save results/models"
   ],
   "id": "65e3696697f96836",
   "outputs": [],
   "execution_count": 45
  },
  {
   "metadata": {
    "ExecuteTime": {
     "end_time": "2024-11-20T19:29:26.036985Z",
     "start_time": "2024-11-20T19:29:25.924621Z"
    }
   },
   "cell_type": "code",
   "source": [
    "# Load the .mat file\n",
    "data = sio.loadmat(MATLAB_FILE_PATH)\n",
    "\n",
    "# Inspect the keys in the dictionary\n",
    "print(\"Variables in the .mat file:\", data.keys())\n",
    "\n",
    "# Extract specific variables\n",
    "designs_raw = data.get('designs')  # Replace 'designs' with your variable name\n",
    "if designs_raw is not None:\n",
    "    print(\"Designs raw shape:\", designs_raw.shape)\n",
    "else:\n",
    "    print(\"Designs variable not found.\")\n",
    "\n",
    "bandgap_edges_raw = data.get('bandgap_edges')  # Replace 'bandgap_edges' with your variable name\n",
    "if bandgap_edges_raw is not None:\n",
    "    print(\"Bandgap edges raw shape:\", bandgap_edges_raw.shape)\n",
    "else:\n",
    "    print(\"Bandgap_edges variable not found.\")\n",
    "\n",
    "# Reshape designs_raw, drop redundant 3rd dimension\n",
    "designs = np.transpose(designs_raw, (3, 0, 1, 2))[..., 0]\n",
    "print(\"Designs processed shape:\", designs.shape)\n",
    "\n",
    "# Reshape bandgap_edges_raw\n",
    "bandgap_edges = np.transpose(bandgap_edges_raw, (2, 1, 0))\n",
    "print(\"Bandgap edges processed shape:\", bandgap_edges.shape)\n"
   ],
   "id": "272d64f8f741121",
   "outputs": [
    {
     "name": "stdout",
     "output_type": "stream",
     "text": [
      "Variables in the .mat file: dict_keys(['__header__', '__version__', '__globals__', 'DENSITY_DATA', 'EIGENVALUE_DATA', 'ELASTIC_MODULUS_DATA', 'POISSON_DATA', 'WAVEVECTOR_DATA', 'bandgap_edges', 'bandgaps', 'const', 'None', 'designs', '__function_workspace__'])\n",
      "Designs raw shape: (32, 32, 3, 1000)\n",
      "Bandgap edges raw shape: (2, 5, 1000)\n",
      "Designs processed shape: (1000, 32, 32)\n",
      "Bandgap edges processed shape: (1000, 5, 2)\n"
     ]
    }
   ],
   "execution_count": 46
  },
  {
   "metadata": {
    "ExecuteTime": {
     "end_time": "2024-11-20T19:29:26.058844Z",
     "start_time": "2024-11-20T19:29:26.052156Z"
    }
   },
   "cell_type": "code",
   "source": [
    "def plot_sample_geometry(designs, bandgap_tops, bandgap_bottoms, index=0):\n",
    "    \"\"\"\n",
    "    Plots a single sample geometry from the designs array with additional metadata.\n",
    "    The title includes the index, bandgap top, and bandgap bottom values.\n",
    "    The colorbar is adjusted to be the same height as the plot.\n",
    "    \n",
    "    Args:\n",
    "    - designs (np.ndarray): Array containing the designs of shape (n, 32, 32).\n",
    "    - index (int): Index of the sample to plot.\n",
    "    - bandgap_tops (np.ndarray): Array of bandgap top values.\n",
    "    - bandgap_bottoms (np.ndarray): Array of bandgap bottom values.\n",
    "    \"\"\"\n",
    "    # Validate index\n",
    "    if index < 0 or index >= designs.shape[0]:\n",
    "        raise ValueError(f\"Index {index} is out of bounds for designs array with shape {designs.shape}.\")\n",
    "\n",
    "    # Extract the geometry to plot\n",
    "    sample_geometry = designs[index]\n",
    "\n",
    "    # Metadata for the title\n",
    "    top = bandgap_tops[index]\n",
    "    bottom = bandgap_bottoms[index]\n",
    "\n",
    "    # Create the plot\n",
    "    fig, ax = plt.subplots(figsize=(6, 6))\n",
    "    im = ax.imshow(sample_geometry, cmap='gray', vmin=0, vmax=1)\n",
    "    ax.set_title(f\"Index: {index}, Bandgap Top: {top:.2f}, Bottom: {bottom:.2f}\")\n",
    "    ax.axis(\"off\")  # Remove axis ticks for cleaner visualization\n",
    "\n",
    "    # Add a colorbar with adjusted height\n",
    "    cbar = fig.colorbar(im, ax=ax, fraction=0.046, pad=0.04)  # Fraction controls height, pad adjusts spacing\n",
    "    cbar.set_label(\"Value\")  # Label for the colorbar\n",
    "\n",
    "    # Show the plot\n",
    "    plt.show()\n",
    "\n",
    "def extract_bandgap_edges(bandgap_edges, warn_threshold=1, zero_threshold=0.5):\n",
    "    \"\"\"\n",
    "    Extracts the bandgap tops and bottoms for each geometry.\n",
    "    Prints warnings for:\n",
    "      - Rows with a single non-zero value.\n",
    "      - Negative non-zero values.\n",
    "      - Non-positive differences between top and bottom values.\n",
    "      - Bandgap differences smaller than warn_threshold.\n",
    "      - Bandgap set to 0 due to zero_threshold.\n",
    "\n",
    "    Args:\n",
    "    - bandgap_edges (np.ndarray): Array of shape (n, 5, 2) containing bandgap edges.\n",
    "    - warn_threshold (float): Threshold for small bandgap warnings.\n",
    "    - zero_threshold (float): Minimum difference for a valid bandgap. Below this, a different row is checked.\n",
    "\n",
    "    Returns:\n",
    "    - bandgap_tops (np.ndarray): Vector of length n containing the top edges of the bandgap.\n",
    "    - bandgap_bottoms (np.ndarray): Vector of length n containing the bottom edges of the bandgap.\n",
    "    \"\"\"\n",
    "    n = bandgap_edges.shape[0]  # Number of samples\n",
    "    bandgap_tops = np.zeros(n)  # Initialize tops\n",
    "    bandgap_bottoms = np.zeros(n)  # Initialize bottoms\n",
    "\n",
    "    for i in range(n):\n",
    "        # Extract the 5x2 array for the current sample\n",
    "        edges = bandgap_edges[i]\n",
    "\n",
    "        # Iterate over the rows to find a valid row\n",
    "        valid_pair = False\n",
    "        for row in edges:\n",
    "            non_zero_count = np.count_nonzero(row)  # Count non-zero values in the row\n",
    "            if non_zero_count == 2:\n",
    "                # Check for negative non-zero values\n",
    "                if any(value < 0 for value in row):\n",
    "                    print(f\"Warning: Negative values found in sample {i}, row: {row}\")\n",
    "\n",
    "                # Compute the bandgap top and bottom\n",
    "                bottom, top  = row[0], row[1]\n",
    "                difference = top - bottom\n",
    "\n",
    "                # Check for non-positive difference\n",
    "                if difference <= 0:\n",
    "                    print(f\"Warning: Non-positive difference in sample {i}, row: {row}\")\n",
    "                    continue  # Move to the next row\n",
    "\n",
    "                # Check if the difference is between 0 and zero_threshold\n",
    "                elif 0 < difference < zero_threshold:\n",
    "                    print(f\"Warning: Bandgap difference below zero_threshold ({zero_threshold}) in sample {i}, row: {row}, ignoring this bandgap.\")\n",
    "                    continue  # Skip this row and move to the next\n",
    "\n",
    "                # Check if the difference is between zero_threshold and warn_threshold\n",
    "                elif zero_threshold <= difference < warn_threshold:\n",
    "                    print(f\"Warning: Small bandgap detected at index {i}, value: {difference:.6f}, still recorded as valid bandgap.\")\n",
    "\n",
    "                # Assign values to bandgap_tops and bandgap_bottoms\n",
    "                bandgap_tops[i] = top\n",
    "                bandgap_bottoms[i] = bottom\n",
    "                valid_pair = True\n",
    "                break  # Exit the loop once a valid row is found\n",
    "            elif non_zero_count == 1:\n",
    "                # Row has a single non-zero value: print a warning\n",
    "                print(f\"Warning: Row with a single non-zero value detected in sample {i}: {row}\")\n",
    "\n",
    "        if not valid_pair:\n",
    "            # No valid row found or all rows had differences below zero_threshold\n",
    "            bandgap_tops[i] = 0\n",
    "            bandgap_bottoms[i] = 0\n",
    "            #print(f\"Bandgap set to 0 for sample {i} due to zero_threshold ({zero_threshold}).\")\n",
    "\n",
    "    non_zero_count = np.count_nonzero(bandgap_tops)\n",
    "    print(f\"Number of non-zero bandgap_tops and bandgap_bottoms: {non_zero_count} out of {n}\")\n",
    "    return bandgap_tops, bandgap_bottoms"
   ],
   "id": "122a78551bb96dcb",
   "outputs": [],
   "execution_count": 47
  },
  {
   "metadata": {
    "ExecuteTime": {
     "end_time": "2024-11-20T19:29:26.079585Z",
     "start_time": "2024-11-20T19:29:26.073147Z"
    }
   },
   "cell_type": "code",
   "source": "bandgap_tops, bandgap_bottoms = extract_bandgap_edges(bandgap_edges)",
   "id": "492a31fa7678c8a5",
   "outputs": [
    {
     "name": "stdout",
     "output_type": "stream",
     "text": [
      "Warning: Small bandgap detected at index 45, value: 0.542733, still recorded as valid bandgap.\n",
      "Warning: Bandgap difference below zero_threshold (0.5) in sample 47, row: [1999.84354898 2000.0296602 ], ignoring this bandgap.\n",
      "Warning: Bandgap difference below zero_threshold (0.5) in sample 56, row: [638.30263832 638.3026384 ], ignoring this bandgap.\n",
      "Warning: Bandgap difference below zero_threshold (0.5) in sample 64, row: [694.81365207 694.81365262], ignoring this bandgap.\n",
      "Warning: Bandgap difference below zero_threshold (0.5) in sample 83, row: [458.98859078 458.98859078], ignoring this bandgap.\n",
      "Warning: Bandgap difference below zero_threshold (0.5) in sample 112, row: [1578.17598744 1578.17598744], ignoring this bandgap.\n",
      "Warning: Bandgap difference below zero_threshold (0.5) in sample 141, row: [738.94141813 738.94142128], ignoring this bandgap.\n",
      "Warning: Bandgap difference below zero_threshold (0.5) in sample 154, row: [1691.55075007 1691.55075007], ignoring this bandgap.\n",
      "Warning: Bandgap difference below zero_threshold (0.5) in sample 159, row: [637.77557804 637.77557804], ignoring this bandgap.\n",
      "Warning: Small bandgap detected at index 181, value: 0.573001, still recorded as valid bandgap.\n",
      "Warning: Bandgap difference below zero_threshold (0.5) in sample 210, row: [740.63679726 740.63679726], ignoring this bandgap.\n",
      "Warning: Bandgap difference below zero_threshold (0.5) in sample 217, row: [1526.78100535 1526.78100535], ignoring this bandgap.\n",
      "Warning: Bandgap difference below zero_threshold (0.5) in sample 239, row: [916.25899031 916.25899165], ignoring this bandgap.\n",
      "Warning: Bandgap difference below zero_threshold (0.5) in sample 245, row: [1385.27906075 1385.76386084], ignoring this bandgap.\n",
      "Warning: Small bandgap detected at index 263, value: 0.853730, still recorded as valid bandgap.\n",
      "Warning: Bandgap difference below zero_threshold (0.5) in sample 395, row: [1096.34573828 1096.63803483], ignoring this bandgap.\n",
      "Warning: Bandgap difference below zero_threshold (0.5) in sample 399, row: [770.07723292 770.07723292], ignoring this bandgap.\n",
      "Warning: Bandgap difference below zero_threshold (0.5) in sample 412, row: [1926.68330725 1926.68330725], ignoring this bandgap.\n",
      "Warning: Bandgap difference below zero_threshold (0.5) in sample 463, row: [609.39871629 609.39871629], ignoring this bandgap.\n",
      "Warning: Bandgap difference below zero_threshold (0.5) in sample 466, row: [500.48667619 500.48667619], ignoring this bandgap.\n",
      "Warning: Bandgap difference below zero_threshold (0.5) in sample 497, row: [1393.76961652 1393.76961652], ignoring this bandgap.\n",
      "Warning: Bandgap difference below zero_threshold (0.5) in sample 580, row: [2105.41494822 2105.41494822], ignoring this bandgap.\n",
      "Warning: Bandgap difference below zero_threshold (0.5) in sample 636, row: [941.60895802 942.081762  ], ignoring this bandgap.\n",
      "Warning: Bandgap difference below zero_threshold (0.5) in sample 639, row: [676.62500683 676.62500774], ignoring this bandgap.\n",
      "Warning: Bandgap difference below zero_threshold (0.5) in sample 647, row: [1655.96008792 1655.96008868], ignoring this bandgap.\n",
      "Warning: Bandgap difference below zero_threshold (0.5) in sample 660, row: [785.98371684 785.98371684], ignoring this bandgap.\n",
      "Warning: Bandgap difference below zero_threshold (0.5) in sample 687, row: [1468.47219891 1468.47219891], ignoring this bandgap.\n",
      "Warning: Bandgap difference below zero_threshold (0.5) in sample 758, row: [1719.48940386 1719.48940386], ignoring this bandgap.\n",
      "Warning: Bandgap difference below zero_threshold (0.5) in sample 761, row: [748.57731332 748.57732192], ignoring this bandgap.\n",
      "Warning: Small bandgap detected at index 798, value: 0.891553, still recorded as valid bandgap.\n",
      "Warning: Bandgap difference below zero_threshold (0.5) in sample 839, row: [879.14853597 879.1485409 ], ignoring this bandgap.\n",
      "Warning: Bandgap difference below zero_threshold (0.5) in sample 861, row: [760.68696205 760.68696205], ignoring this bandgap.\n",
      "Warning: Bandgap difference below zero_threshold (0.5) in sample 874, row: [601.38297828 601.38297828], ignoring this bandgap.\n",
      "Warning: Bandgap difference below zero_threshold (0.5) in sample 912, row: [971.69758808 971.69758808], ignoring this bandgap.\n",
      "Warning: Bandgap difference below zero_threshold (0.5) in sample 962, row: [1829.46755201 1829.46755201], ignoring this bandgap.\n",
      "Warning: Bandgap difference below zero_threshold (0.5) in sample 968, row: [726.10033843 726.10034095], ignoring this bandgap.\n",
      "Warning: Small bandgap detected at index 969, value: 0.665830, still recorded as valid bandgap.\n",
      "Warning: Small bandgap detected at index 988, value: 0.695445, still recorded as valid bandgap.\n",
      "Number of non-zero bandgap_tops and bandgap_bottoms: 376 out of 1000\n"
     ]
    }
   ],
   "execution_count": 48
  },
  {
   "metadata": {
    "ExecuteTime": {
     "end_time": "2024-11-20T19:29:26.207830Z",
     "start_time": "2024-11-20T19:29:26.137288Z"
    }
   },
   "cell_type": "code",
   "source": "plot_sample_geometry(designs, bandgap_tops, bandgap_bottoms, index=0)",
   "id": "42f09f63666d1110",
   "outputs": [
    {
     "data": {
      "text/plain": [
       "<Figure size 600x600 with 2 Axes>"
      ],
      "image/png": "[encoded data removed]"
     },
     "metadata": {},
     "output_type": "display_data"
    }
   ],
   "execution_count": 49
  },
  {
   "metadata": {
    "ExecuteTime": {
     "end_time": "2024-11-20T19:29:26.223096Z",
     "start_time": "2024-11-20T19:29:26.213834Z"
    }
   },
   "cell_type": "code",
   "source": [
    "# --- Define Diffusion Model ---\n",
    "class UNetWithTimeAndBandgap(nn.Module):\n",
    "    \"\"\"\n",
    "    U-Net implementation with scalar timestep and bandgap conditioning for diffusion modeling.\n",
    "    \"\"\"\n",
    "    def __init__(self, input_channels=1, output_channels=1, time_embedding_dim=128, condition_dim=128):\n",
    "        \"\"\"\n",
    "        Initialize the U-Net model.\n",
    "    \n",
    "        Args:\n",
    "        - input_channels (int): Number of input channels (e.g., 1 for geometry images).\n",
    "        - output_channels (int): Number of output channels.\n",
    "        - time_embedding_dim (int): Dimensionality of timestep embedding.\n",
    "        - condition_dim (int): Dimensionality of bandgap condition embedding.\n",
    "        \"\"\"\n",
    "        super(UNetWithTimeAndBandgap, self).__init__()\n",
    "    \n",
    "        # Time embedding layer\n",
    "        self.time_embedding = nn.Sequential(\n",
    "            nn.Linear(1, time_embedding_dim),  # Scalar t to vector\n",
    "            nn.ReLU(),\n",
    "            nn.Linear(time_embedding_dim, time_embedding_dim)\n",
    "        )\n",
    "    \n",
    "        # Bandgap condition embedding layer\n",
    "        self.bandgap_embedding = nn.Sequential(\n",
    "            nn.Linear(2, condition_dim),  # Two bandgap values (top, bottom)\n",
    "            nn.ReLU(),\n",
    "            nn.Linear(condition_dim, condition_dim)\n",
    "        )\n",
    "\n",
    "\n",
    "        # Encoder\n",
    "        self.enc1 = self.conv_block(input_channels, 64)\n",
    "        self.enc2 = self.conv_block(64, 128)\n",
    "        self.enc3 = self.conv_block(128, 256)\n",
    "        self.enc4 = self.conv_block(256, 512)\n",
    "\n",
    "        # Bottleneck\n",
    "        self.bottleneck = self.conv_block(512, 1024)\n",
    "\n",
    "        # Decoder\n",
    "        self.upconv4 = self.upconv(1024, 512)\n",
    "        self.dec4 = self.conv_block(1024, 512)\n",
    "\n",
    "        self.upconv3 = self.upconv(512, 256)\n",
    "        self.dec3 = self.conv_block(512, 256)\n",
    "\n",
    "        self.upconv2 = self.upconv(256, 128)\n",
    "        self.dec2 = self.conv_block(256, 128)\n",
    "\n",
    "        self.upconv1 = self.upconv(128, 64)\n",
    "        self.dec1 = self.conv_block(128, 64)\n",
    "\n",
    "        # Final output layer\n",
    "        self.final_conv = nn.Conv2d(64, output_channels, kernel_size=1)\n",
    "        self.embedding_projection = nn.Linear(time_embedding_dim, 1024)  # Match bottleneck channels\n",
    "\n",
    "    def conv_block(self, in_channels, out_channels):\n",
    "        \"\"\"\n",
    "        A convolutional block with two convolutional layers followed by ReLU activations.\n",
    "        \"\"\"\n",
    "        return nn.Sequential(\n",
    "            nn.Conv2d(in_channels, out_channels, kernel_size=3, padding=1),\n",
    "            nn.ReLU(inplace=True),\n",
    "            nn.Conv2d(out_channels, out_channels, kernel_size=3, padding=1),\n",
    "            nn.ReLU(inplace=True)\n",
    "        )\n",
    "\n",
    "    def upconv(self, in_channels, out_channels):\n",
    "        \"\"\"\n",
    "        An upconvolution (transposed convolution) layer for upsampling.\n",
    "        \"\"\"\n",
    "        return nn.ConvTranspose2d(in_channels, out_channels, kernel_size=2, stride=2)\n",
    "\n",
    "    def forward(self, x, t, bandgap):\n",
    "        # Embeddings\n",
    "        t = t.unsqueeze(-1)  # Ensure t has the correct shape\n",
    "        t_emb = self.time_embedding(t)  # Shape: (batch_size, 128)\n",
    "        bandgap_emb = self.bandgap_embedding(bandgap)  # Shape: (batch_size, 128)\n",
    "    \n",
    "        # Debugging shape mismatch\n",
    "        if t_emb.shape[1] != bandgap_emb.shape[1]:\n",
    "            raise ValueError(f\"Shape mismatch: t_emb has shape {t_emb.shape}, but bandgap_emb has shape {bandgap_emb.shape}\")\n",
    "    \n",
    "        combined_emb = t_emb + bandgap_emb  # Shape: (batch_size, 128)\n",
    "    \n",
    "        # Validate embedding sizes\n",
    "        assert combined_emb.shape[1] == self.embedding_projection.in_features, (\n",
    "            f\"Combined embedding dimension mismatch: expected {self.embedding_projection.in_features}, \"\n",
    "            f\"got {combined_emb.shape[1]}\"\n",
    "        )\n",
    "    \n",
    "        # Encoder\n",
    "        enc1 = self.enc1(x)\n",
    "        enc2 = self.enc2(F.max_pool2d(enc1, 2))\n",
    "        enc3 = self.enc3(F.max_pool2d(enc2, 2))\n",
    "        enc4 = self.enc4(F.max_pool2d(enc3, 2))\n",
    "    \n",
    "        # Bottleneck\n",
    "        bottleneck = self.bottleneck(F.max_pool2d(enc4, 2))\n",
    "        projected_emb = self.embedding_projection(combined_emb)  # Shape: (batch_size, 1024)\n",
    "    \n",
    "        # Correctly reshape to 4D\n",
    "        batch_size, num_channels = projected_emb.shape  # Extract batch size and channels\n",
    "        spatial_dims = bottleneck.shape[2:]  # Get (H, W) of the bottleneck\n",
    "        projected_emb = projected_emb.view(batch_size, num_channels, 1, 1).expand(-1, -1, *spatial_dims)\n",
    "    \n",
    "        bottleneck = bottleneck + projected_emb\n",
    "    \n",
    "        # Decoder\n",
    "        up4 = self.upconv4(bottleneck)\n",
    "        dec4 = self.dec4(torch.cat((up4, enc4), dim=1))\n",
    "        up3 = self.upconv3(dec4)\n",
    "        dec3 = self.dec3(torch.cat((up3, enc3), dim=1))\n",
    "        up2 = self.upconv2(dec3)\n",
    "        dec2 = self.dec2(torch.cat((up2, enc2), dim=1))\n",
    "        up1 = self.upconv1(dec2)\n",
    "        dec1 = self.dec1(torch.cat((up1, enc1), dim=1))\n",
    "    \n",
    "        return self.final_conv(dec1)\n"
   ],
   "id": "e249e8d5b4e31104",
   "outputs": [],
   "execution_count": 50
  },
  {
   "metadata": {
    "ExecuteTime": {
     "end_time": "2024-11-20T19:29:26.244078Z",
     "start_time": "2024-11-20T19:29:26.233751Z"
    }
   },
   "cell_type": "code",
   "source": [
    "# Define the forward diffusion process\n",
    "def forward_diffusion_sample(x_0, t, noise=None):\n",
    "    \"\"\"\n",
    "    Add Gaussian noise to input images based on the timestep.\n",
    "    Args:\n",
    "    - x_0 (torch.Tensor): Clean input images of shape (batch, channels, H, W).\n",
    "    - t (torch.Tensor): Timestep scalar tensor of shape (batch,).\n",
    "    - noise (torch.Tensor): Optional noise to add; otherwise, sampled from normal distribution.\n",
    "    Returns:\n",
    "    - x_t: Noisy image at timestep t.\n",
    "    - noise: The added noise.\n",
    "    \"\"\"\n",
    "    if noise is None:\n",
    "        noise = torch.randn_like(x_0)  # Generate Gaussian noise\n",
    "    alpha_t = (1 - t / t.max()).view(-1, 1, 1, 1)  # Linearly decreasing variance schedule\n",
    "    x_t = alpha_t * x_0 + (1 - alpha_t) * noise  # Add noise proportional to alpha_t\n",
    "    return x_t, noise\n",
    "\n",
    "# Training function\n",
    "def forward_diffusion_sample(x_0, t, noise=None):\n",
    "    \"\"\"\n",
    "    Add Gaussian noise to input images based on the timestep.\n",
    "    Args:\n",
    "    - x_0 (torch.Tensor): Clean input images of shape (batch, channels, H, W).\n",
    "    - t (torch.Tensor): Timestep scalar tensor of shape (batch,).\n",
    "    - noise (torch.Tensor): Optional noise to add; otherwise, sampled from normal distribution.\n",
    "    Returns:\n",
    "    - x_t: Noisy image at timestep t.\n",
    "    - noise: The added noise.\n",
    "    \"\"\"\n",
    "    if noise is None:\n",
    "        noise = torch.randn_like(x_0)  # Generate Gaussian noise\n",
    "    alpha_t = (1 - t / t.max()).view(-1, 1, 1, 1)  # Linearly decreasing variance schedule\n",
    "    x_t = alpha_t * x_0 + (1 - alpha_t) * noise  # Add noise proportional to alpha_t\n",
    "    return x_t, noise\n",
    "\n",
    "# Training function\n",
    "def train_diffusion_model(\n",
    "        model,\n",
    "        train_dataloader,\n",
    "        val_dataloader,\n",
    "        num_timesteps=1000,\n",
    "        epochs=20,\n",
    "        device=\"cuda\",\n",
    "        output_folder=\"./models\",\n",
    "        save_intermediates=False,\n",
    "        track_losses=True,\n",
    "):\n",
    "    \"\"\"\n",
    "    Train the diffusion model with optional intermediate model saving and loss tracking.\n",
    "    \"\"\"\n",
    "    optimizer = optim.AdamW(model.parameters(), lr=1e-4, weight_decay=1e-2)\n",
    "    criterion = nn.MSELoss()\n",
    "\n",
    "    device = torch.device(device)\n",
    "    model.to(device)\n",
    "    model.train()\n",
    "\n",
    "    # Create output folder if it doesn't exist\n",
    "    os.makedirs(output_folder, exist_ok=True)\n",
    "\n",
    "    # Initialize lists to track losses\n",
    "    training_losses = []\n",
    "    validation_losses = []\n",
    "\n",
    "    for epoch in range(epochs):\n",
    "        model.train()  # Set model to training mode\n",
    "        epoch_train_loss = 0\n",
    "        with tqdm(train_dataloader, desc=f\"Epoch {epoch + 1}/{epochs} [Train]\") as pbar:\n",
    "            for batch in pbar:\n",
    "                images, bandgap_tops, bandgap_bottoms = batch\n",
    "                images = images.to(device)\n",
    "                bandgap_tops = bandgap_tops.to(device)\n",
    "                bandgap_bottoms = bandgap_bottoms.to(device)\n",
    "\n",
    "                # Ensure images have the correct channel dimension\n",
    "                if images.ndim == 3:\n",
    "                    images = images.unsqueeze(1)\n",
    "\n",
    "                # Combine bandgap_tops and bandgap_bottoms into a single tensor\n",
    "                bandgap_conditions = torch.stack([bandgap_tops, bandgap_bottoms], dim=1)\n",
    "\n",
    "                # Sample random timesteps for the batch\n",
    "                timesteps = torch.randint(1, num_timesteps + 1, (images.size(0),), device=device).float()\n",
    "\n",
    "                # Forward diffusion process (add noise)\n",
    "                noisy_images, noise = forward_diffusion_sample(images, timesteps)\n",
    "\n",
    "                # Predict noise from the noisy images\n",
    "                predicted_noise = model(noisy_images, timesteps, bandgap_conditions)\n",
    "\n",
    "                # Compute loss\n",
    "                loss = criterion(predicted_noise, noise)\n",
    "\n",
    "                # Backpropagation\n",
    "                optimizer.zero_grad()\n",
    "                loss.backward()\n",
    "                optimizer.step()\n",
    "\n",
    "                # Update TQDM progress bar\n",
    "                epoch_train_loss += loss.item()\n",
    "                pbar.set_postfix(loss=loss.item())\n",
    "\n",
    "        avg_train_loss = epoch_train_loss / len(train_dataloader)\n",
    "        training_losses.append(avg_train_loss)\n",
    "\n",
    "        # Validation Loss\n",
    "        model.eval()  # Set model to evaluation mode\n",
    "        epoch_val_loss = 0\n",
    "        with torch.no_grad():\n",
    "            with tqdm(val_dataloader, desc=f\"Epoch {epoch + 1}/{epochs} [Validation]\") as pbar:\n",
    "                for batch in pbar:\n",
    "                    images, bandgap_tops, bandgap_bottoms = batch\n",
    "                    images = images.to(device)\n",
    "                    bandgap_tops = bandgap_tops.to(device)\n",
    "                    bandgap_bottoms = bandgap_bottoms.to(device)\n",
    "\n",
    "                    if images.ndim == 3:\n",
    "                        images = images.unsqueeze(1)\n",
    "\n",
    "                    bandgap_conditions = torch.stack([bandgap_tops, bandgap_bottoms], dim=1)\n",
    "                    timesteps = torch.randint(1, num_timesteps + 1, (images.size(0),), device=device).float()\n",
    "                    noisy_images, noise = forward_diffusion_sample(images, timesteps)\n",
    "                    predicted_noise = model(noisy_images, timesteps, bandgap_conditions)\n",
    "                    val_loss = criterion(predicted_noise, noise)\n",
    "                    epoch_val_loss += val_loss.item()\n",
    "                    pbar.set_postfix(val_loss=val_loss.item())\n",
    "\n",
    "        avg_val_loss = epoch_val_loss / len(val_dataloader)\n",
    "        validation_losses.append(avg_val_loss)\n",
    "\n",
    "        print(f\"Epoch {epoch + 1}/{epochs}, Train Loss: {avg_train_loss:.6f}, Validation Loss: {avg_val_loss:.6f}\")\n",
    "\n",
    "        # Save model checkpoint\n",
    "        if save_intermediates:\n",
    "            model_path = os.path.join(output_folder, f\"model_epoch_{epoch + 1}.pth\")\n",
    "            torch.save(model.state_dict(), model_path)\n",
    "            print(f\"Saved intermediate model to {model_path}\")\n",
    "\n",
    "    # Save the final model\n",
    "    final_model_path = os.path.join(output_folder, \"model_final.pth\")\n",
    "    torch.save(model.state_dict(), final_model_path)\n",
    "    print(f\"Saved final model to {final_model_path}\")\n",
    "\n",
    "    # Track losses\n",
    "    if track_losses:\n",
    "        # Save losses to CSV\n",
    "        losses_csv_path = os.path.join(output_folder, \"losses.csv\")\n",
    "        with open(losses_csv_path, \"w\", newline=\"\") as csvfile:\n",
    "            writer = csv.writer(csvfile)\n",
    "            writer.writerow([\"Epoch\", \"Train Loss\", \"Validation Loss\"])\n",
    "            for epoch, (train_loss, val_loss) in enumerate(zip(training_losses, validation_losses), start=1):\n",
    "                writer.writerow([epoch, train_loss, val_loss])\n",
    "        print(f\"Saved losses to {losses_csv_path}\")\n",
    "\n",
    "        # Plot losses\n",
    "        plt.figure(figsize=(10, 6))\n",
    "        plt.plot(range(1, epochs + 1), training_losses, label=\"Training Loss\")\n",
    "        plt.plot(range(1, epochs + 1), validation_losses, label=\"Validation Loss\")\n",
    "        plt.xlabel(\"Epochs\")\n",
    "        plt.ylabel(\"Loss\")\n",
    "        plt.title(\"Training and Validation Loss Over Epochs\")\n",
    "        plt.legend()\n",
    "        plt.grid(True)\n",
    "        plt_path = os.path.join(output_folder, \"loss_plot.png\")\n",
    "        plt.savefig(plt_path)\n",
    "        print(f\"Saved loss plot to {plt_path}\")\n",
    "        plt.show()"
   ],
   "id": "9b218521dc684589",
   "outputs": [],
   "execution_count": 51
  },
  {
   "metadata": {
    "ExecuteTime": {
     "end_time": "2024-11-20T19:29:26.266414Z",
     "start_time": "2024-11-20T19:29:26.259910Z"
    }
   },
   "cell_type": "code",
   "source": [
    "# Create Dataset\n",
    "batch_size = 64\n",
    "images = torch.tensor(designs, dtype=torch.float32)\n",
    "bandgap_tops = torch.tensor(bandgap_tops, dtype=torch.float32)\n",
    "bandgap_bottoms = torch.tensor(bandgap_bottoms, dtype=torch.float32)\n",
    "\n",
    "dataset = TensorDataset(images, bandgap_tops, bandgap_bottoms)\n",
    "\n",
    "# Split into training and validation sets (80-20 split)\n",
    "train_size = int(0.8 * len(dataset))\n",
    "val_size = len(dataset) - train_size\n",
    "train_dataset, val_dataset = random_split(dataset, [train_size, val_size])\n",
    "\n",
    "# Create DataLoaders\n",
    "train_dataloader = DataLoader(train_dataset, batch_size=batch_size, shuffle=True)\n",
    "val_dataloader = DataLoader(val_dataset, batch_size=batch_size, shuffle=False)"
   ],
   "id": "65014772c8b1f499",
   "outputs": [],
   "execution_count": 52
  },
  {
   "metadata": {
    "ExecuteTime": {
     "end_time": "2024-11-20T19:29:26.383280Z",
     "start_time": "2024-11-20T19:29:26.295924Z"
    }
   },
   "cell_type": "code",
   "source": [
    "# Initialize the model\n",
    "\n",
    "input_channels = 1  # Single channel for geometry images\n",
    "output_channels = 1  # Single channel for noise prediction\n",
    "time_embedding_dim = 128  # Dimensionality of timestep embedding\n",
    "condition_dim = 128  # Dimensionality of bandgap condition embedding\n",
    "\n",
    "model = UNetWithTimeAndBandgap(\n",
    "    input_channels=input_channels, \n",
    "    output_channels=output_channels, \n",
    "    time_embedding_dim=time_embedding_dim, \n",
    "    condition_dim=condition_dim\n",
    ")\n"
   ],
   "id": "184813673daa6dbc",
   "outputs": [],
   "execution_count": 53
  },
  {
   "metadata": {
    "ExecuteTime": {
     "end_time": "2024-11-20T19:29:34.635359Z",
     "start_time": "2024-11-20T19:29:26.386285Z"
    }
   },
   "cell_type": "code",
   "source": [
    "# Get a timestamp for the training session\n",
    "training_timestamp = datetime.now().strftime(\"%Y%m%d_%H%M%S\")\n",
    "\n",
    "# Define the output folder\n",
    "output_folder = os.path.join(\"./diffusion_models\", training_timestamp)\n",
    "\n",
    "# Train the model\n",
    "train_diffusion_model(\n",
    "    model,\n",
    "    train_dataloader,\n",
    "    val_dataloader,\n",
    "    num_timesteps=200,\n",
    "    epochs=20,\n",
    "    device=\"cuda\",\n",
    "    output_folder=output_folder,\n",
    "    save_intermediates=True,\n",
    "    track_losses=True,\n",
    ")"
   ],
   "id": "acacb4b14816c492",
   "outputs": [
    {
     "name": "stderr",
     "output_type": "stream",
     "text": [
      "Epoch 1/20 [Train]: 100%|██████████| 13/13 [00:00<00:00, 26.25it/s, loss=0.977]\n",
      "Epoch 1/20 [Validation]: 100%|██████████| 4/4 [00:00<00:00, 216.13it/s, val_loss=0.971]\n"
     ]
    },
    {
     "name": "stdout",
     "output_type": "stream",
     "text": [
      "Epoch 1/20, Train Loss: 0.989637, Validation Loss: 0.957122\n",
      "Saved intermediate model to ./diffusion_models\\20241120_142926\\model_epoch_1.pth\n"
     ]
    },
    {
     "name": "stderr",
     "output_type": "stream",
     "text": [
      "Epoch 2/20 [Train]: 100%|██████████| 13/13 [00:00<00:00, 53.05it/s, loss=0.85]\n",
      "Epoch 2/20 [Validation]: 100%|██████████| 4/4 [00:00<00:00, 210.54it/s, val_loss=0.809]\n"
     ]
    },
    {
     "name": "stdout",
     "output_type": "stream",
     "text": [
      "Epoch 2/20, Train Loss: 0.913234, Validation Loss: 0.834043\n",
      "Saved intermediate model to ./diffusion_models\\20241120_142926\\model_epoch_2.pth\n"
     ]
    },
    {
     "name": "stderr",
     "output_type": "stream",
     "text": [
      "Epoch 3/20 [Train]: 100%|██████████| 13/13 [00:00<00:00, 52.66it/s, loss=0.59] \n",
      "Epoch 3/20 [Validation]: 100%|██████████| 4/4 [00:00<00:00, 235.32it/s, val_loss=0.647]\n"
     ]
    },
    {
     "name": "stdout",
     "output_type": "stream",
     "text": [
      "Epoch 3/20, Train Loss: 0.726919, Validation Loss: 0.623731\n",
      "Saved intermediate model to ./diffusion_models\\20241120_142926\\model_epoch_3.pth\n"
     ]
    },
    {
     "name": "stderr",
     "output_type": "stream",
     "text": [
      "Epoch 4/20 [Train]: 100%|██████████| 13/13 [00:00<00:00, 52.46it/s, loss=0.414]\n",
      "Epoch 4/20 [Validation]: 100%|██████████| 4/4 [00:00<00:00, 180.27it/s, val_loss=0.528]\n"
     ]
    },
    {
     "name": "stdout",
     "output_type": "stream",
     "text": [
      "Epoch 4/20, Train Loss: 0.502257, Validation Loss: 0.413353\n",
      "Saved intermediate model to ./diffusion_models\\20241120_142926\\model_epoch_4.pth\n"
     ]
    },
    {
     "name": "stderr",
     "output_type": "stream",
     "text": [
      "Epoch 5/20 [Train]: 100%|██████████| 13/13 [00:00<00:00, 47.44it/s, loss=0.368]\n",
      "Epoch 5/20 [Validation]: 100%|██████████| 4/4 [00:00<00:00, 181.83it/s, val_loss=0.235]\n"
     ]
    },
    {
     "name": "stdout",
     "output_type": "stream",
     "text": [
      "Epoch 5/20, Train Loss: 0.353294, Validation Loss: 0.306407\n",
      "Saved intermediate model to ./diffusion_models\\20241120_142926\\model_epoch_5.pth\n"
     ]
    },
    {
     "name": "stderr",
     "output_type": "stream",
     "text": [
      "Epoch 6/20 [Train]: 100%|██████████| 13/13 [00:00<00:00, 52.62it/s, loss=0.24] \n",
      "Epoch 6/20 [Validation]: 100%|██████████| 4/4 [00:00<00:00, 210.53it/s, val_loss=0.365]\n"
     ]
    },
    {
     "name": "stdout",
     "output_type": "stream",
     "text": [
      "Epoch 6/20, Train Loss: 0.295356, Validation Loss: 0.324506\n",
      "Saved intermediate model to ./diffusion_models\\20241120_142926\\model_epoch_6.pth\n"
     ]
    },
    {
     "name": "stderr",
     "output_type": "stream",
     "text": [
      "Epoch 7/20 [Train]: 100%|██████████| 13/13 [00:00<00:00, 49.94it/s, loss=0.235]\n",
      "Epoch 7/20 [Validation]: 100%|██████████| 4/4 [00:00<00:00, 210.16it/s, val_loss=0.355]\n"
     ]
    },
    {
     "name": "stdout",
     "output_type": "stream",
     "text": [
      "Epoch 7/20, Train Loss: 0.294171, Validation Loss: 0.291916\n",
      "Saved intermediate model to ./diffusion_models\\20241120_142926\\model_epoch_7.pth\n"
     ]
    },
    {
     "name": "stderr",
     "output_type": "stream",
     "text": [
      "Epoch 8/20 [Train]: 100%|██████████| 13/13 [00:00<00:00, 48.96it/s, loss=0.26] \n",
      "Epoch 8/20 [Validation]: 100%|██████████| 4/4 [00:00<00:00, 210.26it/s, val_loss=0.171]\n"
     ]
    },
    {
     "name": "stdout",
     "output_type": "stream",
     "text": [
      "Epoch 8/20, Train Loss: 0.280461, Validation Loss: 0.228359\n",
      "Saved intermediate model to ./diffusion_models\\20241120_142926\\model_epoch_8.pth\n"
     ]
    },
    {
     "name": "stderr",
     "output_type": "stream",
     "text": [
      "Epoch 9/20 [Train]: 100%|██████████| 13/13 [00:00<00:00, 52.97it/s, loss=0.247]\n",
      "Epoch 9/20 [Validation]: 100%|██████████| 4/4 [00:00<00:00, 209.31it/s, val_loss=0.194]\n"
     ]
    },
    {
     "name": "stdout",
     "output_type": "stream",
     "text": [
      "Epoch 9/20, Train Loss: 0.266346, Validation Loss: 0.251275\n",
      "Saved intermediate model to ./diffusion_models\\20241120_142926\\model_epoch_9.pth\n"
     ]
    },
    {
     "name": "stderr",
     "output_type": "stream",
     "text": [
      "Epoch 10/20 [Train]: 100%|██████████| 13/13 [00:00<00:00, 51.95it/s, loss=0.182]\n",
      "Epoch 10/20 [Validation]: 100%|██████████| 4/4 [00:00<00:00, 235.27it/s, val_loss=0.29]\n"
     ]
    },
    {
     "name": "stdout",
     "output_type": "stream",
     "text": [
      "Epoch 10/20, Train Loss: 0.231720, Validation Loss: 0.261782\n",
      "Saved intermediate model to ./diffusion_models\\20241120_142926\\model_epoch_10.pth\n"
     ]
    },
    {
     "name": "stderr",
     "output_type": "stream",
     "text": [
      "Epoch 11/20 [Train]: 100%|██████████| 13/13 [00:00<00:00, 51.52it/s, loss=0.227]\n",
      "Epoch 11/20 [Validation]: 100%|██████████| 4/4 [00:00<00:00, 210.53it/s, val_loss=0.181]\n"
     ]
    },
    {
     "name": "stdout",
     "output_type": "stream",
     "text": [
      "Epoch 11/20, Train Loss: 0.237722, Validation Loss: 0.237884\n",
      "Saved intermediate model to ./diffusion_models\\20241120_142926\\model_epoch_11.pth\n"
     ]
    },
    {
     "name": "stderr",
     "output_type": "stream",
     "text": [
      "Epoch 12/20 [Train]: 100%|██████████| 13/13 [00:00<00:00, 51.08it/s, loss=0.228]\n",
      "Epoch 12/20 [Validation]: 100%|██████████| 4/4 [00:00<00:00, 221.82it/s, val_loss=0.274]\n"
     ]
    },
    {
     "name": "stdout",
     "output_type": "stream",
     "text": [
      "Epoch 12/20, Train Loss: 0.237815, Validation Loss: 0.248206\n",
      "Saved intermediate model to ./diffusion_models\\20241120_142926\\model_epoch_12.pth\n"
     ]
    },
    {
     "name": "stderr",
     "output_type": "stream",
     "text": [
      "Epoch 13/20 [Train]: 100%|██████████| 13/13 [00:00<00:00, 50.56it/s, loss=0.239]\n",
      "Epoch 13/20 [Validation]: 100%|██████████| 4/4 [00:00<00:00, 233.36it/s, val_loss=0.288]\n"
     ]
    },
    {
     "name": "stdout",
     "output_type": "stream",
     "text": [
      "Epoch 13/20, Train Loss: 0.227938, Validation Loss: 0.231572\n",
      "Saved intermediate model to ./diffusion_models\\20241120_142926\\model_epoch_13.pth\n"
     ]
    },
    {
     "name": "stderr",
     "output_type": "stream",
     "text": [
      "Epoch 14/20 [Train]: 100%|██████████| 13/13 [00:00<00:00, 51.28it/s, loss=0.234]\n",
      "Epoch 14/20 [Validation]: 100%|██████████| 4/4 [00:00<00:00, 235.30it/s, val_loss=0.144]\n"
     ]
    },
    {
     "name": "stdout",
     "output_type": "stream",
     "text": [
      "Epoch 14/20, Train Loss: 0.208546, Validation Loss: 0.186355\n",
      "Saved intermediate model to ./diffusion_models\\20241120_142926\\model_epoch_14.pth\n"
     ]
    },
    {
     "name": "stderr",
     "output_type": "stream",
     "text": [
      "Epoch 15/20 [Train]: 100%|██████████| 13/13 [00:00<00:00, 53.01it/s, loss=0.158]\n",
      "Epoch 15/20 [Validation]: 100%|██████████| 4/4 [00:00<00:00, 209.06it/s, val_loss=0.203]\n"
     ]
    },
    {
     "name": "stdout",
     "output_type": "stream",
     "text": [
      "Epoch 15/20, Train Loss: 0.214147, Validation Loss: 0.223601\n",
      "Saved intermediate model to ./diffusion_models\\20241120_142926\\model_epoch_15.pth\n"
     ]
    },
    {
     "name": "stderr",
     "output_type": "stream",
     "text": [
      "Epoch 16/20 [Train]: 100%|██████████| 13/13 [00:00<00:00, 52.03it/s, loss=0.197]\n",
      "Epoch 16/20 [Validation]: 100%|██████████| 4/4 [00:00<00:00, 228.38it/s, val_loss=0.0568]\n"
     ]
    },
    {
     "name": "stdout",
     "output_type": "stream",
     "text": [
      "Epoch 16/20, Train Loss: 0.209757, Validation Loss: 0.205072\n",
      "Saved intermediate model to ./diffusion_models\\20241120_142926\\model_epoch_16.pth\n"
     ]
    },
    {
     "name": "stderr",
     "output_type": "stream",
     "text": [
      "Epoch 17/20 [Train]: 100%|██████████| 13/13 [00:00<00:00, 53.22it/s, loss=0.254]\n",
      "Epoch 17/20 [Validation]: 100%|██████████| 4/4 [00:00<00:00, 234.28it/s, val_loss=0.307]\n"
     ]
    },
    {
     "name": "stdout",
     "output_type": "stream",
     "text": [
      "Epoch 17/20, Train Loss: 0.214370, Validation Loss: 0.219801\n",
      "Saved intermediate model to ./diffusion_models\\20241120_142926\\model_epoch_17.pth\n"
     ]
    },
    {
     "name": "stderr",
     "output_type": "stream",
     "text": [
      "Epoch 18/20 [Train]: 100%|██████████| 13/13 [00:00<00:00, 52.21it/s, loss=0.162]\n",
      "Epoch 18/20 [Validation]: 100%|██████████| 4/4 [00:00<00:00, 234.04it/s, val_loss=0.295]\n"
     ]
    },
    {
     "name": "stdout",
     "output_type": "stream",
     "text": [
      "Epoch 18/20, Train Loss: 0.195832, Validation Loss: 0.221071\n",
      "Saved intermediate model to ./diffusion_models\\20241120_142926\\model_epoch_18.pth\n"
     ]
    },
    {
     "name": "stderr",
     "output_type": "stream",
     "text": [
      "Epoch 19/20 [Train]: 100%|██████████| 13/13 [00:00<00:00, 52.79it/s, loss=0.189]\n",
      "Epoch 19/20 [Validation]: 100%|██████████| 4/4 [00:00<00:00, 245.29it/s, val_loss=0.214]\n"
     ]
    },
    {
     "name": "stdout",
     "output_type": "stream",
     "text": [
      "Epoch 19/20, Train Loss: 0.184813, Validation Loss: 0.205311\n",
      "Saved intermediate model to ./diffusion_models\\20241120_142926\\model_epoch_19.pth\n"
     ]
    },
    {
     "name": "stderr",
     "output_type": "stream",
     "text": [
      "Epoch 20/20 [Train]: 100%|██████████| 13/13 [00:00<00:00, 52.31it/s, loss=0.339]\n",
      "Epoch 20/20 [Validation]: 100%|██████████| 4/4 [00:00<00:00, 217.30it/s, val_loss=0.329]\n"
     ]
    },
    {
     "name": "stdout",
     "output_type": "stream",
     "text": [
      "Epoch 20/20, Train Loss: 0.195288, Validation Loss: 0.225354\n",
      "Saved intermediate model to ./diffusion_models\\20241120_142926\\model_epoch_20.pth\n",
      "Saved final model to ./diffusion_models\\20241120_142926\\model_final.pth\n",
      "Saved losses to ./diffusion_models\\20241120_142926\\losses.csv\n",
      "Saved loss plot to ./diffusion_models\\20241120_142926\\loss_plot.png\n"
     ]
    },
    {
     "data": {
      "text/plain": [
       "<Figure size 1000x600 with 1 Axes>"
      ],
      "image/png": "[encoded data removed]"
     },
     "metadata": {},
     "output_type": "display_data"
    }
   ],
   "execution_count": 54
  },
  {
   "metadata": {
    "ExecuteTime": {
     "end_time": "2024-11-20T19:29:34.657905Z",
     "start_time": "2024-11-20T19:29:34.652395Z"
    }
   },
   "cell_type": "code",
   "source": [
    "def generate_image(model, bandgap_top, bandgap_bottom, num_timesteps=200, device=\"cuda\", image_size=32):\n",
    "    \"\"\"\n",
    "    Generate an image given bandgap conditions using the trained diffusion model.\n",
    "    \"\"\"\n",
    "    model.eval()  # Set model to evaluation mode\n",
    "    model.to(device)\n",
    "\n",
    "    # Initialize Gaussian noise\n",
    "    x_t = torch.randn(1, 1, image_size, image_size, device=device)  # Start with pure noise\n",
    "\n",
    "    # Create conditioning tensors\n",
    "    bandgap_conditions = torch.tensor([[bandgap_top, bandgap_bottom]], dtype=torch.float32, device=device)\n",
    "    t_tensor = torch.tensor([[num_timesteps]], dtype=torch.float32, device=device)\n",
    "\n",
    "    # Process bandgap and time embeddings using the model's embedding layers\n",
    "    bandgap_emb = model.bandgap_embedding(bandgap_conditions)  # Shape: (1, 128)\n",
    "    t_emb = model.time_embedding(t_tensor)  # Shape: (1, 128)\n",
    "    combined_emb = bandgap_emb + t_emb  # Combine embeddings\n",
    "\n",
    "    # Project combined embedding to match bottleneck channels\n",
    "    projected_emb = model.embedding_projection(combined_emb).view(1, 1024, 1, 1)  # Shape: (1, 1024, 1, 1)\n",
    "\n",
    "    # Iterative reverse diffusion process\n",
    "    with torch.no_grad():\n",
    "        for t in range(num_timesteps, 0, -1):\n",
    "            t_tensor = torch.tensor([[t]], dtype=torch.float32, device=device)  # Update timestep tensor\n",
    "            predicted_noise = model(x_t, t_tensor, bandgap_conditions)  # Predict noise\n",
    "            alpha_t = torch.tensor(1 - t / num_timesteps, device=device)  # Compute alpha_t\n",
    "            x_t = (x_t - (1 - alpha_t) * predicted_noise) / alpha_t.clamp(min=1e-6)  # Update x_t\n",
    "\n",
    "    # Final denoised image\n",
    "    final_image = x_t.clamp(0, 1)  # Clamp to [0, 1] for visualization\n",
    "\n",
    "    return final_image.cpu()\n",
    "\n",
    "def plot_generated_image(image_tensor, bandgap_top, bandgap_bottom, title=None, save_path=None):\n",
    "    \"\"\"\n",
    "    Plot a generated image from a diffusion model output with metadata in the title.\n",
    "    The title includes the bandgap top and bandgap bottom values.\n",
    "    The colorbar is adjusted to be the same height as the plot.\n",
    "    \n",
    "    Args:\n",
    "    - image_tensor (torch.Tensor): The generated image tensor of shape (1, 1, H, W).\n",
    "    - bandgap_top (float): Bandgap top value.\n",
    "    - bandgap_bottom (float): Bandgap bottom value.\n",
    "    - title (str): Optional title for the plot. If None, a default title is created.\n",
    "    - save_path (str): Optional path to save the plot as an image file.\n",
    "    \"\"\"\n",
    "    # Remove batch and channel dimensions\n",
    "    image = image_tensor.squeeze(0).squeeze(0).cpu().numpy()  # Shape: (H, W)\n",
    "\n",
    "    # Create the plot\n",
    "    fig, ax = plt.subplots(figsize=(6, 6))\n",
    "    im = ax.imshow(image, cmap='gray', vmin=0, vmax=1)\n",
    "\n",
    "    # Add title with metadata\n",
    "    if title is None:\n",
    "        title = f\"Generated Image\\nBandgap Top: {bandgap_top:.2f}, Bottom: {bandgap_bottom:.2f}\"\n",
    "    ax.set_title(title)\n",
    "    ax.axis(\"off\")  # Remove axis ticks for cleaner visualization\n",
    "\n",
    "    # Add a colorbar with adjusted height\n",
    "    cbar = fig.colorbar(im, ax=ax, fraction=0.046, pad=0.04)\n",
    "    cbar.set_label(\"Value\")  # Label for the colorbar\n",
    "\n",
    "    # Save or show the plot\n",
    "    if save_path:\n",
    "        plt.savefig(save_path, bbox_inches=\"tight\")\n",
    "        print(f\"Saved plot to {save_path}\")\n",
    "    else:\n",
    "        plt.show()"
   ],
   "id": "124441cdaf0c844a",
   "outputs": [],
   "execution_count": 55
  },
  {
   "metadata": {
    "ExecuteTime": {
     "end_time": "2024-11-20T19:29:34.735176Z",
     "start_time": "2024-11-20T19:29:34.687084Z"
    }
   },
   "cell_type": "code",
   "source": [
    "bandgap_top = 1800\n",
    "bandgap_bottom = 1500\n",
    "generated_image = generate_image(model, bandgap_top, bandgap_bottom)\n",
    "print(generated_image.shape)\n",
    "\n",
    "# Plot the generated image\n",
    "plot_generated_image(\n",
    "    generated_image,\n",
    "    bandgap_top=bandgap_top,\n",
    "    bandgap_bottom=bandgap_bottom,\n",
    "    title=None,\n",
    "    save_path=\"generated_image_with_metadata.png\"\n",
    ")\n"
   ],
   "id": "4f7f871eecc84d5a",
   "outputs": [
    {
     "ename": "ValueError",
     "evalue": "Shape mismatch: t_emb has shape torch.Size([1, 1, 128]), but bandgap_emb has shape torch.Size([1, 128])",
     "output_type": "error",
     "traceback": [
      "\u001B[1;31m---------------------------------------------------------------------------\u001B[0m",
      "\u001B[1;31mValueError\u001B[0m                                Traceback (most recent call last)",
      "Cell \u001B[1;32mIn[56], line 3\u001B[0m\n\u001B[0;32m      1\u001B[0m bandgap_top \u001B[38;5;241m=\u001B[39m \u001B[38;5;241m1800\u001B[39m\n\u001B[0;32m      2\u001B[0m bandgap_bottom \u001B[38;5;241m=\u001B[39m \u001B[38;5;241m1500\u001B[39m\n\u001B[1;32m----> 3\u001B[0m generated_image \u001B[38;5;241m=\u001B[39m generate_image(model, bandgap_top, bandgap_bottom)\n\u001B[0;32m      4\u001B[0m \u001B[38;5;28mprint\u001B[39m(generated_image\u001B[38;5;241m.\u001B[39mshape)\n\u001B[0;32m      6\u001B[0m \u001B[38;5;66;03m# Plot the generated image\u001B[39;00m\n",
      "Cell \u001B[1;32mIn[55], line 27\u001B[0m, in \u001B[0;36mgenerate_image\u001B[1;34m(model, bandgap_top, bandgap_bottom, num_timesteps, device, image_size)\u001B[0m\n\u001B[0;32m     25\u001B[0m \u001B[38;5;28;01mfor\u001B[39;00m t \u001B[38;5;129;01min\u001B[39;00m \u001B[38;5;28mrange\u001B[39m(num_timesteps, \u001B[38;5;241m0\u001B[39m, \u001B[38;5;241m-\u001B[39m\u001B[38;5;241m1\u001B[39m):\n\u001B[0;32m     26\u001B[0m     t_tensor \u001B[38;5;241m=\u001B[39m torch\u001B[38;5;241m.\u001B[39mtensor([[t]], dtype\u001B[38;5;241m=\u001B[39mtorch\u001B[38;5;241m.\u001B[39mfloat32, device\u001B[38;5;241m=\u001B[39mdevice)  \u001B[38;5;66;03m# Update timestep tensor\u001B[39;00m\n\u001B[1;32m---> 27\u001B[0m     predicted_noise \u001B[38;5;241m=\u001B[39m model(x_t, t_tensor, bandgap_conditions)  \u001B[38;5;66;03m# Predict noise\u001B[39;00m\n\u001B[0;32m     28\u001B[0m     alpha_t \u001B[38;5;241m=\u001B[39m torch\u001B[38;5;241m.\u001B[39mtensor(\u001B[38;5;241m1\u001B[39m \u001B[38;5;241m-\u001B[39m t \u001B[38;5;241m/\u001B[39m num_timesteps, device\u001B[38;5;241m=\u001B[39mdevice)  \u001B[38;5;66;03m# Compute alpha_t\u001B[39;00m\n\u001B[0;32m     29\u001B[0m     x_t \u001B[38;5;241m=\u001B[39m (x_t \u001B[38;5;241m-\u001B[39m (\u001B[38;5;241m1\u001B[39m \u001B[38;5;241m-\u001B[39m alpha_t) \u001B[38;5;241m*\u001B[39m predicted_noise) \u001B[38;5;241m/\u001B[39m alpha_t\u001B[38;5;241m.\u001B[39mclamp(\u001B[38;5;28mmin\u001B[39m\u001B[38;5;241m=\u001B[39m\u001B[38;5;241m1e-6\u001B[39m)  \u001B[38;5;66;03m# Update x_t\u001B[39;00m\n",
      "File \u001B[1;32m~\\AppData\\Local\\anaconda3\\envs\\razer\\Lib\\site-packages\\torch\\nn\\modules\\module.py:1553\u001B[0m, in \u001B[0;36mModule._wrapped_call_impl\u001B[1;34m(self, *args, **kwargs)\u001B[0m\n\u001B[0;32m   1551\u001B[0m     \u001B[38;5;28;01mreturn\u001B[39;00m \u001B[38;5;28mself\u001B[39m\u001B[38;5;241m.\u001B[39m_compiled_call_impl(\u001B[38;5;241m*\u001B[39margs, \u001B[38;5;241m*\u001B[39m\u001B[38;5;241m*\u001B[39mkwargs)  \u001B[38;5;66;03m# type: ignore[misc]\u001B[39;00m\n\u001B[0;32m   1552\u001B[0m \u001B[38;5;28;01melse\u001B[39;00m:\n\u001B[1;32m-> 1553\u001B[0m     \u001B[38;5;28;01mreturn\u001B[39;00m \u001B[38;5;28mself\u001B[39m\u001B[38;5;241m.\u001B[39m_call_impl(\u001B[38;5;241m*\u001B[39margs, \u001B[38;5;241m*\u001B[39m\u001B[38;5;241m*\u001B[39mkwargs)\n",
      "File \u001B[1;32m~\\AppData\\Local\\anaconda3\\envs\\razer\\Lib\\site-packages\\torch\\nn\\modules\\module.py:1562\u001B[0m, in \u001B[0;36mModule._call_impl\u001B[1;34m(self, *args, **kwargs)\u001B[0m\n\u001B[0;32m   1557\u001B[0m \u001B[38;5;66;03m# If we don't have any hooks, we want to skip the rest of the logic in\u001B[39;00m\n\u001B[0;32m   1558\u001B[0m \u001B[38;5;66;03m# this function, and just call forward.\u001B[39;00m\n\u001B[0;32m   1559\u001B[0m \u001B[38;5;28;01mif\u001B[39;00m \u001B[38;5;129;01mnot\u001B[39;00m (\u001B[38;5;28mself\u001B[39m\u001B[38;5;241m.\u001B[39m_backward_hooks \u001B[38;5;129;01mor\u001B[39;00m \u001B[38;5;28mself\u001B[39m\u001B[38;5;241m.\u001B[39m_backward_pre_hooks \u001B[38;5;129;01mor\u001B[39;00m \u001B[38;5;28mself\u001B[39m\u001B[38;5;241m.\u001B[39m_forward_hooks \u001B[38;5;129;01mor\u001B[39;00m \u001B[38;5;28mself\u001B[39m\u001B[38;5;241m.\u001B[39m_forward_pre_hooks\n\u001B[0;32m   1560\u001B[0m         \u001B[38;5;129;01mor\u001B[39;00m _global_backward_pre_hooks \u001B[38;5;129;01mor\u001B[39;00m _global_backward_hooks\n\u001B[0;32m   1561\u001B[0m         \u001B[38;5;129;01mor\u001B[39;00m _global_forward_hooks \u001B[38;5;129;01mor\u001B[39;00m _global_forward_pre_hooks):\n\u001B[1;32m-> 1562\u001B[0m     \u001B[38;5;28;01mreturn\u001B[39;00m forward_call(\u001B[38;5;241m*\u001B[39margs, \u001B[38;5;241m*\u001B[39m\u001B[38;5;241m*\u001B[39mkwargs)\n\u001B[0;32m   1564\u001B[0m \u001B[38;5;28;01mtry\u001B[39;00m:\n\u001B[0;32m   1565\u001B[0m     result \u001B[38;5;241m=\u001B[39m \u001B[38;5;28;01mNone\u001B[39;00m\n",
      "Cell \u001B[1;32mIn[50], line 84\u001B[0m, in \u001B[0;36mUNetWithTimeAndBandgap.forward\u001B[1;34m(self, x, t, bandgap)\u001B[0m\n\u001B[0;32m     82\u001B[0m \u001B[38;5;66;03m# Debugging shape mismatch\u001B[39;00m\n\u001B[0;32m     83\u001B[0m \u001B[38;5;28;01mif\u001B[39;00m t_emb\u001B[38;5;241m.\u001B[39mshape[\u001B[38;5;241m1\u001B[39m] \u001B[38;5;241m!=\u001B[39m bandgap_emb\u001B[38;5;241m.\u001B[39mshape[\u001B[38;5;241m1\u001B[39m]:\n\u001B[1;32m---> 84\u001B[0m     \u001B[38;5;28;01mraise\u001B[39;00m \u001B[38;5;167;01mValueError\u001B[39;00m(\u001B[38;5;124mf\u001B[39m\u001B[38;5;124m\"\u001B[39m\u001B[38;5;124mShape mismatch: t_emb has shape \u001B[39m\u001B[38;5;132;01m{\u001B[39;00mt_emb\u001B[38;5;241m.\u001B[39mshape\u001B[38;5;132;01m}\u001B[39;00m\u001B[38;5;124m, but bandgap_emb has shape \u001B[39m\u001B[38;5;132;01m{\u001B[39;00mbandgap_emb\u001B[38;5;241m.\u001B[39mshape\u001B[38;5;132;01m}\u001B[39;00m\u001B[38;5;124m\"\u001B[39m)\n\u001B[0;32m     86\u001B[0m combined_emb \u001B[38;5;241m=\u001B[39m t_emb \u001B[38;5;241m+\u001B[39m bandgap_emb  \u001B[38;5;66;03m# Shape: (batch_size, 128)\u001B[39;00m\n\u001B[0;32m     88\u001B[0m \u001B[38;5;66;03m# Validate embedding sizes\u001B[39;00m\n",
      "\u001B[1;31mValueError\u001B[0m: Shape mismatch: t_emb has shape torch.Size([1, 1, 128]), but bandgap_emb has shape torch.Size([1, 128])"
     ]
    }
   ],
   "execution_count": 56
  },
  {
   "metadata": {},
   "cell_type": "code",
   "source": "generated_image",
   "id": "b36241ba5925715c",
   "outputs": [],
   "execution_count": null
  }
 ],
 "metadata": {
  "kernelspec": {
   "display_name": "Python 3",
   "language": "python",
   "name": "python3"
  },
  "language_info": {
   "codemirror_mode": {
    "name": "ipython",
    "version": 2
   },
   "file_extension": ".py",
   "mimetype": "text/x-python",
   "name": "python",
   "nbconvert_exporter": "python",
   "pygments_lexer": "ipython2",
   "version": "2.7.6"
  }
 },
 "nbformat": 4,
 "nbformat_minor": 5
}

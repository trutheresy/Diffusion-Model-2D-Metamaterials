{
 "cells": [
  {
   "cell_type": "code",
   "execution_count": 1,
   "id": "initial_id",
   "metadata": {
    "ExecuteTime": {
     "end_time": "2025-03-26T03:29:26.080840Z",
     "start_time": "2025-03-26T03:29:26.077942Z"
    },
    "collapsed": true
   },
   "outputs": [],
   "source": [
    "# ==============================================\n",
    "# Diffusion Model Training Notebook\n",
    "# ==============================================\n",
    "# Author: [Han Zhang]\n",
    "# Date: [10/03/04]\n",
    "# Purpose: End-to-end demonstration of training a diffusion model on preliminary data\n",
    "# =============================================="
   ]
  },
  {
   "cell_type": "code",
   "execution_count": 2,
   "id": "6accb534536c080a",
   "metadata": {
    "ExecuteTime": {
     "end_time": "2025-03-26T03:29:28.281669Z",
     "start_time": "2025-03-26T03:29:26.082845Z"
    }
   },
   "outputs": [],
   "source": [
    "# --- Import Necessary Libraries ---\n",
    "import os  # For file handling\n",
    "import csv # For saving data to CSV\n",
    "from datetime import datetime # For timestamping\n",
    "import math \n",
    "import numpy as np  # For numerical operations\n",
    "import matplotlib.pyplot as plt  # For visualization\n",
    "import scipy.io as sio  # For handling MATLAB .mat files\n",
    "import torch  # PyTorch: deep learning framework\n",
    "import torch.nn as nn  # Neural network modules\n",
    "import torch.nn.functional as F  # Functions for neural networks\n",
    "import torch.optim as optim  # Optimization algorithms\n",
    "from torch.utils.data import DataLoader, Dataset, TensorDataset, random_split # Data handling\n",
    "from tqdm import tqdm  # Progress bar\n",
    "from sklearn.preprocessing import MinMaxScaler  # Scaling data (optional)\n",
    "#from segmentation_models_pytorch import Unet\n"
   ]
  },
  {
   "cell_type": "code",
   "execution_count": 3,
   "id": "65e3696697f96836",
   "metadata": {
    "ExecuteTime": {
     "end_time": "2025-03-26T03:29:28.397988Z",
     "start_time": "2025-03-26T03:29:28.395282Z"
    }
   },
   "outputs": [],
   "source": [
    "# --- File Paths ---\n",
    "# Define file paths (modify these for your datasets)\n",
    "# MATLAB_FILE_PATH = \"A:/Research/Projects/Metamaterial Geometry Bandgap Dataset Generator/2D-dispersion/complete_datasets/complete_dataset_control_32pix.mat\"   \n",
    "# MATLAB_FILE_PATH = \"C:/Users/hz283/Documents/Duke/Research/2D-dispersion/complete_datasets/complete_dataset_control_32pix.mat\"  \n",
    "# MATLAB_FILE_PATH = \"C:/Users/hz283/Documents/Duke/Research/Diffusion-Model-2D-Metamaterials/datasets/datasets/complete_datasets/complete_control_big_nosym.mat\" \n",
    "MATLAB_FILE_PATH = \"C:/Users/hz283/Documents/Duke/Research/Diffusion-Model-2D-Metamaterials/datasets/datasets/complete_datasets/control_sigF20_sigL08_sr90.mat\" \n",
    "OUTPUT_DIRECTORY = \"output/\"  # Directory to save results/models"
   ]
  },
  {
   "cell_type": "code",
   "execution_count": 4,
   "id": "272d64f8f741121",
   "metadata": {
    "ExecuteTime": {
     "end_time": "2025-03-26T03:29:29.707059Z",
     "start_time": "2025-03-26T03:29:28.408460Z"
    }
   },
   "outputs": [
    {
     "ename": "NotImplementedError",
     "evalue": "Please use HDF reader for matlab v7.3 files, e.g. h5py",
     "output_type": "error",
     "traceback": [
      "\u001b[1;31m---------------------------------------------------------------------------\u001b[0m",
      "\u001b[1;31mNotImplementedError\u001b[0m                       Traceback (most recent call last)",
      "Cell \u001b[1;32mIn[4], line 2\u001b[0m\n\u001b[0;32m      1\u001b[0m \u001b[38;5;66;03m# Load the .mat file\u001b[39;00m\n\u001b[1;32m----> 2\u001b[0m data \u001b[38;5;241m=\u001b[39m sio\u001b[38;5;241m.\u001b[39mloadmat(MATLAB_FILE_PATH)\n\u001b[0;32m      4\u001b[0m \u001b[38;5;66;03m# Inspect the keys in the dictionary\u001b[39;00m\n\u001b[0;32m      5\u001b[0m \u001b[38;5;28mprint\u001b[39m(\u001b[38;5;124m\"\u001b[39m\u001b[38;5;124mVariables in the .mat file:\u001b[39m\u001b[38;5;124m\"\u001b[39m, data\u001b[38;5;241m.\u001b[39mkeys())\n",
      "File \u001b[1;32mc:\\Users\\hz283\\AppData\\Local\\anaconda3\\envs\\razer\\Lib\\site-packages\\scipy\\io\\matlab\\_mio.py:226\u001b[0m, in \u001b[0;36mloadmat\u001b[1;34m(file_name, mdict, appendmat, **kwargs)\u001b[0m\n\u001b[0;32m    224\u001b[0m variable_names \u001b[38;5;241m=\u001b[39m kwargs\u001b[38;5;241m.\u001b[39mpop(\u001b[38;5;124m'\u001b[39m\u001b[38;5;124mvariable_names\u001b[39m\u001b[38;5;124m'\u001b[39m, \u001b[38;5;28;01mNone\u001b[39;00m)\n\u001b[0;32m    225\u001b[0m \u001b[38;5;28;01mwith\u001b[39;00m _open_file_context(file_name, appendmat) \u001b[38;5;28;01mas\u001b[39;00m f:\n\u001b[1;32m--> 226\u001b[0m     MR, _ \u001b[38;5;241m=\u001b[39m mat_reader_factory(f, \u001b[38;5;241m*\u001b[39m\u001b[38;5;241m*\u001b[39mkwargs)\n\u001b[0;32m    227\u001b[0m     matfile_dict \u001b[38;5;241m=\u001b[39m MR\u001b[38;5;241m.\u001b[39mget_variables(variable_names)\n\u001b[0;32m    229\u001b[0m \u001b[38;5;28;01mif\u001b[39;00m mdict \u001b[38;5;129;01mis\u001b[39;00m \u001b[38;5;129;01mnot\u001b[39;00m \u001b[38;5;28;01mNone\u001b[39;00m:\n",
      "File \u001b[1;32mc:\\Users\\hz283\\AppData\\Local\\anaconda3\\envs\\razer\\Lib\\site-packages\\scipy\\io\\matlab\\_mio.py:80\u001b[0m, in \u001b[0;36mmat_reader_factory\u001b[1;34m(file_name, appendmat, **kwargs)\u001b[0m\n\u001b[0;32m     78\u001b[0m     \u001b[38;5;28;01mreturn\u001b[39;00m MatFile5Reader(byte_stream, \u001b[38;5;241m*\u001b[39m\u001b[38;5;241m*\u001b[39mkwargs), file_opened\n\u001b[0;32m     79\u001b[0m \u001b[38;5;28;01melif\u001b[39;00m mjv \u001b[38;5;241m==\u001b[39m \u001b[38;5;241m2\u001b[39m:\n\u001b[1;32m---> 80\u001b[0m     \u001b[38;5;28;01mraise\u001b[39;00m \u001b[38;5;167;01mNotImplementedError\u001b[39;00m(\u001b[38;5;124m'\u001b[39m\u001b[38;5;124mPlease use HDF reader for matlab v7.3 \u001b[39m\u001b[38;5;124m'\u001b[39m\n\u001b[0;32m     81\u001b[0m                               \u001b[38;5;124m'\u001b[39m\u001b[38;5;124mfiles, e.g. h5py\u001b[39m\u001b[38;5;124m'\u001b[39m)\n\u001b[0;32m     82\u001b[0m \u001b[38;5;28;01melse\u001b[39;00m:\n\u001b[0;32m     83\u001b[0m     \u001b[38;5;28;01mraise\u001b[39;00m \u001b[38;5;167;01mTypeError\u001b[39;00m(\u001b[38;5;124m'\u001b[39m\u001b[38;5;124mDid not recognize version \u001b[39m\u001b[38;5;132;01m%s\u001b[39;00m\u001b[38;5;124m'\u001b[39m \u001b[38;5;241m%\u001b[39m mjv)\n",
      "\u001b[1;31mNotImplementedError\u001b[0m: Please use HDF reader for matlab v7.3 files, e.g. h5py"
     ]
    }
   ],
   "source": [
    "# Load the .mat file\n",
    "data = sio.loadmat(MATLAB_FILE_PATH)\n",
    "\n",
    "# Inspect the keys in the dictionary\n",
    "print(\"Variables in the .mat file:\", data.keys())\n",
    "\n",
    "# Extract specific variables\n",
    "designs_raw = data.get('designs')  # Replace 'designs' with your variable name\n",
    "if designs_raw is not None:\n",
    "    print(\"Designs raw shape:\", designs_raw.shape)\n",
    "else:\n",
    "    print(\"Designs variable not found.\")\n",
    "\n",
    "bandgap_widths = data.get('bandgap_widths')  # Replace 'bandgap_edges' with your variable name\n",
    "if bandgap_widths is not None:\n",
    "    print(\"Bandgap widths raw shape:\", bandgap_widths.shape)\n",
    "else:\n",
    "    print(\"Bandgap_widths variable not found.\") \n",
    "\n",
    "bandgap_locations = data.get('bandgap_locations')  # Replace 'bandgap_edges' with your variable name\n",
    "if bandgap_locations is not None:\n",
    "    print(\"Bandgap locations raw shape:\", bandgap_locations.shape)\n",
    "else:\n",
    "    print(\"Bandgap_locations variable not found.\")\n",
    "    \n",
    "# Reshape designs_raw, drop redundant 3rd dimension\n",
    "designs = np.transpose(designs_raw, (3, 0, 1, 2))[..., 0]\n",
    "print(\"Designs processed shape:\", designs.shape)\n",
    "\n",
    "# A bandgap top is the bandgap location plus half the bandgap width \n",
    "bandgap_tops = bandgap_locations + bandgap_widths / 2\n",
    "# A bandgap bottom is the bandgap location minus half the bandgap width\n",
    "bandgap_bottoms = bandgap_locations - bandgap_widths / 2\n",
    "\n",
    "# Transpose the bandgap tops and bottoms arrays to have shape (n,), then keep only the first row\n",
    "bandgap_tops = np.transpose(bandgap_tops)[:,1]\n",
    "bandgap_bottoms = np.transpose(bandgap_bottoms)[:,1]\n",
    "print(\"Bandgap tops shape:\", bandgap_tops.shape)\n",
    "print(\"Bandgap bottoms shape:\", bandgap_bottoms.shape)\n"
   ]
  },
  {
   "cell_type": "code",
   "execution_count": 5,
   "id": "304e6d8e",
   "metadata": {
    "ExecuteTime": {
     "end_time": "2025-03-26T03:29:29.977589Z",
     "start_time": "2025-03-26T03:29:29.724761Z"
    }
   },
   "outputs": [
    {
     "data": {
      "image/png": "[encoded data removed]",
      "text/plain": [
       "<Figure size 1000x1000 with 2 Axes>"
      ]
     },
     "metadata": {},
     "output_type": "display_data"
    }
   ],
   "source": [
    "# Plot a 2x1 subplot of the histograms of the bandgap locations and widths, flatten the arrays first\n",
    "fig, axs = plt.subplots(2, 1, figsize=(10, 10))\n",
    "axs[0].hist(bandgap_locations.flatten(), bins=50, edgecolor='black')\n",
    "axs[0].set_title('Histogram of Bandgap Locations')\n",
    "axs[0].set_xlabel('Bandgap Location')\n",
    "axs[0].set_ylabel('Frequency')\n",
    "axs[1].hist(bandgap_widths.flatten(), bins=50, edgecolor='black')\n",
    "axs[1].set_title('Histogram of Bandgap Widths')\n",
    "axs[1].set_xlabel('Bandgap Width')\n",
    "axs[1].set_ylabel('Frequency')\n",
    "plt.show()\n"
   ]
  },
  {
   "cell_type": "code",
   "execution_count": 6,
   "id": "b33eedcb",
   "metadata": {
    "ExecuteTime": {
     "end_time": "2025-03-26T03:29:30.138167Z",
     "start_time": "2025-03-26T03:29:29.984791Z"
    }
   },
   "outputs": [
    {
     "data": {
      "image/png": "[encoded data removed]",
      "text/plain": [
       "<Figure size 1000x1000 with 2 Axes>"
      ]
     },
     "metadata": {},
     "output_type": "display_data"
    }
   ],
   "source": [
    "# Plot a 2x1 subplot of the histograms of the bandgap tops and bottoms\n",
    "fig, axs = plt.subplots(2, 1, figsize=(10, 10))\n",
    "axs[0].hist(bandgap_tops, bins=50, edgecolor='black')\n",
    "axs[0].set_title('Histogram of Bandgap Tops')\n",
    "axs[0].set_xlabel('Bandgap Top')\n",
    "axs[0].set_ylabel('Frequency')\n",
    "axs[1].hist(bandgap_bottoms, bins=50, edgecolor='black')\n",
    "axs[1].set_title('Histogram of Bandgap Bottoms')\n",
    "axs[1].set_xlabel('Bandgap Bottom')\n",
    "axs[1].set_ylabel('Frequency')\n",
    "plt.show()\n"
   ]
  },
  {
   "cell_type": "code",
   "execution_count": 7,
   "id": "122a78551bb96dcb",
   "metadata": {
    "ExecuteTime": {
     "end_time": "2025-03-26T03:29:30.154744Z",
     "start_time": "2025-03-26T03:29:30.148394Z"
    }
   },
   "outputs": [],
   "source": [
    "def plot_sample_geometry(designs, bandgap_tops, bandgap_bottoms, index=0):\n",
    "    \"\"\"\n",
    "    Plots a single sample geometry from the designs array with additional metadata.\n",
    "    The title includes the index, bandgap top, and bandgap bottom values.\n",
    "    The colorbar is adjusted to be the same height as the plot.\n",
    "    \n",
    "    Args:\n",
    "    - designs (np.ndarray): Array containing the designs of shape (n, 32, 32).\n",
    "    - index (int): Index of the sample to plot.\n",
    "    - bandgap_tops (np.ndarray): Array of bandgap top values of shape (n,).\n",
    "    - bandgap_bottoms (np.ndarray): Array of bandgap bottom values of shape (n,).\n",
    "    \"\"\"\n",
    "    # Validate index\n",
    "    if index < 0 or index >= designs.shape[0]:\n",
    "        raise ValueError(f\"Index {index} is out of bounds for designs array with shape {designs.shape}.\")\n",
    "\n",
    "    # Extract the geometry to plot\n",
    "    sample_geometry = designs[index]\n",
    "\n",
    "    # Metadata for the title\n",
    "    top = float(bandgap_tops[index])  # Convert to scalar float\n",
    "    bottom = float(bandgap_bottoms[index])  # Convert to scalar float\n",
    "\n",
    "    # Create the plot\n",
    "    fig, ax = plt.subplots(figsize=(6, 6))\n",
    "    im = ax.imshow(sample_geometry, cmap='gray', vmin=0, vmax=1)\n",
    "    ax.set_title(f\"Index: {index}, Bandgap Top: {top:.2f}, Bottom: {bottom:.2f}\")\n",
    "    ax.axis(\"off\")  # Remove axis ticks for cleaner visualization\n",
    "\n",
    "    # Add a colorbar with adjusted height\n",
    "    cbar = fig.colorbar(im, ax=ax, fraction=0.046, pad=0.04)  # Fraction controls height, pad adjusts spacing\n",
    "    cbar.set_label(\"Value\")  # Label for the colorbar\n",
    "\n",
    "    # Show the plot\n",
    "    plt.show()\n",
    "\n",
    "def extract_bandgap_edges(bandgap_edges, warn_threshold=1, zero_threshold=0.5):\n",
    "    \"\"\"\n",
    "    Extracts the bandgap tops and bottoms for each geometry.\n",
    "    Prints warnings for:\n",
    "      - Rows with a single non-zero value.\n",
    "      - Negative non-zero values.\n",
    "      - Non-positive differences between top and bottom values.\n",
    "      - Bandgap differences smaller than warn_threshold.\n",
    "      - Bandgap set to 0 due to zero_threshold.\n",
    "\n",
    "    Args:\n",
    "    - bandgap_edges (np.ndarray): Array of shape (n, 5, 2) containing bandgap edges.\n",
    "    - warn_threshold (float): Threshold for small bandgap warnings.\n",
    "    - zero_threshold (float): Minimum difference for a valid bandgap. Below this, a different row is checked.\n",
    "\n",
    "    Returns:\n",
    "    - bandgap_tops (np.ndarray): Vector of length n containing the top edges of the bandgap.\n",
    "    - bandgap_bottoms (np.ndarray): Vector of length n containing the bottom edges of the bandgap.\n",
    "    \"\"\"\n",
    "    n = bandgap_edges.shape[0]  # Number of samples\n",
    "    bandgap_tops = np.zeros(n)  # Initialize tops\n",
    "    bandgap_bottoms = np.zeros(n)  # Initialize bottoms\n",
    "\n",
    "    for i in range(n):\n",
    "        # Extract the 5x2 array for the current sample\n",
    "        edges = bandgap_edges[i]\n",
    "\n",
    "        # Iterate over the rows to find a valid row\n",
    "        valid_pair = False\n",
    "        for row in edges:\n",
    "            non_zero_count = np.count_nonzero(row)  # Count non-zero values in the row\n",
    "            if non_zero_count == 2:\n",
    "                # Check for negative non-zero values\n",
    "                if any(value < 0 for value in row):\n",
    "                    print(f\"Warning: Negative values found in sample {i}, row: {row}\")\n",
    "\n",
    "                # Compute the bandgap top and bottom\n",
    "                bottom, top  = row[0], row[1]\n",
    "                difference = top - bottom\n",
    "\n",
    "                # Check for non-positive difference\n",
    "                if difference <= 0:\n",
    "                    print(f\"Warning: Non-positive difference in sample {i}, row: {row}\")\n",
    "                    continue  # Move to the next row\n",
    "\n",
    "                # Check if the difference is between 0 and zero_threshold\n",
    "                elif 0 < difference < zero_threshold:\n",
    "                    print(f\"Warning: Bandgap difference below zero_threshold ({zero_threshold}) in sample {i}, row: {row}, ignoring this bandgap.\")\n",
    "                    continue  # Skip this row and move to the next\n",
    "\n",
    "                # Check if the difference is between zero_threshold and warn_threshold\n",
    "                elif zero_threshold <= difference < warn_threshold:\n",
    "                    print(f\"Warning: Small bandgap detected at index {i}, value: {difference:.6f}, still recorded as valid bandgap.\")\n",
    "\n",
    "                # Assign values to bandgap_tops and bandgap_bottoms\n",
    "                bandgap_tops[i] = top\n",
    "                bandgap_bottoms[i] = bottom\n",
    "                valid_pair = True\n",
    "                break  # Exit the loop once a valid row is found\n",
    "            elif non_zero_count == 1:\n",
    "                # Row has a single non-zero value: print a warning\n",
    "                print(f\"Warning: Row with a single non-zero value detected in sample {i}: {row}\")\n",
    "\n",
    "        if not valid_pair:\n",
    "            # No valid row found or all rows had differences below zero_threshold\n",
    "            bandgap_tops[i] = 0\n",
    "            bandgap_bottoms[i] = 0\n",
    "            #print(f\"Bandgap set to 0 for sample {i} due to zero_threshold ({zero_threshold}).\")\n",
    "\n",
    "    non_zero_count = np.count_nonzero(bandgap_tops)\n",
    "    print(f\"Number of non-zero bandgap_tops and bandgap_bottoms: {non_zero_count} out of {n}\")\n",
    "    return bandgap_tops, bandgap_bottoms"
   ]
  },
  {
   "cell_type": "code",
   "execution_count": 8,
   "id": "42f09f63666d1110",
   "metadata": {
    "ExecuteTime": {
     "end_time": "2025-03-26T03:29:30.226501Z",
     "start_time": "2025-03-26T03:29:30.164891Z"
    }
   },
   "outputs": [
    {
     "data": {
      "image/png": "[encoded data removed]",
      "text/plain": [
       "<Figure size 600x600 with 2 Axes>"
      ]
     },
     "metadata": {},
     "output_type": "display_data"
    }
   ],
   "source": [
    "plot_sample_geometry(designs, bandgap_tops, bandgap_bottoms, index=999)"
   ]
  },
  {
   "cell_type": "code",
   "execution_count": 9,
   "id": "e249e8d5b4e31104",
   "metadata": {
    "ExecuteTime": {
     "end_time": "2025-03-26T03:29:30.256536Z",
     "start_time": "2025-03-26T03:29:30.235674Z"
    }
   },
   "outputs": [],
   "source": [
    "# --- Inlined Sinusoidal Position Embedding ---\n",
    "# We define it so that it always returns a tensor of shape (B, embedding_dim) given\n",
    "# an input of shape (B,) (or (B, 1), which is immediately squeezed).\n",
    "class SinusoidalPositionEmbeddings(nn.Module):\n",
    "    def __init__(self, embedding_dim):\n",
    "        super().__init__()\n",
    "        self.embedding_dim = embedding_dim\n",
    "\n",
    "    def forward(self, timesteps):\n",
    "        # Ensure timesteps is shaped (B,) (i.e. scalar for each batch item)\n",
    "        # Do not assume an extra singleton dimension!\n",
    "        if timesteps.dim() == 2:\n",
    "            timesteps = timesteps.squeeze(1) \n",
    "        half_dim = self.embedding_dim // 2\n",
    "        emb_scale = math.log(10000) / (half_dim - 1)\n",
    "        # Create a vector of frequencies of shape (half_dim,)\n",
    "        freqs = torch.exp(torch.arange(half_dim, device=timesteps.device, dtype=torch.float32) * -emb_scale)\n",
    "        # Multiply timesteps (B,) with frequencies (half_dim,) to produce (B, half_dim)\n",
    "        args = timesteps.float().unsqueeze(1) * freqs.unsqueeze(0)\n",
    "        # Concatenate sine and cosine along the last dimension to obtain (B, embedding_dim)\n",
    "        emb = torch.cat([torch.sin(args), torch.cos(args)], dim=-1)\n",
    "        return emb\n"
   ]
  },
  {
   "cell_type": "code",
   "execution_count": 10,
   "id": "6a815144",
   "metadata": {
    "ExecuteTime": {
     "end_time": "2025-03-26T03:29:30.290901Z",
     "start_time": "2025-03-26T03:29:30.278879Z"
    }
   },
   "outputs": [],
   "source": [
    "class UNetWithTimeAndBandgap(nn.Module):\n",
    "    def __init__(self, input_channels=1, output_channels=1, time_embedding_dim=128, bandgap_dim=128):\n",
    "        super().__init__()\n",
    "        \n",
    "        # Time and bandgap embedding paths remain the same\n",
    "        self.time_mlp = nn.Sequential(\n",
    "            SinusoidalPositionEmbeddings(time_embedding_dim),\n",
    "            nn.Linear(time_embedding_dim, time_embedding_dim),\n",
    "            nn.GELU(),\n",
    "            nn.Linear(time_embedding_dim, time_embedding_dim)\n",
    "        )\n",
    "        \n",
    "        self.bandgap_mlp = nn.Sequential(\n",
    "            nn.Linear(2, bandgap_dim),\n",
    "            nn.GELU(),\n",
    "            nn.Linear(bandgap_dim, bandgap_dim)\n",
    "        )\n",
    "        \n",
    "        self.cond_projection = nn.Sequential(\n",
    "            nn.Linear(bandgap_dim, 512),\n",
    "            nn.GELU()\n",
    "        )\n",
    "        \n",
    "        # Encoder path (same as before)\n",
    "        self.inc_conv1 = nn.Conv2d(input_channels, 64, kernel_size=3, padding=1)\n",
    "        self.inc_bn1 = nn.BatchNorm2d(64)\n",
    "        self.inc_conv2 = nn.Conv2d(64, 64, kernel_size=3, padding=1)\n",
    "        self.inc_bn2 = nn.BatchNorm2d(64)\n",
    "        \n",
    "        self.down1_pool = nn.MaxPool2d(2)\n",
    "        self.down1_conv1 = nn.Conv2d(64, 128, kernel_size=3, padding=1)\n",
    "        self.down1_bn1 = nn.BatchNorm2d(128)\n",
    "        self.down1_conv2 = nn.Conv2d(128, 128, kernel_size=3, padding=1)\n",
    "        self.down1_bn2 = nn.BatchNorm2d(128)\n",
    "        \n",
    "        self.down2_pool = nn.MaxPool2d(2)\n",
    "        self.down2_conv1 = nn.Conv2d(128, 256, kernel_size=3, padding=1)\n",
    "        self.down2_bn1 = nn.BatchNorm2d(256)\n",
    "        self.down2_conv2 = nn.Conv2d(256, 256, kernel_size=3, padding=1)\n",
    "        self.down2_bn2 = nn.BatchNorm2d(256)\n",
    "        \n",
    "        self.down3_pool = nn.MaxPool2d(2)\n",
    "        self.down3_conv1 = nn.Conv2d(256, 512, kernel_size=3, padding=1)\n",
    "        self.down3_bn1 = nn.BatchNorm2d(512)\n",
    "        self.down3_conv2 = nn.Conv2d(512, 512, kernel_size=3, padding=1)\n",
    "        self.down3_bn2 = nn.BatchNorm2d(512)\n",
    "        \n",
    "        self.down4_pool = nn.MaxPool2d(2)\n",
    "        self.down4_conv1 = nn.Conv2d(512, 512, kernel_size=3, padding=1)\n",
    "        self.down4_bn1 = nn.BatchNorm2d(512)\n",
    "        self.down4_conv2 = nn.Conv2d(512, 512, kernel_size=3, padding=1)\n",
    "        self.down4_bn2 = nn.BatchNorm2d(512)\n",
    "        \n",
    "        # Decoder path (fixed channel dimensions)\n",
    "        self.up1_upsample = nn.Upsample(scale_factor=2, mode='bilinear', align_corners=True)\n",
    "        self.up1_conv1 = nn.Conv2d(512 + 512, 256, kernel_size=3, padding=1)  # 1024 input channels (512 + 512)\n",
    "        self.up1_bn1 = nn.BatchNorm2d(256)\n",
    "        self.up1_conv2 = nn.Conv2d(256, 256, kernel_size=3, padding=1)\n",
    "        self.up1_bn2 = nn.BatchNorm2d(256)\n",
    "        \n",
    "        self.up2_upsample = nn.Upsample(scale_factor=2, mode='bilinear', align_corners=True)\n",
    "        self.up2_conv1 = nn.Conv2d(256 + 256, 128, kernel_size=3, padding=1)  # 512 input channels (256 + 256)\n",
    "        self.up2_bn1 = nn.BatchNorm2d(128)\n",
    "        self.up2_conv2 = nn.Conv2d(128, 128, kernel_size=3, padding=1)\n",
    "        self.up2_bn2 = nn.BatchNorm2d(128)\n",
    "        \n",
    "        self.up3_upsample = nn.Upsample(scale_factor=2, mode='bilinear', align_corners=True)\n",
    "        self.up3_conv1 = nn.Conv2d(128 + 128, 64, kernel_size=3, padding=1)  # 256 input channels (128 + 128)\n",
    "        self.up3_bn1 = nn.BatchNorm2d(64)\n",
    "        self.up3_conv2 = nn.Conv2d(64, 64, kernel_size=3, padding=1)\n",
    "        self.up3_bn2 = nn.BatchNorm2d(64)\n",
    "        \n",
    "        self.up4_upsample = nn.Upsample(scale_factor=2, mode='bilinear', align_corners=True)\n",
    "        self.up4_conv1 = nn.Conv2d(64 + 64, 64, kernel_size=3, padding=1)  # 128 input channels (64 + 64)\n",
    "        self.up4_bn1 = nn.BatchNorm2d(64)\n",
    "        self.up4_conv2 = nn.Conv2d(64, 64, kernel_size=3, padding=1)\n",
    "        self.up4_bn2 = nn.BatchNorm2d(64)\n",
    "        \n",
    "        self.out_conv = nn.Conv2d(64, output_channels, kernel_size=1)\n",
    "        \n",
    "    def forward(self, x, t, bandgap):\n",
    "        # Process condition embeddings\n",
    "        t_emb = self.time_mlp(t)\n",
    "        bandgap_emb = self.bandgap_mlp(bandgap)\n",
    "        combined_emb = t_emb + bandgap_emb\n",
    "        combined_emb = self.cond_projection(combined_emb)\n",
    "        combined_emb = combined_emb.unsqueeze(-1).unsqueeze(-1)\n",
    "        \n",
    "        # Encoder path\n",
    "        x1 = F.relu(self.inc_bn1(self.inc_conv1(x)))\n",
    "        x1 = F.relu(self.inc_bn2(self.inc_conv2(x1)))  # (B, 64, H, W)\n",
    "        \n",
    "        x2 = self.down1_pool(x1)\n",
    "        x2 = F.relu(self.down1_bn1(self.down1_conv1(x2)))\n",
    "        x2 = F.relu(self.down1_bn2(self.down1_conv2(x2)))  # (B, 128, H/2, W/2)\n",
    "        \n",
    "        x3 = self.down2_pool(x2)\n",
    "        x3 = F.relu(self.down2_bn1(self.down2_conv1(x3)))\n",
    "        x3 = F.relu(self.down2_bn2(self.down2_conv2(x3)))  # (B, 256, H/4, W/4)\n",
    "        \n",
    "        x4 = self.down3_pool(x3)\n",
    "        x4 = F.relu(self.down3_bn1(self.down3_conv1(x4)))\n",
    "        x4 = F.relu(self.down3_bn2(self.down3_conv2(x4)))  # (B, 512, H/8, W/8)\n",
    "        \n",
    "        x5 = self.down4_pool(x4)\n",
    "        x5 = F.relu(self.down4_bn1(self.down4_conv1(x5)))\n",
    "        x5 = F.relu(self.down4_bn2(self.down4_conv2(x5)))  # (B, 512, H/16, W/16)\n",
    "        \n",
    "        # Add conditioning\n",
    "        x5 = x5 + combined_emb\n",
    "        \n",
    "        # Decoder path\n",
    "        x = self.up1_upsample(x5)\n",
    "        diffY = x4.size()[2] - x.size()[2]\n",
    "        diffX = x4.size()[3] - x.size()[3]\n",
    "        x = F.pad(x, [diffX//2, diffX - diffX//2, diffY//2, diffY - diffY//2])\n",
    "        x = torch.cat([x4, x], dim=1)  # (B, 1024, H/8, W/8)\n",
    "        x = F.relu(self.up1_bn1(self.up1_conv1(x)))\n",
    "        x = F.relu(self.up1_bn2(self.up1_conv2(x)))\n",
    "        \n",
    "        x = self.up2_upsample(x)\n",
    "        diffY = x3.size()[2] - x.size()[2]\n",
    "        diffX = x3.size()[3] - x.size()[3]\n",
    "        x = F.pad(x, [diffX//2, diffX - diffX//2, diffY//2, diffY - diffY//2])\n",
    "        x = torch.cat([x3, x], dim=1)  # (B, 512, H/4, W/4)\n",
    "        x = F.relu(self.up2_bn1(self.up2_conv1(x)))\n",
    "        x = F.relu(self.up2_bn2(self.up2_conv2(x)))\n",
    "        \n",
    "        x = self.up3_upsample(x)\n",
    "        diffY = x2.size()[2] - x.size()[2]\n",
    "        diffX = x2.size()[3] - x.size()[3]\n",
    "        x = F.pad(x, [diffX//2, diffX - diffX//2, diffY//2, diffY - diffY//2])\n",
    "        x = torch.cat([x2, x], dim=1)  # (B, 256, H/2, W/2)\n",
    "        x = F.relu(self.up3_bn1(self.up3_conv1(x)))\n",
    "        x = F.relu(self.up3_bn2(self.up3_conv2(x)))\n",
    "        \n",
    "        x = self.up4_upsample(x)\n",
    "        diffY = x1.size()[2] - x.size()[2]\n",
    "        diffX = x1.size()[3] - x.size()[3]\n",
    "        x = F.pad(x, [diffX//2, diffX - diffX//2, diffY//2, diffY - diffY//2])\n",
    "        x = torch.cat([x1, x], dim=1)  # (B, 128, H, W)\n",
    "        x = F.relu(self.up4_bn1(self.up4_conv1(x)))\n",
    "        x = F.relu(self.up4_bn2(self.up4_conv2(x)))\n",
    "        \n",
    "        return self.out_conv(x)"
   ]
  },
  {
   "cell_type": "code",
   "execution_count": 11,
   "id": "9b218521dc684589",
   "metadata": {
    "ExecuteTime": {
     "end_time": "2025-03-26T03:29:30.303540Z",
     "start_time": "2025-03-26T03:29:30.293905Z"
    }
   },
   "outputs": [],
   "source": [
    "# Define the forward diffusion process\n",
    "def forward_diffusion_sample(x_0, t, noise=None):\n",
    "    \"\"\"\n",
    "    Add Gaussian noise to input images based on the timestep.\n",
    "    Args:\n",
    "    - x_0 (torch.Tensor): Clean input images of shape (batch, channels, H, W).\n",
    "    - t (torch.Tensor): Timestep scalar tensor of shape (batch,).\n",
    "    - noise (torch.Tensor): Optional noise to add; otherwise, sampled from normal distribution.\n",
    "    Returns:\n",
    "    - x_t: Noisy image at timestep t.\n",
    "    - noise: The added noise.\n",
    "    \"\"\"\n",
    "    if noise is None:\n",
    "        noise = torch.randn_like(x_0)  # Generate Gaussian noise\n",
    "    alpha_t = (1 - t / t.max()).view(-1, 1, 1, 1)  # Linearly decreasing variance schedule\n",
    "    x_t = alpha_t * x_0 + (1 - alpha_t) * noise  # Add noise proportional to alpha_t\n",
    "    return x_t, noise\n",
    "\n",
    "# Training function\n",
    "def forward_diffusion_sample(x_0, t, noise=None):\n",
    "    \"\"\"\n",
    "    Add Gaussian noise to input images based on the timestep.\n",
    "    Args:\n",
    "    - x_0 (torch.Tensor): Clean input images of shape (batch, channels, H, W).\n",
    "    - t (torch.Tensor): Timestep scalar tensor of shape (batch,).\n",
    "    - noise (torch.Tensor): Optional noise to add; otherwise, sampled from normal distribution.\n",
    "    Returns:\n",
    "    - x_t: Noisy image at timestep t.\n",
    "    - noise: The added noise.\n",
    "    \"\"\"\n",
    "    if noise is None:\n",
    "        noise = torch.randn_like(x_0)  # Generate Gaussian noise\n",
    "    alpha_t = (1 - t / t.max()).view(-1, 1, 1, 1)  # Linearly decreasing variance schedule\n",
    "    x_t = alpha_t * x_0 + (1 - alpha_t) * noise  # Add noise proportional to alpha_t\n",
    "    return x_t, noise\n",
    "\n",
    "# Training function\n",
    "def train_diffusion_model(\n",
    "    model,\n",
    "    train_dataloader,\n",
    "    val_dataloader,\n",
    "    num_timesteps=200,\n",
    "    epochs=20,\n",
    "    criterion=nn.MSELoss(),\n",
    "    device=\"cuda\",\n",
    "    output_folder=\"output\",\n",
    "    save_intermediates=True,\n",
    "    track_losses=True,\n",
    "):\n",
    "    \"\"\"\n",
    "    Train the diffusion model with optional intermediate model saving and loss tracking.\n",
    "    \n",
    "    Args:\n",
    "        model: The UNet model to train\n",
    "        train_dataloader: DataLoader for training data\n",
    "        val_dataloader: DataLoader for validation data\n",
    "        num_timesteps: Number of diffusion steps\n",
    "        epochs: Number of training epochs\n",
    "        device: Device to train on (\"cuda\" or \"cpu\")\n",
    "        output_folder: Where to save model checkpoints and logs\n",
    "        save_intermediates: Whether to save intermediate model checkpoints\n",
    "        track_losses: Whether to track and plot training/validation losses\n",
    "        criterion: Loss function to use (default: MSELoss)\n",
    "    \"\"\"\n",
    "    optimizer = optim.AdamW(model.parameters(), lr=1e-4, weight_decay=1e-2)\n",
    "    \n",
    "    device = torch.device(device)\n",
    "    model.to(device)\n",
    "    model.train()\n",
    "\n",
    "    # Create output folder if it doesn't exist\n",
    "    os.makedirs(output_folder, exist_ok=True)\n",
    "\n",
    "    # Initialize lists to track losses\n",
    "    training_losses = []\n",
    "    validation_losses = []\n",
    "\n",
    "    for epoch in range(epochs):\n",
    "        model.train()  # Set model to training mode\n",
    "        epoch_train_loss = 0\n",
    "        with tqdm(train_dataloader, desc=f\"Epoch {epoch + 1}/{epochs} [Train]\") as pbar:\n",
    "            for batch in pbar:\n",
    "                images, bandgap_tops, bandgap_bottoms = batch\n",
    "                images = images.to(device)\n",
    "                bandgap_tops = bandgap_tops.to(device)\n",
    "                bandgap_bottoms = bandgap_bottoms.to(device)\n",
    "\n",
    "                # Ensure images have the correct channel dimension\n",
    "                if images.ndim == 3:\n",
    "                    images = images.unsqueeze(1)\n",
    "\n",
    "                # Combine bandgap_tops and bandgap_bottoms into a single tensor\n",
    "                bandgap_conditions = torch.stack([bandgap_tops, bandgap_bottoms], dim=1)\n",
    "\n",
    "                # Sample random timesteps for the batch\n",
    "                timesteps = torch.randint(1, num_timesteps + 1, (images.size(0),), device=device).float()\n",
    "\n",
    "                # Forward diffusion process (add noise)\n",
    "                noisy_images, noise = forward_diffusion_sample(images, timesteps)\n",
    "\n",
    "                # Predict noise from the noisy images\n",
    "                predicted_noise = model(noisy_images, timesteps, bandgap_conditions)\n",
    "\n",
    "                # Compute loss\n",
    "                loss = criterion(predicted_noise, noise)\n",
    "\n",
    "                # Backpropagation\n",
    "                optimizer.zero_grad()\n",
    "                loss.backward()\n",
    "                optimizer.step()\n",
    "\n",
    "                # Update TQDM progress bar\n",
    "                epoch_train_loss += loss.item()\n",
    "                pbar.set_postfix(loss=loss.item())\n",
    "\n",
    "        avg_train_loss = epoch_train_loss / len(train_dataloader)\n",
    "        training_losses.append(avg_train_loss)\n",
    "\n",
    "        # Validation Loss\n",
    "        model.eval()  # Set model to evaluation mode\n",
    "        epoch_val_loss = 0\n",
    "        with torch.no_grad():\n",
    "            with tqdm(val_dataloader, desc=f\"Epoch {epoch + 1}/{epochs} [Validation]\") as pbar:\n",
    "                for batch in pbar:\n",
    "                    images, bandgap_tops, bandgap_bottoms = batch\n",
    "                    images = images.to(device)\n",
    "                    bandgap_tops = bandgap_tops.to(device)\n",
    "                    bandgap_bottoms = bandgap_bottoms.to(device)\n",
    "\n",
    "                    if images.ndim == 3:\n",
    "                        images = images.unsqueeze(1)\n",
    "\n",
    "                    bandgap_conditions = torch.stack([bandgap_tops, bandgap_bottoms], dim=1)\n",
    "                    timesteps = torch.randint(1, num_timesteps + 1, (images.size(0),), device=device).float()\n",
    "                    noisy_images, noise = forward_diffusion_sample(images, timesteps)\n",
    "                    predicted_noise = model(noisy_images, timesteps, bandgap_conditions)\n",
    "                    val_loss = criterion(predicted_noise, noise)\n",
    "                    epoch_val_loss += val_loss.item()\n",
    "                    pbar.set_postfix(val_loss=val_loss.item())\n",
    "\n",
    "        avg_val_loss = epoch_val_loss / len(val_dataloader)\n",
    "        validation_losses.append(avg_val_loss)\n",
    "\n",
    "        print(f\"Epoch {epoch + 1}/{epochs}, Train Loss: {avg_train_loss:.6f}, Validation Loss: {avg_val_loss:.6f}\")\n",
    "\n",
    "        # Save model checkpoint\n",
    "        if save_intermediates:\n",
    "            model_path = os.path.join(output_folder, f\"model_epoch_{epoch + 1}.pth\")\n",
    "            torch.save(model.state_dict(), model_path)\n",
    "            print(f\"Saved intermediate model to {model_path}\")\n",
    "\n",
    "    # Save the final model\n",
    "    final_model_path = os.path.join(output_folder, \"model_final.pth\")\n",
    "    torch.save(model.state_dict(), final_model_path)\n",
    "    print(f\"Saved final model to {final_model_path}\")\n",
    "\n",
    "    # Track losses\n",
    "    if track_losses:\n",
    "        # Save losses to CSV\n",
    "        losses_csv_path = os.path.join(output_folder, \"losses.csv\")\n",
    "        with open(losses_csv_path, \"w\", newline=\"\") as csvfile:\n",
    "            writer = csv.writer(csvfile)\n",
    "            writer.writerow([\"Epoch\", \"Train Loss\", \"Validation Loss\"])\n",
    "            for epoch, (train_loss, val_loss) in enumerate(zip(training_losses, validation_losses), start=1):\n",
    "                writer.writerow([epoch, train_loss, val_loss])\n",
    "        print(f\"Saved losses to {losses_csv_path}\")\n",
    "\n",
    "        # Plot losses\n",
    "        plt.figure(figsize=(10, 6))\n",
    "        plt.plot(range(1, epochs + 1), training_losses, label=\"Training Loss\")\n",
    "        plt.plot(range(1, epochs + 1), validation_losses, label=\"Validation Loss\")\n",
    "        plt.xlabel(\"Epochs\")\n",
    "        plt.ylabel(\"Loss\")\n",
    "        plt.title(\"Training and Validation Loss Over Epochs\")\n",
    "        plt.legend()\n",
    "        plt.grid(True)\n",
    "        plt_path = os.path.join(output_folder, \"loss_plot.png\")\n",
    "        plt.savefig(plt_path)\n",
    "        print(f\"Saved loss plot to {plt_path}\")\n",
    "        plt.show()"
   ]
  },
  {
   "cell_type": "code",
   "execution_count": 12,
   "id": "65014772c8b1f499",
   "metadata": {
    "ExecuteTime": {
     "end_time": "2025-03-26T03:29:30.325564Z",
     "start_time": "2025-03-26T03:29:30.312493Z"
    }
   },
   "outputs": [],
   "source": [
    "# Create Dataset\n",
    "batch_size = 32\n",
    "images = torch.tensor(designs, dtype=torch.float32)\n",
    "bandgap_tops = torch.tensor(bandgap_tops, dtype=torch.float32)\n",
    "bandgap_bottoms = torch.tensor(bandgap_bottoms, dtype=torch.float32)\n",
    "\n",
    "dataset = TensorDataset(images, bandgap_tops, bandgap_bottoms)\n",
    "\n",
    "# Split into training and validation sets (80-20 split)\n",
    "train_size = int(0.8 * len(dataset))\n",
    "val_size = len(dataset) - train_size\n",
    "train_dataset, val_dataset = random_split(dataset, [train_size, val_size])\n",
    "\n",
    "# Create DataLoaders\n",
    "train_dataloader = DataLoader(train_dataset, batch_size=batch_size, shuffle=True)\n",
    "val_dataloader = DataLoader(val_dataset, batch_size=batch_size, shuffle=False)"
   ]
  },
  {
   "cell_type": "code",
   "execution_count": 13,
   "id": "184813673daa6dbc",
   "metadata": {
    "ExecuteTime": {
     "end_time": "2025-03-26T03:29:30.383620Z",
     "start_time": "2025-03-26T03:29:30.337693Z"
    }
   },
   "outputs": [],
   "source": [
    "input_channels = 1  # Single channel for geometry images\n",
    "output_channels = 1  # Single channel for noise prediction\n",
    "time_embedding_dim = 128  # Dimensionality of timestep embedding\n",
    "bandgap_dim = 128  # Dimensionality of bandgap condition embedding\n",
    "\n",
    "model = UNetWithTimeAndBandgap(\n",
    "    input_channels=input_channels, \n",
    "    output_channels=output_channels, \n",
    "    time_embedding_dim=time_embedding_dim, \n",
    "    bandgap_dim=bandgap_dim\n",
    ")"
   ]
  },
  {
   "cell_type": "code",
   "execution_count": 14,
   "id": "931888e3",
   "metadata": {
    "ExecuteTime": {
     "end_time": "2025-03-26T03:29:30.400303Z",
     "start_time": "2025-03-26T03:29:30.394360Z"
    }
   },
   "outputs": [],
   "source": [
    "class SSIMLoss(nn.Module):\n",
    "    def __init__(self, window_size=11, size_average=True):\n",
    "        super().__init__()\n",
    "        self.window_size = window_size\n",
    "        self.size_average = size_average\n",
    "        self.channel = 1  # Since we're working with grayscale images\n",
    "        self.window = self.create_window(window_size)\n",
    "        \n",
    "    def gaussian(self, window_size, sigma=1.5):\n",
    "        \"\"\"\n",
    "        Create a gaussian kernel using PyTorch operations for gradient tracking\n",
    "        \"\"\"\n",
    "        # Create coordinates\n",
    "        x = torch.arange(window_size, dtype=torch.float32)\n",
    "        # Center coordinates at zero\n",
    "        x = x - window_size//2\n",
    "        # Calculate gaussian values using torch.exp\n",
    "        gauss = torch.exp(-(x * x)/(2 * sigma * sigma))\n",
    "        return gauss/gauss.sum()\n",
    "        \n",
    "    def create_window(self, window_size):\n",
    "        _1D_window = self.gaussian(window_size).unsqueeze(1)\n",
    "        _2D_window = _1D_window.mm(_1D_window.t()).float().unsqueeze(0).unsqueeze(0)\n",
    "        window = _2D_window.expand(self.channel, 1, window_size, window_size).contiguous()\n",
    "        return window\n",
    "    \n",
    "    def forward(self, pred, target):\n",
    "        window = self.window.to(pred.device)\n",
    "        \n",
    "        # Constants for stability\n",
    "        L = 1  # Dynamic range of pixel values\n",
    "        K1 = 0.01\n",
    "        K2 = 0.03\n",
    "        C1 = (K1 * L) ** 2\n",
    "        C2 = (K2 * L) ** 2\n",
    "        \n",
    "        # Compute means\n",
    "        mu1 = F.conv2d(pred, window, padding=self.window_size//2, groups=self.channel)\n",
    "        mu2 = F.conv2d(target, window, padding=self.window_size//2, groups=self.channel)\n",
    "        \n",
    "        mu1_sq = mu1.pow(2)\n",
    "        mu2_sq = mu2.pow(2)\n",
    "        mu1_mu2 = mu1 * mu2\n",
    "        \n",
    "        # Compute variances and covariance\n",
    "        sigma1_sq = F.conv2d(pred * pred, window, padding=self.window_size//2, groups=self.channel) - mu1_sq\n",
    "        sigma2_sq = F.conv2d(target * target, window, padding=self.window_size//2, groups=self.channel) - mu2_sq\n",
    "        sigma12 = F.conv2d(pred * target, window, padding=self.window_size//2, groups=self.channel) - mu1_mu2\n",
    "        \n",
    "        # Compute SSIM\n",
    "        ssim_map = ((2 * mu1_mu2 + C1) * (2 * sigma12 + C2)) / \\\n",
    "                   ((mu1_sq + mu2_sq + C1) * (sigma1_sq + sigma2_sq + C2))\n",
    "        \n",
    "        if self.size_average:\n",
    "            ssim_loss = 1 - ssim_map.mean()\n",
    "        else:\n",
    "            ssim_loss = 1 - ssim_map.mean(1).mean(1).mean(1)\n",
    "        \n",
    "        return ssim_loss"
   ]
  },
  {
   "cell_type": "code",
   "execution_count": 15,
   "id": "acacb4b14816c492",
   "metadata": {
    "ExecuteTime": {
     "end_time": "2025-03-26T03:32:04.452832Z",
     "start_time": "2025-03-26T03:29:30.451638Z"
    }
   },
   "outputs": [
    {
     "name": "stderr",
     "output_type": "stream",
     "text": [
      "Epoch 1/50 [Train]: 100%|██████████| 125/125 [00:02<00:00, 41.77it/s, loss=0.16] \n",
      "Epoch 1/50 [Validation]: 100%|██████████| 32/32 [00:00<00:00, 85.65it/s, val_loss=0.139] \n"
     ]
    },
    {
     "name": "stdout",
     "output_type": "stream",
     "text": [
      "Epoch 1/50, Train Loss: 0.241369, Validation Loss: 0.150933\n",
      "Saved intermediate model to ./diffusion_models\\20250325_232930\\model_epoch_1.pth\n"
     ]
    },
    {
     "name": "stderr",
     "output_type": "stream",
     "text": [
      "Epoch 2/50 [Train]: 100%|██████████| 125/125 [00:02<00:00, 48.38it/s, loss=0.142]\n",
      "Epoch 2/50 [Validation]: 100%|██████████| 32/32 [00:00<00:00, 91.23it/s, val_loss=0.102] \n"
     ]
    },
    {
     "name": "stdout",
     "output_type": "stream",
     "text": [
      "Epoch 2/50, Train Loss: 0.142950, Validation Loss: 0.132605\n",
      "Saved intermediate model to ./diffusion_models\\20250325_232930\\model_epoch_2.pth\n"
     ]
    },
    {
     "name": "stderr",
     "output_type": "stream",
     "text": [
      "Epoch 3/50 [Train]: 100%|██████████| 125/125 [00:02<00:00, 48.12it/s, loss=0.15] \n",
      "Epoch 3/50 [Validation]: 100%|██████████| 32/32 [00:00<00:00, 91.86it/s, val_loss=0.0666]\n"
     ]
    },
    {
     "name": "stdout",
     "output_type": "stream",
     "text": [
      "Epoch 3/50, Train Loss: 0.137602, Validation Loss: 0.131370\n",
      "Saved intermediate model to ./diffusion_models\\20250325_232930\\model_epoch_3.pth\n"
     ]
    },
    {
     "name": "stderr",
     "output_type": "stream",
     "text": [
      "Epoch 4/50 [Train]: 100%|██████████| 125/125 [00:02<00:00, 48.41it/s, loss=0.124] \n",
      "Epoch 4/50 [Validation]: 100%|██████████| 32/32 [00:00<00:00, 93.16it/s, val_loss=0.0922]\n"
     ]
    },
    {
     "name": "stdout",
     "output_type": "stream",
     "text": [
      "Epoch 4/50, Train Loss: 0.129634, Validation Loss: 0.123722\n",
      "Saved intermediate model to ./diffusion_models\\20250325_232930\\model_epoch_4.pth\n"
     ]
    },
    {
     "name": "stderr",
     "output_type": "stream",
     "text": [
      "Epoch 5/50 [Train]: 100%|██████████| 125/125 [00:02<00:00, 49.26it/s, loss=0.112] \n",
      "Epoch 5/50 [Validation]: 100%|██████████| 32/32 [00:00<00:00, 97.24it/s, val_loss=0.106] \n"
     ]
    },
    {
     "name": "stdout",
     "output_type": "stream",
     "text": [
      "Epoch 5/50, Train Loss: 0.124715, Validation Loss: 0.121205\n",
      "Saved intermediate model to ./diffusion_models\\20250325_232930\\model_epoch_5.pth\n"
     ]
    },
    {
     "name": "stderr",
     "output_type": "stream",
     "text": [
      "Epoch 6/50 [Train]: 100%|██████████| 125/125 [00:02<00:00, 49.33it/s, loss=0.109]\n",
      "Epoch 6/50 [Validation]: 100%|██████████| 32/32 [00:00<00:00, 96.05it/s, val_loss=0.0881]\n"
     ]
    },
    {
     "name": "stdout",
     "output_type": "stream",
     "text": [
      "Epoch 6/50, Train Loss: 0.123598, Validation Loss: 0.120535\n",
      "Saved intermediate model to ./diffusion_models\\20250325_232930\\model_epoch_6.pth\n"
     ]
    },
    {
     "name": "stderr",
     "output_type": "stream",
     "text": [
      "Epoch 7/50 [Train]: 100%|██████████| 125/125 [00:02<00:00, 49.22it/s, loss=0.0929]\n",
      "Epoch 7/50 [Validation]: 100%|██████████| 32/32 [00:00<00:00, 94.01it/s, val_loss=0.0954]\n"
     ]
    },
    {
     "name": "stdout",
     "output_type": "stream",
     "text": [
      "Epoch 7/50, Train Loss: 0.122809, Validation Loss: 0.123405\n",
      "Saved intermediate model to ./diffusion_models\\20250325_232930\\model_epoch_7.pth\n"
     ]
    },
    {
     "name": "stderr",
     "output_type": "stream",
     "text": [
      "Epoch 8/50 [Train]: 100%|██████████| 125/125 [00:02<00:00, 48.18it/s, loss=0.11]  \n",
      "Epoch 8/50 [Validation]: 100%|██████████| 32/32 [00:00<00:00, 95.23it/s, val_loss=0.141] \n"
     ]
    },
    {
     "name": "stdout",
     "output_type": "stream",
     "text": [
      "Epoch 8/50, Train Loss: 0.119211, Validation Loss: 0.116625\n",
      "Saved intermediate model to ./diffusion_models\\20250325_232930\\model_epoch_8.pth\n"
     ]
    },
    {
     "name": "stderr",
     "output_type": "stream",
     "text": [
      "Epoch 9/50 [Train]: 100%|██████████| 125/125 [00:02<00:00, 48.39it/s, loss=0.0987]\n",
      "Epoch 9/50 [Validation]: 100%|██████████| 32/32 [00:00<00:00, 93.62it/s, val_loss=0.119]\n"
     ]
    },
    {
     "name": "stdout",
     "output_type": "stream",
     "text": [
      "Epoch 9/50, Train Loss: 0.114675, Validation Loss: 0.115844\n",
      "Saved intermediate model to ./diffusion_models\\20250325_232930\\model_epoch_9.pth\n"
     ]
    },
    {
     "name": "stderr",
     "output_type": "stream",
     "text": [
      "Epoch 10/50 [Train]: 100%|██████████| 125/125 [00:02<00:00, 49.02it/s, loss=0.119] \n",
      "Epoch 10/50 [Validation]: 100%|██████████| 32/32 [00:00<00:00, 97.38it/s, val_loss=0.0975]\n"
     ]
    },
    {
     "name": "stdout",
     "output_type": "stream",
     "text": [
      "Epoch 10/50, Train Loss: 0.113415, Validation Loss: 0.111002\n",
      "Saved intermediate model to ./diffusion_models\\20250325_232930\\model_epoch_10.pth\n"
     ]
    },
    {
     "name": "stderr",
     "output_type": "stream",
     "text": [
      "Epoch 11/50 [Train]: 100%|██████████| 125/125 [00:02<00:00, 49.40it/s, loss=0.121] \n",
      "Epoch 11/50 [Validation]: 100%|██████████| 32/32 [00:00<00:00, 93.91it/s, val_loss=0.116] \n"
     ]
    },
    {
     "name": "stdout",
     "output_type": "stream",
     "text": [
      "Epoch 11/50, Train Loss: 0.113490, Validation Loss: 0.112208\n",
      "Saved intermediate model to ./diffusion_models\\20250325_232930\\model_epoch_11.pth\n"
     ]
    },
    {
     "name": "stderr",
     "output_type": "stream",
     "text": [
      "Epoch 12/50 [Train]: 100%|██████████| 125/125 [00:02<00:00, 48.53it/s, loss=0.124] \n",
      "Epoch 12/50 [Validation]: 100%|██████████| 32/32 [00:00<00:00, 96.43it/s, val_loss=0.0522]\n"
     ]
    },
    {
     "name": "stdout",
     "output_type": "stream",
     "text": [
      "Epoch 12/50, Train Loss: 0.111829, Validation Loss: 0.105950\n",
      "Saved intermediate model to ./diffusion_models\\20250325_232930\\model_epoch_12.pth\n"
     ]
    },
    {
     "name": "stderr",
     "output_type": "stream",
     "text": [
      "Epoch 13/50 [Train]: 100%|██████████| 125/125 [00:02<00:00, 44.41it/s, loss=0.0975]\n",
      "Epoch 13/50 [Validation]: 100%|██████████| 32/32 [00:00<00:00, 89.61it/s, val_loss=0.0713]\n"
     ]
    },
    {
     "name": "stdout",
     "output_type": "stream",
     "text": [
      "Epoch 13/50, Train Loss: 0.106376, Validation Loss: 0.106838\n",
      "Saved intermediate model to ./diffusion_models\\20250325_232930\\model_epoch_13.pth\n"
     ]
    },
    {
     "name": "stderr",
     "output_type": "stream",
     "text": [
      "Epoch 14/50 [Train]: 100%|██████████| 125/125 [00:02<00:00, 47.50it/s, loss=0.122] \n",
      "Epoch 14/50 [Validation]: 100%|██████████| 32/32 [00:00<00:00, 89.55it/s, val_loss=0.154] \n"
     ]
    },
    {
     "name": "stdout",
     "output_type": "stream",
     "text": [
      "Epoch 14/50, Train Loss: 0.109943, Validation Loss: 0.113342\n",
      "Saved intermediate model to ./diffusion_models\\20250325_232930\\model_epoch_14.pth\n"
     ]
    },
    {
     "name": "stderr",
     "output_type": "stream",
     "text": [
      "Epoch 15/50 [Train]: 100%|██████████| 125/125 [00:02<00:00, 46.12it/s, loss=0.0867]\n",
      "Epoch 15/50 [Validation]: 100%|██████████| 32/32 [00:00<00:00, 86.77it/s, val_loss=0.144] \n"
     ]
    },
    {
     "name": "stdout",
     "output_type": "stream",
     "text": [
      "Epoch 15/50, Train Loss: 0.105430, Validation Loss: 0.109291\n",
      "Saved intermediate model to ./diffusion_models\\20250325_232930\\model_epoch_15.pth\n"
     ]
    },
    {
     "name": "stderr",
     "output_type": "stream",
     "text": [
      "Epoch 16/50 [Train]: 100%|██████████| 125/125 [00:02<00:00, 48.48it/s, loss=0.104] \n",
      "Epoch 16/50 [Validation]: 100%|██████████| 32/32 [00:00<00:00, 87.77it/s, val_loss=0.0886]\n"
     ]
    },
    {
     "name": "stdout",
     "output_type": "stream",
     "text": [
      "Epoch 16/50, Train Loss: 0.106488, Validation Loss: 0.109183\n",
      "Saved intermediate model to ./diffusion_models\\20250325_232930\\model_epoch_16.pth\n"
     ]
    },
    {
     "name": "stderr",
     "output_type": "stream",
     "text": [
      "Epoch 17/50 [Train]: 100%|██████████| 125/125 [00:02<00:00, 46.67it/s, loss=0.0972]\n",
      "Epoch 17/50 [Validation]: 100%|██████████| 32/32 [00:00<00:00, 88.87it/s, val_loss=0.143] \n"
     ]
    },
    {
     "name": "stdout",
     "output_type": "stream",
     "text": [
      "Epoch 17/50, Train Loss: 0.108680, Validation Loss: 0.104421\n",
      "Saved intermediate model to ./diffusion_models\\20250325_232930\\model_epoch_17.pth\n"
     ]
    },
    {
     "name": "stderr",
     "output_type": "stream",
     "text": [
      "Epoch 18/50 [Train]: 100%|██████████| 125/125 [00:02<00:00, 47.51it/s, loss=0.0874]\n",
      "Epoch 18/50 [Validation]: 100%|██████████| 32/32 [00:00<00:00, 93.04it/s, val_loss=0.0962]\n"
     ]
    },
    {
     "name": "stdout",
     "output_type": "stream",
     "text": [
      "Epoch 18/50, Train Loss: 0.103439, Validation Loss: 0.102788\n",
      "Saved intermediate model to ./diffusion_models\\20250325_232930\\model_epoch_18.pth\n"
     ]
    },
    {
     "name": "stderr",
     "output_type": "stream",
     "text": [
      "Epoch 19/50 [Train]: 100%|██████████| 125/125 [00:02<00:00, 46.53it/s, loss=0.108] \n",
      "Epoch 19/50 [Validation]: 100%|██████████| 32/32 [00:00<00:00, 94.78it/s, val_loss=0.111] \n"
     ]
    },
    {
     "name": "stdout",
     "output_type": "stream",
     "text": [
      "Epoch 19/50, Train Loss: 0.102491, Validation Loss: 0.102839\n",
      "Saved intermediate model to ./diffusion_models\\20250325_232930\\model_epoch_19.pth\n"
     ]
    },
    {
     "name": "stderr",
     "output_type": "stream",
     "text": [
      "Epoch 20/50 [Train]: 100%|██████████| 125/125 [00:02<00:00, 47.52it/s, loss=0.106] \n",
      "Epoch 20/50 [Validation]: 100%|██████████| 32/32 [00:00<00:00, 94.02it/s, val_loss=0.0511]\n"
     ]
    },
    {
     "name": "stdout",
     "output_type": "stream",
     "text": [
      "Epoch 20/50, Train Loss: 0.101837, Validation Loss: 0.100925\n",
      "Saved intermediate model to ./diffusion_models\\20250325_232930\\model_epoch_20.pth\n"
     ]
    },
    {
     "name": "stderr",
     "output_type": "stream",
     "text": [
      "Epoch 21/50 [Train]: 100%|██████████| 125/125 [00:02<00:00, 47.26it/s, loss=0.0859]\n",
      "Epoch 21/50 [Validation]: 100%|██████████| 32/32 [00:00<00:00, 91.66it/s, val_loss=0.0588]\n"
     ]
    },
    {
     "name": "stdout",
     "output_type": "stream",
     "text": [
      "Epoch 21/50, Train Loss: 0.104575, Validation Loss: 0.103030\n",
      "Saved intermediate model to ./diffusion_models\\20250325_232930\\model_epoch_21.pth\n"
     ]
    },
    {
     "name": "stderr",
     "output_type": "stream",
     "text": [
      "Epoch 22/50 [Train]: 100%|██████████| 125/125 [00:02<00:00, 48.67it/s, loss=0.0972]\n",
      "Epoch 22/50 [Validation]: 100%|██████████| 32/32 [00:00<00:00, 97.22it/s, val_loss=0.144] \n"
     ]
    },
    {
     "name": "stdout",
     "output_type": "stream",
     "text": [
      "Epoch 22/50, Train Loss: 0.105705, Validation Loss: 0.104124\n",
      "Saved intermediate model to ./diffusion_models\\20250325_232930\\model_epoch_22.pth\n"
     ]
    },
    {
     "name": "stderr",
     "output_type": "stream",
     "text": [
      "Epoch 23/50 [Train]: 100%|██████████| 125/125 [00:02<00:00, 48.60it/s, loss=0.11]  \n",
      "Epoch 23/50 [Validation]: 100%|██████████| 32/32 [00:00<00:00, 94.70it/s, val_loss=0.102] \n"
     ]
    },
    {
     "name": "stdout",
     "output_type": "stream",
     "text": [
      "Epoch 23/50, Train Loss: 0.103558, Validation Loss: 0.104539\n",
      "Saved intermediate model to ./diffusion_models\\20250325_232930\\model_epoch_23.pth\n"
     ]
    },
    {
     "name": "stderr",
     "output_type": "stream",
     "text": [
      "Epoch 24/50 [Train]: 100%|██████████| 125/125 [00:02<00:00, 48.10it/s, loss=0.125] \n",
      "Epoch 24/50 [Validation]: 100%|██████████| 32/32 [00:00<00:00, 93.44it/s, val_loss=0.0917]\n"
     ]
    },
    {
     "name": "stdout",
     "output_type": "stream",
     "text": [
      "Epoch 24/50, Train Loss: 0.100588, Validation Loss: 0.099521\n",
      "Saved intermediate model to ./diffusion_models\\20250325_232930\\model_epoch_24.pth\n"
     ]
    },
    {
     "name": "stderr",
     "output_type": "stream",
     "text": [
      "Epoch 25/50 [Train]: 100%|██████████| 125/125 [00:02<00:00, 47.17it/s, loss=0.0947]\n",
      "Epoch 25/50 [Validation]: 100%|██████████| 32/32 [00:00<00:00, 93.48it/s, val_loss=0.111] \n"
     ]
    },
    {
     "name": "stdout",
     "output_type": "stream",
     "text": [
      "Epoch 25/50, Train Loss: 0.104961, Validation Loss: 0.104116\n",
      "Saved intermediate model to ./diffusion_models\\20250325_232930\\model_epoch_25.pth\n"
     ]
    },
    {
     "name": "stderr",
     "output_type": "stream",
     "text": [
      "Epoch 26/50 [Train]: 100%|██████████| 125/125 [00:02<00:00, 47.14it/s, loss=0.105] \n",
      "Epoch 26/50 [Validation]: 100%|██████████| 32/32 [00:00<00:00, 93.35it/s, val_loss=0.0924]\n"
     ]
    },
    {
     "name": "stdout",
     "output_type": "stream",
     "text": [
      "Epoch 26/50, Train Loss: 0.099905, Validation Loss: 0.103465\n",
      "Saved intermediate model to ./diffusion_models\\20250325_232930\\model_epoch_26.pth\n"
     ]
    },
    {
     "name": "stderr",
     "output_type": "stream",
     "text": [
      "Epoch 27/50 [Train]: 100%|██████████| 125/125 [00:02<00:00, 48.07it/s, loss=0.106] \n",
      "Epoch 27/50 [Validation]: 100%|██████████| 32/32 [00:00<00:00, 93.88it/s, val_loss=0.128] \n"
     ]
    },
    {
     "name": "stdout",
     "output_type": "stream",
     "text": [
      "Epoch 27/50, Train Loss: 0.101216, Validation Loss: 0.101288\n",
      "Saved intermediate model to ./diffusion_models\\20250325_232930\\model_epoch_27.pth\n"
     ]
    },
    {
     "name": "stderr",
     "output_type": "stream",
     "text": [
      "Epoch 28/50 [Train]: 100%|██████████| 125/125 [00:02<00:00, 47.63it/s, loss=0.0998]\n",
      "Epoch 28/50 [Validation]: 100%|██████████| 32/32 [00:00<00:00, 91.91it/s, val_loss=0.193] \n"
     ]
    },
    {
     "name": "stdout",
     "output_type": "stream",
     "text": [
      "Epoch 28/50, Train Loss: 0.098869, Validation Loss: 0.098762\n",
      "Saved intermediate model to ./diffusion_models\\20250325_232930\\model_epoch_28.pth\n"
     ]
    },
    {
     "name": "stderr",
     "output_type": "stream",
     "text": [
      "Epoch 29/50 [Train]: 100%|██████████| 125/125 [00:02<00:00, 47.24it/s, loss=0.0911]\n",
      "Epoch 29/50 [Validation]: 100%|██████████| 32/32 [00:00<00:00, 92.95it/s, val_loss=0.133] \n"
     ]
    },
    {
     "name": "stdout",
     "output_type": "stream",
     "text": [
      "Epoch 29/50, Train Loss: 0.101364, Validation Loss: 0.098223\n",
      "Saved intermediate model to ./diffusion_models\\20250325_232930\\model_epoch_29.pth\n"
     ]
    },
    {
     "name": "stderr",
     "output_type": "stream",
     "text": [
      "Epoch 30/50 [Train]: 100%|██████████| 125/125 [00:02<00:00, 48.00it/s, loss=0.109] \n",
      "Epoch 30/50 [Validation]: 100%|██████████| 32/32 [00:00<00:00, 92.87it/s, val_loss=0.0995]\n"
     ]
    },
    {
     "name": "stdout",
     "output_type": "stream",
     "text": [
      "Epoch 30/50, Train Loss: 0.098938, Validation Loss: 0.094738\n",
      "Saved intermediate model to ./diffusion_models\\20250325_232930\\model_epoch_30.pth\n"
     ]
    },
    {
     "name": "stderr",
     "output_type": "stream",
     "text": [
      "Epoch 31/50 [Train]: 100%|██████████| 125/125 [00:02<00:00, 48.22it/s, loss=0.103] \n",
      "Epoch 31/50 [Validation]: 100%|██████████| 32/32 [00:00<00:00, 95.51it/s, val_loss=0.0681]\n"
     ]
    },
    {
     "name": "stdout",
     "output_type": "stream",
     "text": [
      "Epoch 31/50, Train Loss: 0.100457, Validation Loss: 0.095517\n",
      "Saved intermediate model to ./diffusion_models\\20250325_232930\\model_epoch_31.pth\n"
     ]
    },
    {
     "name": "stderr",
     "output_type": "stream",
     "text": [
      "Epoch 32/50 [Train]: 100%|██████████| 125/125 [00:02<00:00, 48.10it/s, loss=0.0986]\n",
      "Epoch 32/50 [Validation]: 100%|██████████| 32/32 [00:00<00:00, 96.71it/s, val_loss=0.128] \n"
     ]
    },
    {
     "name": "stdout",
     "output_type": "stream",
     "text": [
      "Epoch 32/50, Train Loss: 0.096345, Validation Loss: 0.094103\n",
      "Saved intermediate model to ./diffusion_models\\20250325_232930\\model_epoch_32.pth\n"
     ]
    },
    {
     "name": "stderr",
     "output_type": "stream",
     "text": [
      "Epoch 33/50 [Train]: 100%|██████████| 125/125 [00:02<00:00, 49.05it/s, loss=0.0975]\n",
      "Epoch 33/50 [Validation]: 100%|██████████| 32/32 [00:00<00:00, 96.88it/s, val_loss=0.134] \n"
     ]
    },
    {
     "name": "stdout",
     "output_type": "stream",
     "text": [
      "Epoch 33/50, Train Loss: 0.098230, Validation Loss: 0.101467\n",
      "Saved intermediate model to ./diffusion_models\\20250325_232930\\model_epoch_33.pth\n"
     ]
    },
    {
     "name": "stderr",
     "output_type": "stream",
     "text": [
      "Epoch 34/50 [Train]: 100%|██████████| 125/125 [00:02<00:00, 46.69it/s, loss=0.0912]\n",
      "Epoch 34/50 [Validation]: 100%|██████████| 32/32 [00:00<00:00, 92.07it/s, val_loss=0.0725]\n"
     ]
    },
    {
     "name": "stdout",
     "output_type": "stream",
     "text": [
      "Epoch 34/50, Train Loss: 0.098237, Validation Loss: 0.101995\n",
      "Saved intermediate model to ./diffusion_models\\20250325_232930\\model_epoch_34.pth\n"
     ]
    },
    {
     "name": "stderr",
     "output_type": "stream",
     "text": [
      "Epoch 35/50 [Train]: 100%|██████████| 125/125 [00:02<00:00, 47.60it/s, loss=0.107] \n",
      "Epoch 35/50 [Validation]: 100%|██████████| 32/32 [00:00<00:00, 96.53it/s, val_loss=0.124] \n"
     ]
    },
    {
     "name": "stdout",
     "output_type": "stream",
     "text": [
      "Epoch 35/50, Train Loss: 0.097636, Validation Loss: 0.098629\n",
      "Saved intermediate model to ./diffusion_models\\20250325_232930\\model_epoch_35.pth\n"
     ]
    },
    {
     "name": "stderr",
     "output_type": "stream",
     "text": [
      "Epoch 36/50 [Train]: 100%|██████████| 125/125 [00:02<00:00, 47.52it/s, loss=0.109] \n",
      "Epoch 36/50 [Validation]: 100%|██████████| 32/32 [00:00<00:00, 95.47it/s, val_loss=0.052] \n"
     ]
    },
    {
     "name": "stdout",
     "output_type": "stream",
     "text": [
      "Epoch 36/50, Train Loss: 0.096082, Validation Loss: 0.096025\n",
      "Saved intermediate model to ./diffusion_models\\20250325_232930\\model_epoch_36.pth\n"
     ]
    },
    {
     "name": "stderr",
     "output_type": "stream",
     "text": [
      "Epoch 37/50 [Train]: 100%|██████████| 125/125 [00:02<00:00, 48.17it/s, loss=0.11]  \n",
      "Epoch 37/50 [Validation]: 100%|██████████| 32/32 [00:00<00:00, 94.91it/s, val_loss=0.124] \n"
     ]
    },
    {
     "name": "stdout",
     "output_type": "stream",
     "text": [
      "Epoch 37/50, Train Loss: 0.098913, Validation Loss: 0.100135\n",
      "Saved intermediate model to ./diffusion_models\\20250325_232930\\model_epoch_37.pth\n"
     ]
    },
    {
     "name": "stderr",
     "output_type": "stream",
     "text": [
      "Epoch 38/50 [Train]: 100%|██████████| 125/125 [00:02<00:00, 47.71it/s, loss=0.0977]\n",
      "Epoch 38/50 [Validation]: 100%|██████████| 32/32 [00:00<00:00, 86.78it/s, val_loss=0.108] \n"
     ]
    },
    {
     "name": "stdout",
     "output_type": "stream",
     "text": [
      "Epoch 38/50, Train Loss: 0.097594, Validation Loss: 0.101946\n",
      "Saved intermediate model to ./diffusion_models\\20250325_232930\\model_epoch_38.pth\n"
     ]
    },
    {
     "name": "stderr",
     "output_type": "stream",
     "text": [
      "Epoch 39/50 [Train]: 100%|██████████| 125/125 [00:02<00:00, 47.95it/s, loss=0.11]  \n",
      "Epoch 39/50 [Validation]: 100%|██████████| 32/32 [00:00<00:00, 91.22it/s, val_loss=0.0756]\n"
     ]
    },
    {
     "name": "stdout",
     "output_type": "stream",
     "text": [
      "Epoch 39/50, Train Loss: 0.100827, Validation Loss: 0.094654\n",
      "Saved intermediate model to ./diffusion_models\\20250325_232930\\model_epoch_39.pth\n"
     ]
    },
    {
     "name": "stderr",
     "output_type": "stream",
     "text": [
      "Epoch 40/50 [Train]: 100%|██████████| 125/125 [00:02<00:00, 47.75it/s, loss=0.0883]\n",
      "Epoch 40/50 [Validation]: 100%|██████████| 32/32 [00:00<00:00, 90.57it/s, val_loss=0.0795]\n"
     ]
    },
    {
     "name": "stdout",
     "output_type": "stream",
     "text": [
      "Epoch 40/50, Train Loss: 0.095119, Validation Loss: 0.094558\n",
      "Saved intermediate model to ./diffusion_models\\20250325_232930\\model_epoch_40.pth\n"
     ]
    },
    {
     "name": "stderr",
     "output_type": "stream",
     "text": [
      "Epoch 41/50 [Train]: 100%|██████████| 125/125 [00:02<00:00, 48.47it/s, loss=0.0922]\n",
      "Epoch 41/50 [Validation]: 100%|██████████| 32/32 [00:00<00:00, 89.23it/s, val_loss=0.0749]\n"
     ]
    },
    {
     "name": "stdout",
     "output_type": "stream",
     "text": [
      "Epoch 41/50, Train Loss: 0.095699, Validation Loss: 0.092251\n",
      "Saved intermediate model to ./diffusion_models\\20250325_232930\\model_epoch_41.pth\n"
     ]
    },
    {
     "name": "stderr",
     "output_type": "stream",
     "text": [
      "Epoch 42/50 [Train]: 100%|██████████| 125/125 [00:02<00:00, 48.60it/s, loss=0.0796]\n",
      "Epoch 42/50 [Validation]: 100%|██████████| 32/32 [00:00<00:00, 96.09it/s, val_loss=0.109] \n"
     ]
    },
    {
     "name": "stdout",
     "output_type": "stream",
     "text": [
      "Epoch 42/50, Train Loss: 0.096329, Validation Loss: 0.101408\n",
      "Saved intermediate model to ./diffusion_models\\20250325_232930\\model_epoch_42.pth\n"
     ]
    },
    {
     "name": "stderr",
     "output_type": "stream",
     "text": [
      "Epoch 43/50 [Train]: 100%|██████████| 125/125 [00:02<00:00, 48.75it/s, loss=0.0856]\n",
      "Epoch 43/50 [Validation]: 100%|██████████| 32/32 [00:00<00:00, 96.96it/s, val_loss=0.125] \n"
     ]
    },
    {
     "name": "stdout",
     "output_type": "stream",
     "text": [
      "Epoch 43/50, Train Loss: 0.096533, Validation Loss: 0.095705\n",
      "Saved intermediate model to ./diffusion_models\\20250325_232930\\model_epoch_43.pth\n"
     ]
    },
    {
     "name": "stderr",
     "output_type": "stream",
     "text": [
      "Epoch 44/50 [Train]: 100%|██████████| 125/125 [00:02<00:00, 48.22it/s, loss=0.0975]\n",
      "Epoch 44/50 [Validation]: 100%|██████████| 32/32 [00:00<00:00, 85.75it/s, val_loss=0.12]  \n"
     ]
    },
    {
     "name": "stdout",
     "output_type": "stream",
     "text": [
      "Epoch 44/50, Train Loss: 0.094011, Validation Loss: 0.096099\n",
      "Saved intermediate model to ./diffusion_models\\20250325_232930\\model_epoch_44.pth\n"
     ]
    },
    {
     "name": "stderr",
     "output_type": "stream",
     "text": [
      "Epoch 45/50 [Train]: 100%|██████████| 125/125 [00:02<00:00, 48.77it/s, loss=0.0829]\n",
      "Epoch 45/50 [Validation]: 100%|██████████| 32/32 [00:00<00:00, 97.38it/s, val_loss=0.127] \n"
     ]
    },
    {
     "name": "stdout",
     "output_type": "stream",
     "text": [
      "Epoch 45/50, Train Loss: 0.093920, Validation Loss: 0.094188\n",
      "Saved intermediate model to ./diffusion_models\\20250325_232930\\model_epoch_45.pth\n"
     ]
    },
    {
     "name": "stderr",
     "output_type": "stream",
     "text": [
      "Epoch 46/50 [Train]: 100%|██████████| 125/125 [00:02<00:00, 49.04it/s, loss=0.073] \n",
      "Epoch 46/50 [Validation]: 100%|██████████| 32/32 [00:00<00:00, 95.47it/s, val_loss=0.0897]\n"
     ]
    },
    {
     "name": "stdout",
     "output_type": "stream",
     "text": [
      "Epoch 46/50, Train Loss: 0.097095, Validation Loss: 0.092953\n",
      "Saved intermediate model to ./diffusion_models\\20250325_232930\\model_epoch_46.pth\n"
     ]
    },
    {
     "name": "stderr",
     "output_type": "stream",
     "text": [
      "Epoch 47/50 [Train]: 100%|██████████| 125/125 [00:02<00:00, 48.43it/s, loss=0.0983]\n",
      "Epoch 47/50 [Validation]: 100%|██████████| 32/32 [00:00<00:00, 96.40it/s, val_loss=0.152] \n"
     ]
    },
    {
     "name": "stdout",
     "output_type": "stream",
     "text": [
      "Epoch 47/50, Train Loss: 0.092786, Validation Loss: 0.099256\n",
      "Saved intermediate model to ./diffusion_models\\20250325_232930\\model_epoch_47.pth\n"
     ]
    },
    {
     "name": "stderr",
     "output_type": "stream",
     "text": [
      "Epoch 48/50 [Train]: 100%|██████████| 125/125 [00:02<00:00, 47.52it/s, loss=0.0809]\n",
      "Epoch 48/50 [Validation]: 100%|██████████| 32/32 [00:00<00:00, 92.22it/s, val_loss=0.103] \n"
     ]
    },
    {
     "name": "stdout",
     "output_type": "stream",
     "text": [
      "Epoch 48/50, Train Loss: 0.094713, Validation Loss: 0.097942\n",
      "Saved intermediate model to ./diffusion_models\\20250325_232930\\model_epoch_48.pth\n"
     ]
    },
    {
     "name": "stderr",
     "output_type": "stream",
     "text": [
      "Epoch 49/50 [Train]: 100%|██████████| 125/125 [00:02<00:00, 46.22it/s, loss=0.0822]\n",
      "Epoch 49/50 [Validation]: 100%|██████████| 32/32 [00:00<00:00, 91.82it/s, val_loss=0.0856]\n"
     ]
    },
    {
     "name": "stdout",
     "output_type": "stream",
     "text": [
      "Epoch 49/50, Train Loss: 0.093722, Validation Loss: 0.095292\n",
      "Saved intermediate model to ./diffusion_models\\20250325_232930\\model_epoch_49.pth\n"
     ]
    },
    {
     "name": "stderr",
     "output_type": "stream",
     "text": [
      "Epoch 50/50 [Train]: 100%|██████████| 125/125 [00:02<00:00, 47.49it/s, loss=0.107] \n",
      "Epoch 50/50 [Validation]: 100%|██████████| 32/32 [00:00<00:00, 94.29it/s, val_loss=0.0799]\n"
     ]
    },
    {
     "name": "stdout",
     "output_type": "stream",
     "text": [
      "Epoch 50/50, Train Loss: 0.095442, Validation Loss: 0.093797\n",
      "Saved intermediate model to ./diffusion_models\\20250325_232930\\model_epoch_50.pth\n",
      "Saved final model to ./diffusion_models\\20250325_232930\\model_final.pth\n",
      "Saved losses to ./diffusion_models\\20250325_232930\\losses.csv\n",
      "Saved loss plot to ./diffusion_models\\20250325_232930\\loss_plot.png\n"
     ]
    },
    {
     "data": {
      "image/png": "[encoded data removed]",
      "text/plain": [
       "<Figure size 1000x600 with 1 Axes>"
      ]
     },
     "metadata": {},
     "output_type": "display_data"
    }
   ],
   "source": [
    "training_timestamp = datetime.now().strftime(\"%Y%m%d_%H%M%S\")\n",
    "output_folder = os.path.join(\"./diffusion_models\", training_timestamp)\n",
    "\n",
    "ssim_criterion = SSIMLoss(window_size=11)\n",
    "train_diffusion_model(\n",
    "    model,\n",
    "    train_dataloader,\n",
    "    val_dataloader,\n",
    "    num_timesteps=200,\n",
    "    epochs=50,\n",
    "    device=\"cuda\",\n",
    "    #criterion=ssim_criterion,\n",
    "    output_folder=output_folder,\n",
    "    save_intermediates=True,\n",
    "    track_losses=True\n",
    ")"
   ]
  },
  {
   "cell_type": "code",
   "execution_count": 20,
   "id": "124441cdaf0c844a",
   "metadata": {
    "ExecuteTime": {
     "end_time": "2025-03-26T03:51:58.793695Z",
     "start_time": "2025-03-26T03:51:58.782548Z"
    }
   },
   "outputs": [],
   "source": [
    "def get_noise_schedule(t, num_timesteps, schedule_type=\"cosine\"):\n",
    "    \"\"\"\n",
    "    Returns noise schedule for timestep t.\n",
    "    Supports 'linear', 'cosine', and 'exponential' schedules.\n",
    "\n",
    "    Args:\n",
    "        t (int): Current timestep\n",
    "        num_timesteps (int): Total number of diffusion steps\n",
    "        schedule_type (str): Type of schedule - \"linear\", \"cosine\", or \"exponential\"\n",
    "\n",
    "    Returns:\n",
    "        float: Alpha value for current timestep\n",
    "    \"\"\"\n",
    "    if schedule_type == \"linear\":\n",
    "        return 1 - t/num_timesteps\n",
    "    elif schedule_type == \"cosine\":\n",
    "        # Improved schedule from Ho et al.\n",
    "        s = 0.008\n",
    "        t = t / num_timesteps\n",
    "        return np.cos((t + s)/(1 + s) * np.pi/2) ** 2\n",
    "    else: # exponential\n",
    "        return 0.99 ** t\n",
    "\n",
    "def get_variance_schedule(t, num_timesteps, schedule_type=\"exponential\"):\n",
    "    \"\"\"\n",
    "    Returns variance schedule for noise prediction\n",
    "\n",
    "    Args:\n",
    "        t (int): Current timestep\n",
    "        num_timesteps (int): Total number of diffusion steps\n",
    "        schedule_type (str): Type of schedule - currently only \"exponential\" supported\n",
    "\n",
    "    Returns:\n",
    "        float: Beta (variance) value for current timestep\n",
    "    \"\"\"\n",
    "    if schedule_type == \"exponential\":\n",
    "        beta_start = 0.0001\n",
    "        beta_end = 0.02\n",
    "        return beta_start + t * (beta_end - beta_start) / num_timesteps\n",
    "    return 0.0001  # Default fallback\n",
    "\n",
    "def normalize_bandgap_conditions(bandgap_top, bandgap_bottom, max_bandgap=2000.0):\n",
    "    \"\"\"\n",
    "    Normalize bandgap conditions to [0,1] range\n",
    "\n",
    "    Args:\n",
    "        bandgap_top (float): Upper bandgap frequency\n",
    "        bandgap_bottom (float): Lower bandgap frequency\n",
    "        max_bandgap (float): Maximum expected bandgap frequency\n",
    "\n",
    "    Returns:\n",
    "        tuple: Normalized (top, bottom) values\n",
    "    \"\"\"\n",
    "    return bandgap_top/max_bandgap, bandgap_bottom/max_bandgap\n",
    "\n",
    "def generate_image_fixed(model, bandgap_top, bandgap_bottom, num_timesteps=200,\n",
    "                        device=\"cuda\", image_size=32,\n",
    "                        noise_schedule_type=\"cosine\",\n",
    "                        variance_schedule_type=\"exponential\",\n",
    "                        guidance_scale=3.0,\n",
    "                        max_norm=1.0):\n",
    "    \"\"\"\n",
    "    Generate an image given bandgap conditions using the trained diffusion model.\n",
    "    Includes improved noise scheduling, variance scheduling, and classifier-free guidance.\n",
    "\n",
    "    Args:\n",
    "        model: The diffusion model\n",
    "        bandgap_top (float): Upper bandgap frequency\n",
    "        bandgap_bottom (float): Lower bandgap frequency\n",
    "        num_timesteps (int): Number of diffusion steps\n",
    "        device (str): Device to run on (\"cuda\" or \"cpu\")\n",
    "        image_size (int): Size of generated image\n",
    "        noise_schedule_type (str): Type of noise schedule\n",
    "        variance_schedule_type (str): Type of variance schedule\n",
    "        guidance_scale (float): Scale factor for classifier-free guidance\n",
    "        max_norm (float): Maximum norm for gradient clipping\n",
    "\n",
    "    Returns:\n",
    "        tuple: (final_image, initial_noise)\n",
    "    \"\"\"\n",
    "    model.eval()\n",
    "    model.to(device)\n",
    "\n",
    "    # Initialize with Gaussian noise\n",
    "    x_t = torch.randn(1, 1, image_size, image_size, device=device)\n",
    "    x_i = x_t.clone()  # Save initial noise for visualization\n",
    "\n",
    "    # Normalize conditions\n",
    "    norm_top, norm_bottom = normalize_bandgap_conditions(bandgap_top, bandgap_bottom)\n",
    "\n",
    "    # Create conditioning tensors for guided and unguided prediction\n",
    "    bandgap_conditions = torch.tensor([[norm_top, norm_bottom]],\n",
    "                                    dtype=torch.float32, device=device)\n",
    "    uncond_conditions = torch.zeros_like(bandgap_conditions)\n",
    "\n",
    "    # Keep track of last valid prediction\n",
    "    last_valid_x = x_t.clone()\n",
    "\n",
    "    with torch.no_grad():\n",
    "        for t in range(num_timesteps, 0, -1):\n",
    "            # Create timestep tensor\n",
    "            t_tensor = torch.tensor([[t]], dtype=torch.float32, device=device)\n",
    "\n",
    "            try:\n",
    "                # Get schedule values for current timestep\n",
    "                alpha_t = torch.tensor(get_noise_schedule(t, num_timesteps, noise_schedule_type),\n",
    "                                     device=device)\n",
    "                beta_t = torch.tensor(get_variance_schedule(t, num_timesteps, variance_schedule_type),\n",
    "                                    device=device)\n",
    "                sigma_t = torch.sqrt(beta_t)\n",
    "\n",
    "                # Predict noise with and without conditions\n",
    "                noise_pred_cond = model(x_t, t_tensor, bandgap_conditions)\n",
    "                noise_pred_uncond = model(x_t, t_tensor, uncond_conditions)\n",
    "\n",
    "                # Apply classifier-free guidance\n",
    "                predicted_noise = noise_pred_uncond + guidance_scale * (noise_pred_cond - noise_pred_uncond)\n",
    "\n",
    "                # Clip predicted noise\n",
    "                predicted_noise = torch.clamp(predicted_noise, -max_norm, max_norm)\n",
    "\n",
    "                # Check for NaN\n",
    "                if torch.any(torch.isnan(predicted_noise)):\n",
    "                    print(f\"NaN detected in predicted noise at timestep {t}\")\n",
    "                    x_t = last_valid_x\n",
    "                    break\n",
    "\n",
    "                # Update x_t using improved noise prediction\n",
    "                x_t = (x_t - (1 - alpha_t) * predicted_noise) / torch.sqrt(alpha_t)\n",
    "\n",
    "                # Add noise except at final step\n",
    "                if t > 1:\n",
    "                    noise = torch.randn_like(x_t)\n",
    "                    x_t = x_t + sigma_t * noise\n",
    "\n",
    "                # Check for NaN in x_t\n",
    "                if torch.any(torch.isnan(x_t)):\n",
    "                    print(f\"NaN detected in x_t at timestep {t}\")\n",
    "                    x_t = last_valid_x\n",
    "                    break\n",
    "\n",
    "                # Store last valid prediction\n",
    "                last_valid_x = x_t.clone()\n",
    "\n",
    "            except Exception as e:\n",
    "                print(f\"Error at timestep {t}: {str(e)}\")\n",
    "                x_t = last_valid_x\n",
    "                break\n",
    "\n",
    "    # Ensure final image is in valid range\n",
    "    final_image = torch.clamp(x_t, 0, 1)\n",
    "\n",
    "    return final_image.cpu(), x_i.cpu()\n",
    "\n",
    "def generate_image(model, bandgap_top, bandgap_bottom, num_timesteps=200, device=\"cuda\", image_size=32):\n",
    "    \"\"\"\n",
    "    Generate an image given bandgap conditions using the trained diffusion model.\n",
    "    \"\"\"\n",
    "    model.eval()  # Set model to evaluation mode\n",
    "    model.to(device)\n",
    "\n",
    "    # Initialize Gaussian noise\n",
    "    x_t = torch.randn(1, 1, image_size, image_size, device=device)  # Start with pure noise\n",
    "\n",
    "    # Create conditioning tensors\n",
    "    bandgap_conditions = torch.tensor([[bandgap_top, bandgap_bottom]], dtype=torch.float32, device=device)\n",
    "    t_tensor = torch.tensor([[num_timesteps]], dtype=torch.float32, device=device)\n",
    "\n",
    "    # Process bandgap and time embeddings using the model's embedding layers\n",
    "    bandgap_emb = model.bandgap_embedding(bandgap_conditions)  # Shape: (1, 128)\n",
    "    t_emb = model.time_embedding(t_tensor)  # Shape: (1, 128)\n",
    "    combined_emb = bandgap_emb + t_emb  # Combine embeddings\n",
    "\n",
    "    # Project combined embedding to match bottleneck channels\n",
    "    projected_emb = model.embedding_projection(combined_emb).view(1, 1024, 1, 1)  # Shape: (1, 1024, 1, 1)\n",
    "\n",
    "    # Iterative reverse diffusion process\n",
    "    with torch.no_grad():\n",
    "        for t in range(num_timesteps, 0, -1):\n",
    "            t_tensor = torch.tensor([[t]], dtype=torch.float32, device=device)  # Update timestep tensor\n",
    "            predicted_noise = model(x_t, t_tensor, bandgap_conditions)  # Predict noise\n",
    "            alpha_t = torch.tensor(1 - t / num_timesteps, device=device)  # Compute alpha_t\n",
    "            x_t = (x_t - (1 - alpha_t) * predicted_noise) / alpha_t.clamp(min=1e-6)  # Update x_t\n",
    "\n",
    "    # Final denoised image\n",
    "    final_image = x_t.clamp(0, 1)  # Clamp to [0, 1] for visualization\n",
    "\n",
    "    return final_image.cpu()\n",
    "\n",
    "def plot_generated_image(image_tensor, bandgap_top, bandgap_bottom, timestep, title=None, save_path=None):\n",
    "    \"\"\"\n",
    "    Plot a generated image from a diffusion model output with metadata in the title.\n",
    "    The title includes the bandgap top and bandgap bottom values.\n",
    "    The colorbar is adjusted to be the same height as the plot.\n",
    "\n",
    "    Args:\n",
    "    - image_tensor (torch.Tensor): The generated image tensor of shape (1, 1, H, W).\n",
    "    - bandgap_top (float): Bandgap top value.\n",
    "    - bandgap_bottom (float): Bandgap bottom value.\n",
    "    - title (str): Optional title for the plot. If None, a default title is created.\n",
    "    - save_path (str): Optional path to save the plot as an image file.\n",
    "    \"\"\"\n",
    "    # Remove batch and channel dimensions\n",
    "    image = image_tensor.squeeze(0).squeeze(0).cpu().numpy()  # Shape: (H, W)\n",
    "\n",
    "    # Create the plot\n",
    "    fig, ax = plt.subplots(figsize=(6, 6))\n",
    "    im = ax.imshow(image, cmap='gray_r', vmin=0, vmax=1)\n",
    "\n",
    "    # Add title with metadata\n",
    "    if title is None:\n",
    "        title = f\"Bandgap Top: {bandgap_top:.2f}, Bottom: {bandgap_bottom:.2f}, Timestep: {timestep:.2f}\"\n",
    "    ax.set_title(title)\n",
    "    ax.axis(\"off\")  # Remove axis ticks for cleaner visualization\n",
    "\n",
    "    # Add a colorbar with adjusted height\n",
    "    cbar = fig.colorbar(im, ax=ax, fraction=0.046, pad=0.04)\n",
    "    cbar.set_label(\"Value\")  # Label for the colorbar\n",
    "\n",
    "    # Save or show the plot\n",
    "    if save_path:\n",
    "        plt.savefig(save_path, bbox_inches=\"tight\")\n",
    "        print(f\"Saved plot to {save_path}\")\n",
    "    else:\n",
    "        plt.show()"
   ]
  },
  {
   "cell_type": "code",
   "execution_count": 25,
   "id": "4f7f871eecc84d5a",
   "metadata": {
    "ExecuteTime": {
     "end_time": "2025-03-26T03:53:15.672167Z",
     "start_time": "2025-03-26T03:53:15.062960Z"
    }
   },
   "outputs": [
    {
     "name": "stdout",
     "output_type": "stream",
     "text": [
      "NaN detected in predicted noise at timestep 74\n",
      "torch.Size([1, 1, 32, 32])\n",
      "Saved plot to generated_image_with_metadata.png\n"
     ]
    },
    {
     "data": {
      "image/png": "[encoded data removed]",
      "text/plain": [
       "<Figure size 600x600 with 2 Axes>"
      ]
     },
     "metadata": {},
     "output_type": "display_data"
    }
   ],
   "source": [
    "bandgap_top = 1000\n",
    "bandgap_bottom = 900\n",
    "timesteps = 100\n",
    "generated_image, initial_noise = generate_image_fixed(\n",
    "    model,\n",
    "    bandgap_top=bandgap_top,\n",
    "    bandgap_bottom=bandgap_bottom,\n",
    "    num_timesteps=timesteps,\n",
    "    device=\"cuda\",\n",
    "    noise_schedule_type=\"cosine\",\n",
    "    guidance_scale=3.0\n",
    ")\n",
    "print(generated_image.shape)\n",
    "\n",
    "# Plot the generated image\n",
    "plot_generated_image(\n",
    "    generated_image,\n",
    "    bandgap_top=bandgap_top,\n",
    "    bandgap_bottom=bandgap_bottom,\n",
    "    timestep=timesteps,\n",
    "    title=None,\n",
    "    save_path=\"generated_image_with_metadata.png\"\n",
    ")\n"
   ]
  },
  {
   "cell_type": "code",
   "execution_count": null,
   "id": "7973de82",
   "metadata": {
    "ExecuteTime": {
     "end_time": "2025-03-26T03:32:04.934779Z",
     "start_time": "2025-03-26T03:32:04.932905Z"
    }
   },
   "outputs": [],
   "source": []
  },
  {
   "cell_type": "code",
   "execution_count": null,
   "id": "71e5dbf693dab3ee",
   "metadata": {
    "ExecuteTime": {
     "end_time": "2025-03-26T03:32:04.947907Z",
     "start_time": "2025-03-26T03:32:04.945534Z"
    }
   },
   "outputs": [],
   "source": []
  }
 ],
 "metadata": {
  "kernelspec": {
   "display_name": "razer",
   "language": "python",
   "name": "python3"
  },
  "language_info": {
   "codemirror_mode": {
    "name": "ipython",
    "version": 3
   },
   "file_extension": ".py",
   "mimetype": "text/x-python",
   "name": "python",
   "nbconvert_exporter": "python",
   "pygments_lexer": "ipython3",
   "version": "3.11.5"
  }
 },
 "nbformat": 4,
 "nbformat_minor": 5
}

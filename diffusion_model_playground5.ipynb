{
 "cells": [
  {
   "cell_type": "code",
   "execution_count": 1,
   "id": "initial_id",
   "metadata": {
    "ExecuteTime": {
     "end_time": "2025-03-26T03:29:26.080840Z",
     "start_time": "2025-03-26T03:29:26.077942Z"
    },
    "collapsed": true
   },
   "outputs": [],
   "source": [
    "# ==============================================\n",
    "# Diffusion Model Training Notebook\n",
    "# ==============================================\n",
    "# Author: [Han Zhang]\n",
    "# Date: [10/03/04]\n",
    "# Purpose: End-to-end demonstration of training a diffusion model on preliminary data\n",
    "# =============================================="
   ]
  },
  {
   "cell_type": "code",
   "execution_count": 1,
   "id": "6accb534536c080a",
   "metadata": {
    "ExecuteTime": {
     "end_time": "2025-03-26T03:29:28.281669Z",
     "start_time": "2025-03-26T03:29:26.082845Z"
    }
   },
   "outputs": [],
   "source": [
    "# --- Import Necessary Libraries ---\n",
    "import os  # For file handling\n",
    "import csv # For saving data to CSV\n",
    "from datetime import datetime # For timestamping\n",
    "import math \n",
    "import numpy as np  # For numerical operations\n",
    "import matplotlib.pyplot as plt  # For visualization\n",
    "import scipy.io as sio  # For handling MATLAB .mat files\n",
    "import h5py\n",
    "import torch  # PyTorch: deep learning framework\n",
    "import torch.nn as nn  # Neural network modules\n",
    "import torch.nn.functional as F  # Functions for neural networks\n",
    "import torch.optim as optim  # Optimization algorithms\n",
    "from torch.utils.data import DataLoader, Dataset, TensorDataset, random_split # Data handling\n",
    "from tqdm import tqdm  # Progress bar\n",
    "from sklearn.preprocessing import MinMaxScaler  # Scaling data (optional)\n",
    "#from segmentation_models_pytorch import Unet\n"
   ]
  },
  {
   "cell_type": "code",
   "execution_count": 2,
   "id": "65e3696697f96836",
   "metadata": {
    "ExecuteTime": {
     "end_time": "2025-03-26T03:29:28.397988Z",
     "start_time": "2025-03-26T03:29:28.395282Z"
    }
   },
   "outputs": [],
   "source": [
    "# --- File Paths ---\n",
    "# Define file paths (modify these for your datasets)\n",
    "# MATLAB_FILE_PATH = \"A:/Research/Projects/Metamaterial Geometry Bandgap Dataset Generator/2D-dispersion/complete_datasets/complete_dataset_control_32pix.mat\"   \n",
    "# MATLAB_FILE_PATH = \"C:/Users/hz283/Documents/Duke/Research/2D-dispersion/complete_datasets/complete_dataset_control_32pix.mat\"  \n",
    "# MATLAB_FILE_PATH = \"C:/Users/hz283/Documents/Duke/Research/Diffusion-Model-2D-Metamaterials/datasets/datasets/complete_datasets/complete_control_big_nosym.mat\" \n",
    "MATLAB_FILE_PATH = \"C:/Users/hz283/Documents/Duke/Research/Diffusion-Model-2D-Metamaterials/datasets/datasets/complete_datasets/control_sigF20_sigLCombo_sr90.mat\" \n",
    "OUTPUT_DIRECTORY = \"output/\"  # Directory to save results/models"
   ]
  },
  {
   "cell_type": "code",
   "execution_count": 3,
   "id": "272d64f8f741121",
   "metadata": {
    "ExecuteTime": {
     "end_time": "2025-03-26T03:29:29.707059Z",
     "start_time": "2025-03-26T03:29:28.408460Z"
    }
   },
   "outputs": [
    {
     "ename": "FileNotFoundError",
     "evalue": "[Errno 2] Unable to open file (unable to open file: name = 'C:/Users/hz283/Documents/Duke/Research/Diffusion-Model-2D-Metamaterials/datasets/datasets/complete_datasets/control_sigF20_sigLCombo_sr90.mat', errno = 2, error message = 'No such file or directory', flags = 0, o_flags = 0)",
     "output_type": "error",
     "traceback": [
      "\u001b[1;31m---------------------------------------------------------------------------\u001b[0m",
      "\u001b[1;31mFileNotFoundError\u001b[0m                         Traceback (most recent call last)",
      "Cell \u001b[1;32mIn[3], line 1\u001b[0m\n\u001b[1;32m----> 1\u001b[0m \u001b[38;5;28;01mwith\u001b[39;00m \u001b[43mh5py\u001b[49m\u001b[38;5;241;43m.\u001b[39;49m\u001b[43mFile\u001b[49m\u001b[43m(\u001b[49m\u001b[43mMATLAB_FILE_PATH\u001b[49m\u001b[43m,\u001b[49m\u001b[43m \u001b[49m\u001b[38;5;124;43m'\u001b[39;49m\u001b[38;5;124;43mr\u001b[39;49m\u001b[38;5;124;43m'\u001b[39;49m\u001b[43m)\u001b[49m \u001b[38;5;28;01mas\u001b[39;00m f:\n\u001b[0;32m      2\u001b[0m     \u001b[38;5;66;03m# Print available variables\u001b[39;00m\n\u001b[0;32m      3\u001b[0m     \u001b[38;5;28mprint\u001b[39m(\u001b[38;5;124m\"\u001b[39m\u001b[38;5;124mVariables in the .mat file:\u001b[39m\u001b[38;5;124m\"\u001b[39m, \u001b[38;5;28mlist\u001b[39m(f\u001b[38;5;241m.\u001b[39mkeys()))\n\u001b[0;32m      5\u001b[0m     \u001b[38;5;66;03m# Extract and process designs\u001b[39;00m\n",
      "File \u001b[1;32mc:\\Users\\zhang\\anaconda3\\lib\\site-packages\\h5py\\_hl\\files.py:567\u001b[0m, in \u001b[0;36mFile.__init__\u001b[1;34m(self, name, mode, driver, libver, userblock_size, swmr, rdcc_nslots, rdcc_nbytes, rdcc_w0, track_order, fs_strategy, fs_persist, fs_threshold, fs_page_size, page_buf_size, min_meta_keep, min_raw_keep, locking, alignment_threshold, alignment_interval, meta_block_size, **kwds)\u001b[0m\n\u001b[0;32m    558\u001b[0m     fapl \u001b[38;5;241m=\u001b[39m make_fapl(driver, libver, rdcc_nslots, rdcc_nbytes, rdcc_w0,\n\u001b[0;32m    559\u001b[0m                      locking, page_buf_size, min_meta_keep, min_raw_keep,\n\u001b[0;32m    560\u001b[0m                      alignment_threshold\u001b[38;5;241m=\u001b[39malignment_threshold,\n\u001b[0;32m    561\u001b[0m                      alignment_interval\u001b[38;5;241m=\u001b[39malignment_interval,\n\u001b[0;32m    562\u001b[0m                      meta_block_size\u001b[38;5;241m=\u001b[39mmeta_block_size,\n\u001b[0;32m    563\u001b[0m                      \u001b[38;5;241m*\u001b[39m\u001b[38;5;241m*\u001b[39mkwds)\n\u001b[0;32m    564\u001b[0m     fcpl \u001b[38;5;241m=\u001b[39m make_fcpl(track_order\u001b[38;5;241m=\u001b[39mtrack_order, fs_strategy\u001b[38;5;241m=\u001b[39mfs_strategy,\n\u001b[0;32m    565\u001b[0m                      fs_persist\u001b[38;5;241m=\u001b[39mfs_persist, fs_threshold\u001b[38;5;241m=\u001b[39mfs_threshold,\n\u001b[0;32m    566\u001b[0m                      fs_page_size\u001b[38;5;241m=\u001b[39mfs_page_size)\n\u001b[1;32m--> 567\u001b[0m     fid \u001b[38;5;241m=\u001b[39m \u001b[43mmake_fid\u001b[49m\u001b[43m(\u001b[49m\u001b[43mname\u001b[49m\u001b[43m,\u001b[49m\u001b[43m \u001b[49m\u001b[43mmode\u001b[49m\u001b[43m,\u001b[49m\u001b[43m \u001b[49m\u001b[43muserblock_size\u001b[49m\u001b[43m,\u001b[49m\u001b[43m \u001b[49m\u001b[43mfapl\u001b[49m\u001b[43m,\u001b[49m\u001b[43m \u001b[49m\u001b[43mfcpl\u001b[49m\u001b[43m,\u001b[49m\u001b[43m \u001b[49m\u001b[43mswmr\u001b[49m\u001b[38;5;241;43m=\u001b[39;49m\u001b[43mswmr\u001b[49m\u001b[43m)\u001b[49m\n\u001b[0;32m    569\u001b[0m \u001b[38;5;28;01mif\u001b[39;00m \u001b[38;5;28misinstance\u001b[39m(libver, \u001b[38;5;28mtuple\u001b[39m):\n\u001b[0;32m    570\u001b[0m     \u001b[38;5;28mself\u001b[39m\u001b[38;5;241m.\u001b[39m_libver \u001b[38;5;241m=\u001b[39m libver\n",
      "File \u001b[1;32mc:\\Users\\zhang\\anaconda3\\lib\\site-packages\\h5py\\_hl\\files.py:231\u001b[0m, in \u001b[0;36mmake_fid\u001b[1;34m(name, mode, userblock_size, fapl, fcpl, swmr)\u001b[0m\n\u001b[0;32m    229\u001b[0m     \u001b[38;5;28;01mif\u001b[39;00m swmr \u001b[38;5;129;01mand\u001b[39;00m swmr_support:\n\u001b[0;32m    230\u001b[0m         flags \u001b[38;5;241m|\u001b[39m\u001b[38;5;241m=\u001b[39m h5f\u001b[38;5;241m.\u001b[39mACC_SWMR_READ\n\u001b[1;32m--> 231\u001b[0m     fid \u001b[38;5;241m=\u001b[39m \u001b[43mh5f\u001b[49m\u001b[38;5;241;43m.\u001b[39;49m\u001b[43mopen\u001b[49m\u001b[43m(\u001b[49m\u001b[43mname\u001b[49m\u001b[43m,\u001b[49m\u001b[43m \u001b[49m\u001b[43mflags\u001b[49m\u001b[43m,\u001b[49m\u001b[43m \u001b[49m\u001b[43mfapl\u001b[49m\u001b[38;5;241;43m=\u001b[39;49m\u001b[43mfapl\u001b[49m\u001b[43m)\u001b[49m\n\u001b[0;32m    232\u001b[0m \u001b[38;5;28;01melif\u001b[39;00m mode \u001b[38;5;241m==\u001b[39m \u001b[38;5;124m'\u001b[39m\u001b[38;5;124mr+\u001b[39m\u001b[38;5;124m'\u001b[39m:\n\u001b[0;32m    233\u001b[0m     fid \u001b[38;5;241m=\u001b[39m h5f\u001b[38;5;241m.\u001b[39mopen(name, h5f\u001b[38;5;241m.\u001b[39mACC_RDWR, fapl\u001b[38;5;241m=\u001b[39mfapl)\n",
      "File \u001b[1;32mh5py\\_objects.pyx:54\u001b[0m, in \u001b[0;36mh5py._objects.with_phil.wrapper\u001b[1;34m()\u001b[0m\n",
      "File \u001b[1;32mh5py\\_objects.pyx:55\u001b[0m, in \u001b[0;36mh5py._objects.with_phil.wrapper\u001b[1;34m()\u001b[0m\n",
      "File \u001b[1;32mh5py\\h5f.pyx:106\u001b[0m, in \u001b[0;36mh5py.h5f.open\u001b[1;34m()\u001b[0m\n",
      "\u001b[1;31mFileNotFoundError\u001b[0m: [Errno 2] Unable to open file (unable to open file: name = 'C:/Users/hz283/Documents/Duke/Research/Diffusion-Model-2D-Metamaterials/datasets/datasets/complete_datasets/control_sigF20_sigLCombo_sr90.mat', errno = 2, error message = 'No such file or directory', flags = 0, o_flags = 0)"
     ]
    }
   ],
   "source": [
    "with h5py.File(MATLAB_FILE_PATH, 'r') as f:\n",
    "    # Print available variables\n",
    "    print(\"Variables in the .mat file:\", list(f.keys()))\n",
    "    \n",
    "    # Extract and process designs\n",
    "    designs_raw = np.array(f['designs'])\n",
    "    print(\"Designs raw shape:\", designs_raw.shape)\n",
    "    \n",
    "    # Extract bandgap data\n",
    "    bandgap_widths = np.array(f['bandgap_widths'])\n",
    "    print(\"Bandgap widths raw shape:\", bandgap_widths.shape)\n",
    "    largest_bandgap_widths = np.max(bandgap_widths, axis=1)\n",
    "    bandgap_eigenmode_indices = np.argmax(bandgap_widths, axis=1)\n",
    "    \n",
    "    bandgap_locations = np.array(f['bandgap_locations'])\n",
    "    print(\"Bandgap locations raw shape:\", bandgap_locations.shape)\n",
    "    \n",
    "    # Get the bandgap locations corresponding to largest widths using eigenmode indices\n",
    "    largest_bandgap_locations = bandgap_locations[np.arange(len(bandgap_eigenmode_indices)), bandgap_eigenmode_indices]\n",
    "    \n",
    "    # Process designs - drop redundant 3rd dimension\n",
    "    # designs = np.transpose(designs_raw, (3, 0, 1, 2))[..., 0]\n",
    "    designs = designs_raw[:,0,:,: ]\n",
    "    print(\"Designs processed shape:\", designs.shape)\n",
    "    \n",
    "    # Calculate bandgap tops and bottoms\n",
    "    bandgap_tops = largest_bandgap_locations + largest_bandgap_widths/2\n",
    "    bandgap_bottoms = largest_bandgap_locations - largest_bandgap_widths/2\n",
    "    # Transpose and get first row\n",
    "    # bandgap_tops = np.transpose(bandgap_tops)[:,0]\n",
    "    # bandgap_tops = bandgap_tops[:,0]\n",
    "    # bandgap_bottoms = np.transpose(bandgap_bottoms)[:,0]\n",
    "    # bandgap_bottoms = bandgap_bottoms[:,0]\n",
    "    print(\"Bandgap tops shape:\", bandgap_tops.shape)\n",
    "    print(\"Bandgap bottoms shape:\", bandgap_bottoms.shape)"
   ]
  },
  {
   "cell_type": "code",
   "execution_count": 50,
   "id": "304e6d8e",
   "metadata": {
    "ExecuteTime": {
     "end_time": "2025-03-26T03:29:29.977589Z",
     "start_time": "2025-03-26T03:29:29.724761Z"
    }
   },
   "outputs": [
    {
     "data": {
      "image/png": "[encoded data removed]",
      "text/plain": [
       "<Figure size 1000x1000 with 2 Axes>"
      ]
     },
     "metadata": {},
     "output_type": "display_data"
    }
   ],
   "source": [
    "# Plot a 2x1 subplot of the histograms of the bandgap locations and widths, flatten the arrays first\n",
    "fig, axs = plt.subplots(2, 1, figsize=(10, 10))\n",
    "axs[0].hist(bandgap_locations.flatten(), bins=100, edgecolor='black')\n",
    "axs[0].set_title('Histogram of Bandgap Locations')\n",
    "axs[0].set_xlabel('Bandgap Location')\n",
    "axs[0].set_ylabel('Frequency')\n",
    "axs[1].hist(bandgap_widths.flatten(), bins=100, edgecolor='black')\n",
    "axs[1].set_title('Histogram of Bandgap Widths')\n",
    "axs[1].set_xlabel('Bandgap Width')\n",
    "axs[1].set_ylabel('Frequency')\n",
    "plt.show()\n"
   ]
  },
  {
   "cell_type": "code",
   "execution_count": 51,
   "id": "b33eedcb",
   "metadata": {
    "ExecuteTime": {
     "end_time": "2025-03-26T03:29:30.138167Z",
     "start_time": "2025-03-26T03:29:29.984791Z"
    }
   },
   "outputs": [
    {
     "data": {
      "image/png": "[encoded data removed]",
      "text/plain": [
       "<Figure size 1000x1000 with 2 Axes>"
      ]
     },
     "metadata": {},
     "output_type": "display_data"
    }
   ],
   "source": [
    "# Plot a 2x1 subplot of the histograms of the bandgap tops and bottoms\n",
    "fig, axs = plt.subplots(2, 1, figsize=(10, 10))\n",
    "axs[0].hist(bandgap_tops, bins=100, edgecolor='black')\n",
    "axs[0].set_title('Histogram of Bandgap Tops')\n",
    "axs[0].set_xlabel('Bandgap Top')\n",
    "axs[0].set_ylabel('Frequency')\n",
    "axs[1].hist(bandgap_bottoms, bins=100, edgecolor='black')\n",
    "axs[1].set_title('Histogram of Bandgap Bottoms')\n",
    "axs[1].set_xlabel('Bandgap Bottom')\n",
    "axs[1].set_ylabel('Frequency')\n",
    "plt.show()\n"
   ]
  },
  {
   "cell_type": "code",
   "execution_count": 52,
   "id": "122a78551bb96dcb",
   "metadata": {
    "ExecuteTime": {
     "end_time": "2025-03-26T03:29:30.154744Z",
     "start_time": "2025-03-26T03:29:30.148394Z"
    }
   },
   "outputs": [],
   "source": [
    "def plot_sample_geometry(designs, bandgap_tops, bandgap_bottoms, index=0):\n",
    "    \"\"\"\n",
    "    Plots a single sample geometry from the designs array with additional metadata.\n",
    "    The title includes the index, bandgap top, and bandgap bottom values.\n",
    "    The colorbar is adjusted to be the same height as the plot.\n",
    "    \n",
    "    Args:\n",
    "    - designs (np.ndarray): Array containing the designs of shape (n, 32, 32).\n",
    "    - index (int): Index of the sample to plot.\n",
    "    - bandgap_tops (np.ndarray): Array of bandgap top values of shape (n,).\n",
    "    - bandgap_bottoms (np.ndarray): Array of bandgap bottom values of shape (n,).\n",
    "    \"\"\"\n",
    "    # Validate index\n",
    "    if index < 0 or index >= designs.shape[0]:\n",
    "        raise ValueError(f\"Index {index} is out of bounds for designs array with shape {designs.shape}.\")\n",
    "\n",
    "    # Extract the geometry to plot\n",
    "    sample_geometry = designs[index]\n",
    "\n",
    "    # Metadata for the title\n",
    "    top = float(bandgap_tops[index])  # Convert to scalar float\n",
    "    bottom = float(bandgap_bottoms[index])  # Convert to scalar float\n",
    "\n",
    "    # Create the plot\n",
    "    fig, ax = plt.subplots(figsize=(6, 6))\n",
    "    im = ax.imshow(sample_geometry, cmap='gray', vmin=0, vmax=1)\n",
    "    ax.set_title(f\"Index: {index}, Bandgap Top: {top:.2f}, Bottom: {bottom:.2f}\")\n",
    "    ax.axis(\"off\")  # Remove axis ticks for cleaner visualization\n",
    "\n",
    "    # Add a colorbar with adjusted height\n",
    "    cbar = fig.colorbar(im, ax=ax, fraction=0.046, pad=0.04)  # Fraction controls height, pad adjusts spacing\n",
    "    cbar.set_label(\"Value\")  # Label for the colorbar\n",
    "\n",
    "    # Show the plot\n",
    "    plt.show()\n",
    "\n",
    "def extract_bandgap_edges(bandgap_edges, warn_threshold=1, zero_threshold=0.5):\n",
    "    \"\"\"\n",
    "    Extracts the bandgap tops and bottoms for each geometry.\n",
    "    Prints warnings for:\n",
    "      - Rows with a single non-zero value.\n",
    "      - Negative non-zero values.\n",
    "      - Non-positive differences between top and bottom values.\n",
    "      - Bandgap differences smaller than warn_threshold.\n",
    "      - Bandgap set to 0 due to zero_threshold.\n",
    "\n",
    "    Args:\n",
    "    - bandgap_edges (np.ndarray): Array of shape (n, 5, 2) containing bandgap edges.\n",
    "    - warn_threshold (float): Threshold for small bandgap warnings.\n",
    "    - zero_threshold (float): Minimum difference for a valid bandgap. Below this, a different row is checked.\n",
    "\n",
    "    Returns:\n",
    "    - bandgap_tops (np.ndarray): Vector of length n containing the top edges of the bandgap.\n",
    "    - bandgap_bottoms (np.ndarray): Vector of length n containing the bottom edges of the bandgap.\n",
    "    \"\"\"\n",
    "    n = bandgap_edges.shape[0]  # Number of samples\n",
    "    bandgap_tops = np.zeros(n)  # Initialize tops\n",
    "    bandgap_bottoms = np.zeros(n)  # Initialize bottoms\n",
    "\n",
    "    for i in range(n):\n",
    "        # Extract the 5x2 array for the current sample\n",
    "        edges = bandgap_edges[i]\n",
    "\n",
    "        # Iterate over the rows to find a valid row\n",
    "        valid_pair = False\n",
    "        for row in edges:\n",
    "            non_zero_count = np.count_nonzero(row)  # Count non-zero values in the row\n",
    "            if non_zero_count == 2:\n",
    "                # Check for negative non-zero values\n",
    "                if any(value < 0 for value in row):\n",
    "                    print(f\"Warning: Negative values found in sample {i}, row: {row}\")\n",
    "\n",
    "                # Compute the bandgap top and bottom\n",
    "                bottom, top  = row[0], row[1]\n",
    "                difference = top - bottom\n",
    "\n",
    "                # Check for non-positive difference\n",
    "                if difference <= 0:\n",
    "                    print(f\"Warning: Non-positive difference in sample {i}, row: {row}\")\n",
    "                    continue  # Move to the next row\n",
    "\n",
    "                # Check if the difference is between 0 and zero_threshold\n",
    "                elif 0 < difference < zero_threshold:\n",
    "                    print(f\"Warning: Bandgap difference below zero_threshold ({zero_threshold}) in sample {i}, row: {row}, ignoring this bandgap.\")\n",
    "                    continue  # Skip this row and move to the next\n",
    "\n",
    "                # Check if the difference is between zero_threshold and warn_threshold\n",
    "                elif zero_threshold <= difference < warn_threshold:\n",
    "                    print(f\"Warning: Small bandgap detected at index {i}, value: {difference:.6f}, still recorded as valid bandgap.\")\n",
    "\n",
    "                # Assign values to bandgap_tops and bandgap_bottoms\n",
    "                bandgap_tops[i] = top\n",
    "                bandgap_bottoms[i] = bottom\n",
    "                valid_pair = True\n",
    "                break  # Exit the loop once a valid row is found\n",
    "            elif non_zero_count == 1:\n",
    "                # Row has a single non-zero value: print a warning\n",
    "                print(f\"Warning: Row with a single non-zero value detected in sample {i}: {row}\")\n",
    "\n",
    "        if not valid_pair:\n",
    "            # No valid row found or all rows had differences below zero_threshold\n",
    "            bandgap_tops[i] = 0\n",
    "            bandgap_bottoms[i] = 0\n",
    "            #print(f\"Bandgap set to 0 for sample {i} due to zero_threshold ({zero_threshold}).\")\n",
    "\n",
    "    non_zero_count = np.count_nonzero(bandgap_tops)\n",
    "    print(f\"Number of non-zero bandgap_tops and bandgap_bottoms: {non_zero_count} out of {n}\")\n",
    "    return bandgap_tops, bandgap_bottoms"
   ]
  },
  {
   "cell_type": "code",
   "execution_count": 53,
   "id": "42f09f63666d1110",
   "metadata": {
    "ExecuteTime": {
     "end_time": "2025-03-26T03:29:30.226501Z",
     "start_time": "2025-03-26T03:29:30.164891Z"
    }
   },
   "outputs": [
    {
     "data": {
      "image/png": "[encoded data removed]",
      "text/plain": [
       "<Figure size 600x600 with 2 Axes>"
      ]
     },
     "metadata": {},
     "output_type": "display_data"
    }
   ],
   "source": [
    "plot_sample_geometry(designs, bandgap_tops, bandgap_bottoms, index=999)"
   ]
  },
  {
   "cell_type": "code",
   "execution_count": 54,
   "id": "e249e8d5b4e31104",
   "metadata": {
    "ExecuteTime": {
     "end_time": "2025-03-26T03:29:30.256536Z",
     "start_time": "2025-03-26T03:29:30.235674Z"
    }
   },
   "outputs": [],
   "source": [
    "# --- Inlined Sinusoidal Position Embedding ---\n",
    "# We define it so that it always returns a tensor of shape (B, embedding_dim) given\n",
    "# an input of shape (B,) (or (B, 1), which is immediately squeezed).\n",
    "class SinusoidalPositionEmbeddings(nn.Module):\n",
    "    def __init__(self, embedding_dim):\n",
    "        super().__init__()\n",
    "        self.embedding_dim = embedding_dim\n",
    "\n",
    "    def forward(self, timesteps):\n",
    "        # Ensure timesteps is shaped (B,) (i.e. scalar for each batch item)\n",
    "        # Do not assume an extra singleton dimension!\n",
    "        if timesteps.dim() == 2:\n",
    "            timesteps = timesteps.squeeze(1) \n",
    "        half_dim = self.embedding_dim // 2\n",
    "        emb_scale = math.log(10000) / (half_dim - 1)\n",
    "        # Create a vector of frequencies of shape (half_dim,)\n",
    "        freqs = torch.exp(torch.arange(half_dim, device=timesteps.device, dtype=torch.float32) * -emb_scale)\n",
    "        # Multiply timesteps (B,) with frequencies (half_dim,) to produce (B, half_dim)\n",
    "        args = timesteps.float().unsqueeze(1) * freqs.unsqueeze(0)\n",
    "        # Concatenate sine and cosine along the last dimension to obtain (B, embedding_dim)\n",
    "        emb = torch.cat([torch.sin(args), torch.cos(args)], dim=-1)\n",
    "        return emb\n"
   ]
  },
  {
   "cell_type": "code",
   "execution_count": 55,
   "id": "6a815144",
   "metadata": {
    "ExecuteTime": {
     "end_time": "2025-03-26T03:29:30.290901Z",
     "start_time": "2025-03-26T03:29:30.278879Z"
    }
   },
   "outputs": [],
   "source": [
    "class UNetWithTimeAndBandgap(nn.Module):\n",
    "    def __init__(self, input_channels=1, output_channels=1, time_embedding_dim=128, bandgap_dim=128):\n",
    "        super().__init__()\n",
    "        \n",
    "        self.time_mlp = nn.Sequential(\n",
    "            SinusoidalPositionEmbeddings(time_embedding_dim),\n",
    "            nn.Linear(time_embedding_dim, time_embedding_dim),\n",
    "            nn.GELU(),\n",
    "            nn.Linear(time_embedding_dim, time_embedding_dim)\n",
    "        )\n",
    "        \n",
    "        self.bandgap_mlp = nn.Sequential(\n",
    "            nn.Linear(2, bandgap_dim),\n",
    "            nn.GELU(),\n",
    "            nn.Linear(bandgap_dim, bandgap_dim)\n",
    "        )\n",
    "        \n",
    "        self.cond_projection = nn.Sequential(\n",
    "            nn.Linear(bandgap_dim, 512),\n",
    "            nn.GELU()\n",
    "        )\n",
    "        \n",
    "        # Encoder path (same as before)\n",
    "        self.inc_conv1 = nn.Conv2d(input_channels, 64, kernel_size=3, padding=1)\n",
    "        self.inc_bn1 = nn.BatchNorm2d(64)\n",
    "        self.inc_conv2 = nn.Conv2d(64, 64, kernel_size=3, padding=1)\n",
    "        self.inc_bn2 = nn.BatchNorm2d(64)\n",
    "        \n",
    "        self.down1_pool = nn.MaxPool2d(2)\n",
    "        self.down1_conv1 = nn.Conv2d(64, 128, kernel_size=3, padding=1)\n",
    "        self.down1_bn1 = nn.BatchNorm2d(128)\n",
    "        self.down1_conv2 = nn.Conv2d(128, 128, kernel_size=3, padding=1)\n",
    "        self.down1_bn2 = nn.BatchNorm2d(128)\n",
    "        \n",
    "        self.down2_pool = nn.MaxPool2d(2)\n",
    "        self.down2_conv1 = nn.Conv2d(128, 256, kernel_size=3, padding=1)\n",
    "        self.down2_bn1 = nn.BatchNorm2d(256)\n",
    "        self.down2_conv2 = nn.Conv2d(256, 256, kernel_size=3, padding=1)\n",
    "        self.down2_bn2 = nn.BatchNorm2d(256)\n",
    "        \n",
    "        self.down3_pool = nn.MaxPool2d(2)\n",
    "        self.down3_conv1 = nn.Conv2d(256, 512, kernel_size=3, padding=1)\n",
    "        self.down3_bn1 = nn.BatchNorm2d(512)\n",
    "        self.down3_conv2 = nn.Conv2d(512, 512, kernel_size=3, padding=1)\n",
    "        self.down3_bn2 = nn.BatchNorm2d(512)\n",
    "        \n",
    "        self.down4_pool = nn.MaxPool2d(2)\n",
    "        self.down4_conv1 = nn.Conv2d(512, 512, kernel_size=3, padding=1)\n",
    "        self.down4_bn1 = nn.BatchNorm2d(512)\n",
    "        self.down4_conv2 = nn.Conv2d(512, 512, kernel_size=3, padding=1)\n",
    "        self.down4_bn2 = nn.BatchNorm2d(512)\n",
    "        \n",
    "        # Decoder path (fixed channel dimensions)\n",
    "        self.up1_upsample = nn.Upsample(scale_factor=2, mode='bilinear', align_corners=True)\n",
    "        self.up1_conv1 = nn.Conv2d(512 + 512, 256, kernel_size=3, padding=1)  # 1024 input channels (512 + 512)\n",
    "        self.up1_bn1 = nn.BatchNorm2d(256)\n",
    "        self.up1_conv2 = nn.Conv2d(256, 256, kernel_size=3, padding=1)\n",
    "        self.up1_bn2 = nn.BatchNorm2d(256)\n",
    "        \n",
    "        self.up2_upsample = nn.Upsample(scale_factor=2, mode='bilinear', align_corners=True)\n",
    "        self.up2_conv1 = nn.Conv2d(256 + 256, 128, kernel_size=3, padding=1)  # 512 input channels (256 + 256)\n",
    "        self.up2_bn1 = nn.BatchNorm2d(128)\n",
    "        self.up2_conv2 = nn.Conv2d(128, 128, kernel_size=3, padding=1)\n",
    "        self.up2_bn2 = nn.BatchNorm2d(128)\n",
    "        \n",
    "        self.up3_upsample = nn.Upsample(scale_factor=2, mode='bilinear', align_corners=True)\n",
    "        self.up3_conv1 = nn.Conv2d(128 + 128, 64, kernel_size=3, padding=1)  # 256 input channels (128 + 128)\n",
    "        self.up3_bn1 = nn.BatchNorm2d(64)\n",
    "        self.up3_conv2 = nn.Conv2d(64, 64, kernel_size=3, padding=1)\n",
    "        self.up3_bn2 = nn.BatchNorm2d(64)\n",
    "        \n",
    "        self.up4_upsample = nn.Upsample(scale_factor=2, mode='bilinear', align_corners=True)\n",
    "        self.up4_conv1 = nn.Conv2d(64 + 64, 64, kernel_size=3, padding=1)  # 128 input channels (64 + 64)\n",
    "        self.up4_bn1 = nn.BatchNorm2d(64)\n",
    "        self.up4_conv2 = nn.Conv2d(64, 64, kernel_size=3, padding=1)\n",
    "        self.up4_bn2 = nn.BatchNorm2d(64)\n",
    "        \n",
    "        self.out_conv = nn.Conv2d(64, output_channels, kernel_size=1)\n",
    "        \n",
    "    def forward(self, x, t, bandgap):\n",
    "        # Process condition embeddings\n",
    "        t_emb = self.time_mlp(t)\n",
    "        bandgap_emb = self.bandgap_mlp(bandgap)\n",
    "        combined_emb = t_emb + bandgap_emb\n",
    "        combined_emb = self.cond_projection(combined_emb)\n",
    "        combined_emb = combined_emb.unsqueeze(-1).unsqueeze(-1)\n",
    "        \n",
    "        # Encoder path\n",
    "        x1 = F.relu(self.inc_bn1(self.inc_conv1(x)))\n",
    "        x1 = F.relu(self.inc_bn2(self.inc_conv2(x1)))  # (B, 64, H, W)\n",
    "        \n",
    "        x2 = self.down1_pool(x1)\n",
    "        x2 = F.relu(self.down1_bn1(self.down1_conv1(x2)))\n",
    "        x2 = F.relu(self.down1_bn2(self.down1_conv2(x2)))  # (B, 128, H/2, W/2)\n",
    "        \n",
    "        x3 = self.down2_pool(x2)\n",
    "        x3 = F.relu(self.down2_bn1(self.down2_conv1(x3)))\n",
    "        x3 = F.relu(self.down2_bn2(self.down2_conv2(x3)))  # (B, 256, H/4, W/4)\n",
    "        \n",
    "        x4 = self.down3_pool(x3)\n",
    "        x4 = F.relu(self.down3_bn1(self.down3_conv1(x4)))\n",
    "        x4 = F.relu(self.down3_bn2(self.down3_conv2(x4)))  # (B, 512, H/8, W/8)\n",
    "        \n",
    "        x5 = self.down4_pool(x4)\n",
    "        x5 = F.relu(self.down4_bn1(self.down4_conv1(x5)))\n",
    "        x5 = F.relu(self.down4_bn2(self.down4_conv2(x5)))  # (B, 512, H/16, W/16)\n",
    "        \n",
    "        # Add conditioning\n",
    "        x5 = x5 + combined_emb\n",
    "        \n",
    "        # Decoder path\n",
    "        x = self.up1_upsample(x5)\n",
    "        diffY = x4.size()[2] - x.size()[2]\n",
    "        diffX = x4.size()[3] - x.size()[3]\n",
    "        x = F.pad(x, [diffX//2, diffX - diffX//2, diffY//2, diffY - diffY//2])\n",
    "        x = torch.cat([x4, x], dim=1)  # (B, 1024, H/8, W/8)\n",
    "        x = F.relu(self.up1_bn1(self.up1_conv1(x)))\n",
    "        x = F.relu(self.up1_bn2(self.up1_conv2(x)))\n",
    "        \n",
    "        x = self.up2_upsample(x)\n",
    "        diffY = x3.size()[2] - x.size()[2]\n",
    "        diffX = x3.size()[3] - x.size()[3]\n",
    "        x = F.pad(x, [diffX//2, diffX - diffX//2, diffY//2, diffY - diffY//2])\n",
    "        x = torch.cat([x3, x], dim=1)  # (B, 512, H/4, W/4)\n",
    "        x = F.relu(self.up2_bn1(self.up2_conv1(x)))\n",
    "        x = F.relu(self.up2_bn2(self.up2_conv2(x)))\n",
    "        \n",
    "        x = self.up3_upsample(x)\n",
    "        diffY = x2.size()[2] - x.size()[2]\n",
    "        diffX = x2.size()[3] - x.size()[3]\n",
    "        x = F.pad(x, [diffX//2, diffX - diffX//2, diffY//2, diffY - diffY//2])\n",
    "        x = torch.cat([x2, x], dim=1)  # (B, 256, H/2, W/2)\n",
    "        x = F.relu(self.up3_bn1(self.up3_conv1(x)))\n",
    "        x = F.relu(self.up3_bn2(self.up3_conv2(x)))\n",
    "        \n",
    "        x = self.up4_upsample(x)\n",
    "        diffY = x1.size()[2] - x.size()[2]\n",
    "        diffX = x1.size()[3] - x.size()[3]\n",
    "        x = F.pad(x, [diffX//2, diffX - diffX//2, diffY//2, diffY - diffY//2])\n",
    "        x = torch.cat([x1, x], dim=1)  # (B, 128, H, W)\n",
    "        x = F.relu(self.up4_bn1(self.up4_conv1(x)))\n",
    "        x = F.relu(self.up4_bn2(self.up4_conv2(x)))\n",
    "        \n",
    "        return self.out_conv(x)"
   ]
  },
  {
   "cell_type": "code",
   "execution_count": 56,
   "id": "9b218521dc684589",
   "metadata": {
    "ExecuteTime": {
     "end_time": "2025-03-26T03:29:30.303540Z",
     "start_time": "2025-03-26T03:29:30.293905Z"
    }
   },
   "outputs": [],
   "source": [
    "# Define the forward diffusion process\n",
    "def forward_diffusion_sample(x_0, t, noise=None):\n",
    "    \"\"\"\n",
    "    Add Gaussian noise to input images based on the timestep.\n",
    "    Args:\n",
    "    - x_0 (torch.Tensor): Clean input images of shape (batch, channels, H, W).\n",
    "    - t (torch.Tensor): Timestep scalar tensor of shape (batch,).\n",
    "    - noise (torch.Tensor): Optional noise to add; otherwise, sampled from normal distribution.\n",
    "    Returns:\n",
    "    - x_t: Noisy image at timestep t.\n",
    "    - noise: The added noise.\n",
    "    \"\"\"\n",
    "    if noise is None:\n",
    "        noise = torch.randn_like(x_0)  # Generate Gaussian noise\n",
    "    alpha_t = (1 - t / t.max()).view(-1, 1, 1, 1)  # Linearly decreasing variance schedule\n",
    "    x_t = alpha_t * x_0 + (1 - alpha_t) * noise  # Add noise proportional to alpha_t\n",
    "    return x_t, noise\n",
    "\n",
    "# Take a sample image and generate multiple levels of noise for it to test above function.\n",
    "import matplotlib.pyplot as plt\n",
    "\n",
    "# Get a sample image from the dataset\n",
    "sample_image = designs[0]  # Take the first image\n",
    "\n",
    "# Define noise steps to visualize\n",
    "noise_steps = [5, 10, 20, 40, 80, 160, 320]\n",
    "\n",
    "# Create a figure with subplots\n",
    "fig, axes = plt.subplots(2, 4, figsize=(16, 8))\n",
    "axes = axes.flatten()\n",
    "\n",
    "# Plot the original image\n",
    "axes[0].imshow(sample_image[0].permute(1, 2, 0).cpu().numpy())\n",
    "axes[0].set_title(\"Original Image\")\n",
    "axes[0].axis('off')\n",
    "\n",
    "# Generate and plot noisy images at different timesteps\n",
    "for i, step in enumerate(noise_steps):\n",
    "    # Create a timestep tensor\n",
    "    t = torch.tensor([step], device=device)\n",
    "    \n",
    "    # Apply forward diffusion\n",
    "    noisy_image, _ = forward_diffusion_sample(sample_image, t)\n",
    "    \n",
    "    # Plot the noisy image\n",
    "    axes[i+1].imshow(noisy_image[0].permute(1, 2, 0).cpu().numpy())\n",
    "    axes[i+1].set_title(f\"t={step}\")\n",
    "    axes[i+1].axis('off')\n",
    "\n",
    "plt.tight_layout()\n",
    "plt.show()"
   ]
  },
  {
   "cell_type": "code",
   "execution_count": null,
   "id": "5ed69d57",
   "metadata": {},
   "outputs": [],
   "source": [
    "\n",
    "# Training function\n",
    "def train_diffusion_model(\n",
    "    model,\n",
    "    train_dataloader,\n",
    "    val_dataloader,\n",
    "    num_timesteps=200,\n",
    "    epochs=20,\n",
    "    criterion=nn.MSELoss(),\n",
    "    device=\"cuda\",\n",
    "    output_folder=\"output\",\n",
    "    save_intermediates=True,\n",
    "    track_losses=True,\n",
    "):\n",
    "    \"\"\"\n",
    "    Train the diffusion model with optional intermediate model saving and loss tracking.\n",
    "    \n",
    "    Args:\n",
    "        model: The UNet model to train\n",
    "        train_dataloader: DataLoader for training data\n",
    "        val_dataloader: DataLoader for validation data\n",
    "        num_timesteps: Number of diffusion steps\n",
    "        epochs: Number of training epochs\n",
    "        device: Device to train on (\"cuda\" or \"cpu\")\n",
    "        output_folder: Where to save model checkpoints and logs\n",
    "        save_intermediates: Whether to save intermediate model checkpoints\n",
    "        track_losses: Whether to track and plot training/validation losses\n",
    "        criterion: Loss function to use (default: MSELoss)\n",
    "    \"\"\"\n",
    "    optimizer = optim.AdamW(model.parameters(), lr=1e-4, weight_decay=1e-2)\n",
    "    \n",
    "    device = torch.device(device)\n",
    "    model.to(device)\n",
    "    model.train()\n",
    "\n",
    "    # Create output folder if it doesn't exist\n",
    "    os.makedirs(output_folder, exist_ok=True)\n",
    "\n",
    "    # Initialize lists to track losses\n",
    "    training_losses = []\n",
    "    validation_losses = []\n",
    "\n",
    "    for epoch in range(epochs):\n",
    "        model.train()  # Set model to training mode\n",
    "        epoch_train_loss = 0\n",
    "        with tqdm(train_dataloader, desc=f\"Epoch {epoch + 1}/{epochs} [Train]\") as pbar:\n",
    "            for batch in pbar:\n",
    "                images, bandgap_tops, bandgap_bottoms = batch\n",
    "                images = images.to(device)\n",
    "                bandgap_tops = bandgap_tops.to(device)\n",
    "                bandgap_bottoms = bandgap_bottoms.to(device)\n",
    "\n",
    "                # Ensure images have the correct channel dimension\n",
    "                if images.ndim == 3:\n",
    "                    images = images.unsqueeze(1)\n",
    "\n",
    "                # Combine bandgap_tops and bandgap_bottoms into a single tensor\n",
    "                bandgap_conditions = torch.stack([bandgap_tops, bandgap_bottoms], dim=1)\n",
    "\n",
    "                # Sample random timesteps for the batch\n",
    "                timesteps = torch.randint(1, num_timesteps + 1, (images.size(0),), device=device).float()\n",
    "\n",
    "                # Forward diffusion process (add noise)\n",
    "                noisy_images, noise = forward_diffusion_sample(images, timesteps)\n",
    "\n",
    "                # Predict noise from the noisy images\n",
    "                predicted_noise = model(noisy_images, timesteps, bandgap_conditions)\n",
    "\n",
    "                # Compute loss\n",
    "                loss = criterion(predicted_noise, noise)\n",
    "\n",
    "                # Backpropagation\n",
    "                optimizer.zero_grad()\n",
    "                loss.backward()\n",
    "                optimizer.step()\n",
    "\n",
    "                # Update TQDM progress bar\n",
    "                epoch_train_loss += loss.item()\n",
    "                pbar.set_postfix(loss=loss.item())\n",
    "\n",
    "        avg_train_loss = epoch_train_loss / len(train_dataloader)\n",
    "        training_losses.append(avg_train_loss)\n",
    "\n",
    "        # Validation Loss\n",
    "        model.eval()  # Set model to evaluation mode\n",
    "        epoch_val_loss = 0\n",
    "        with torch.no_grad():\n",
    "            with tqdm(val_dataloader, desc=f\"Epoch {epoch + 1}/{epochs} [Validation]\") as pbar:\n",
    "                for batch in pbar:\n",
    "                    images, bandgap_tops, bandgap_bottoms = batch\n",
    "                    images = images.to(device)\n",
    "                    bandgap_tops = bandgap_tops.to(device)\n",
    "                    bandgap_bottoms = bandgap_bottoms.to(device)\n",
    "\n",
    "                    if images.ndim == 3:\n",
    "                        images = images.unsqueeze(1)\n",
    "\n",
    "                    bandgap_conditions = torch.stack([bandgap_tops, bandgap_bottoms], dim=1)\n",
    "                    timesteps = torch.randint(1, num_timesteps + 1, (images.size(0),), device=device).float()\n",
    "                    noisy_images, noise = forward_diffusion_sample(images, timesteps)\n",
    "                    predicted_noise = model(noisy_images, timesteps, bandgap_conditions)\n",
    "                    val_loss = criterion(predicted_noise, noise)\n",
    "                    epoch_val_loss += val_loss.item()\n",
    "                    pbar.set_postfix(val_loss=val_loss.item())\n",
    "\n",
    "        avg_val_loss = epoch_val_loss / len(val_dataloader)\n",
    "        validation_losses.append(avg_val_loss)\n",
    "\n",
    "        print(f\"Epoch {epoch + 1}/{epochs}, Train Loss: {avg_train_loss:.6f}, Validation Loss: {avg_val_loss:.6f}\")\n",
    "\n",
    "        # Save model checkpoint\n",
    "        if save_intermediates:\n",
    "            model_path = os.path.join(output_folder, f\"model_epoch_{epoch + 1}.pth\")\n",
    "            torch.save(model.state_dict(), model_path)\n",
    "            print(f\"Saved intermediate model to {model_path}\")\n",
    "\n",
    "    # Save the final model\n",
    "    final_model_path = os.path.join(output_folder, \"model_final.pth\")\n",
    "    torch.save(model.state_dict(), final_model_path)\n",
    "    print(f\"Saved final model to {final_model_path}\")\n",
    "\n",
    "    # Track losses\n",
    "    if track_losses:\n",
    "        # Save losses to CSV\n",
    "        losses_csv_path = os.path.join(output_folder, \"losses.csv\")\n",
    "        with open(losses_csv_path, \"w\", newline=\"\") as csvfile:\n",
    "            writer = csv.writer(csvfile)\n",
    "            writer.writerow([\"Epoch\", \"Train Loss\", \"Validation Loss\"])\n",
    "            for epoch, (train_loss, val_loss) in enumerate(zip(training_losses, validation_losses), start=1):\n",
    "                writer.writerow([epoch, train_loss, val_loss])\n",
    "        print(f\"Saved losses to {losses_csv_path}\")\n",
    "\n",
    "        # Plot losses\n",
    "        plt.figure(figsize=(10, 6))\n",
    "        plt.plot(range(1, epochs + 1), training_losses, label=\"Training Loss\")\n",
    "        plt.plot(range(1, epochs + 1), validation_losses, label=\"Validation Loss\")\n",
    "        plt.xlabel(\"Epochs\")\n",
    "        plt.ylabel(\"Loss\")\n",
    "        plt.title(\"Training and Validation Loss Over Epochs\")\n",
    "        plt.legend()\n",
    "        plt.grid(True)\n",
    "        plt_path = os.path.join(output_folder, \"loss_plot.png\")\n",
    "        plt.savefig(plt_path)\n",
    "        print(f\"Saved loss plot to {plt_path}\")\n",
    "        plt.show()"
   ]
  },
  {
   "cell_type": "code",
   "execution_count": 57,
   "id": "65014772c8b1f499",
   "metadata": {
    "ExecuteTime": {
     "end_time": "2025-03-26T03:29:30.325564Z",
     "start_time": "2025-03-26T03:29:30.312493Z"
    }
   },
   "outputs": [],
   "source": [
    "# Create Dataset\n",
    "batch_size = 32\n",
    "images = torch.tensor(designs, dtype=torch.float32)\n",
    "bandgap_tops = torch.tensor(bandgap_tops, dtype=torch.float32)\n",
    "bandgap_bottoms = torch.tensor(bandgap_bottoms, dtype=torch.float32)\n",
    "\n",
    "dataset = TensorDataset(images, bandgap_tops, bandgap_bottoms)\n",
    "\n",
    "# Split into training and validation sets (80-20 split)\n",
    "train_size = int(0.8 * len(dataset))\n",
    "val_size = len(dataset) - train_size\n",
    "train_dataset, val_dataset = random_split(dataset, [train_size, val_size])\n",
    "\n",
    "# Create DataLoaders\n",
    "train_dataloader = DataLoader(train_dataset, batch_size=batch_size, shuffle=True)\n",
    "val_dataloader = DataLoader(val_dataset, batch_size=batch_size, shuffle=False)"
   ]
  },
  {
   "cell_type": "code",
   "execution_count": 58,
   "id": "184813673daa6dbc",
   "metadata": {
    "ExecuteTime": {
     "end_time": "2025-03-26T03:29:30.383620Z",
     "start_time": "2025-03-26T03:29:30.337693Z"
    }
   },
   "outputs": [],
   "source": [
    "input_channels = 1  # Single channel for geometry images\n",
    "output_channels = 1  # Single channel for noise prediction\n",
    "time_embedding_dim = 128  # Dimensionality of timestep embedding\n",
    "bandgap_dim = 128  # Dimensionality of bandgap condition embedding\n",
    "\n",
    "model = UNetWithTimeAndBandgap(\n",
    "    input_channels=input_channels, \n",
    "    output_channels=output_channels, \n",
    "    time_embedding_dim=time_embedding_dim, \n",
    "    bandgap_dim=bandgap_dim\n",
    ")"
   ]
  },
  {
   "cell_type": "code",
   "execution_count": 59,
   "id": "931888e3",
   "metadata": {
    "ExecuteTime": {
     "end_time": "2025-03-26T03:29:30.400303Z",
     "start_time": "2025-03-26T03:29:30.394360Z"
    }
   },
   "outputs": [],
   "source": [
    "class SSIMLoss(nn.Module):\n",
    "    def __init__(self, window_size=11, size_average=True):\n",
    "        super().__init__()\n",
    "        self.window_size = window_size\n",
    "        self.size_average = size_average\n",
    "        self.channel = 1  # Since we're working with grayscale images\n",
    "        self.window = self.create_window(window_size)\n",
    "        \n",
    "    def gaussian(self, window_size, sigma=1.5):\n",
    "        \"\"\"\n",
    "        Create a gaussian kernel using PyTorch operations for gradient tracking\n",
    "        \"\"\"\n",
    "        # Create coordinates\n",
    "        x = torch.arange(window_size, dtype=torch.float32)\n",
    "        # Center coordinates at zero\n",
    "        x = x - window_size//2\n",
    "        # Calculate gaussian values using torch.exp\n",
    "        gauss = torch.exp(-(x * x)/(2 * sigma * sigma))\n",
    "        return gauss/gauss.sum()\n",
    "        \n",
    "    def create_window(self, window_size):\n",
    "        _1D_window = self.gaussian(window_size).unsqueeze(1)\n",
    "        _2D_window = _1D_window.mm(_1D_window.t()).float().unsqueeze(0).unsqueeze(0)\n",
    "        window = _2D_window.expand(self.channel, 1, window_size, window_size).contiguous()\n",
    "        return window\n",
    "    \n",
    "    def forward(self, pred, target):\n",
    "        window = self.window.to(pred.device)\n",
    "        \n",
    "        # Constants for stability\n",
    "        L = 1  # Dynamic range of pixel values\n",
    "        K1 = 0.01\n",
    "        K2 = 0.03\n",
    "        C1 = (K1 * L) ** 2\n",
    "        C2 = (K2 * L) ** 2\n",
    "        \n",
    "        # Compute means\n",
    "        mu1 = F.conv2d(pred, window, padding=self.window_size//2, groups=self.channel)\n",
    "        mu2 = F.conv2d(target, window, padding=self.window_size//2, groups=self.channel)\n",
    "        \n",
    "        mu1_sq = mu1.pow(2)\n",
    "        mu2_sq = mu2.pow(2)\n",
    "        mu1_mu2 = mu1 * mu2\n",
    "        \n",
    "        # Compute variances and covariance\n",
    "        sigma1_sq = F.conv2d(pred * pred, window, padding=self.window_size//2, groups=self.channel) - mu1_sq\n",
    "        sigma2_sq = F.conv2d(target * target, window, padding=self.window_size//2, groups=self.channel) - mu2_sq\n",
    "        sigma12 = F.conv2d(pred * target, window, padding=self.window_size//2, groups=self.channel) - mu1_mu2\n",
    "        \n",
    "        # Compute SSIM\n",
    "        ssim_map = ((2 * mu1_mu2 + C1) * (2 * sigma12 + C2)) / \\\n",
    "                   ((mu1_sq + mu2_sq + C1) * (sigma1_sq + sigma2_sq + C2))\n",
    "        \n",
    "        if self.size_average:\n",
    "            ssim_loss = 1 - ssim_map.mean()\n",
    "        else:\n",
    "            ssim_loss = 1 - ssim_map.mean(1).mean(1).mean(1)\n",
    "        \n",
    "        return ssim_loss"
   ]
  },
  {
   "cell_type": "code",
   "execution_count": 61,
   "id": "acacb4b14816c492",
   "metadata": {
    "ExecuteTime": {
     "end_time": "2025-03-26T03:32:04.452832Z",
     "start_time": "2025-03-26T03:29:30.451638Z"
    }
   },
   "outputs": [
    {
     "name": "stderr",
     "output_type": "stream",
     "text": [
      "Epoch 1/50 [Train]: 100%|██████████| 7980/7980 [01:41<00:00, 78.50it/s, loss=0.023] \n",
      "Epoch 1/50 [Validation]: 100%|██████████| 1995/1995 [00:13<00:00, 151.64it/s, val_loss=0.0223]\n"
     ]
    },
    {
     "name": "stdout",
     "output_type": "stream",
     "text": [
      "Epoch 1/50, Train Loss: 0.029486, Validation Loss: 0.028426\n",
      "Saved intermediate model to ./diffusion_models\\20250408_233652\\model_epoch_1.pth\n"
     ]
    },
    {
     "name": "stderr",
     "output_type": "stream",
     "text": [
      "Epoch 2/50 [Train]: 100%|██████████| 7980/7980 [01:41<00:00, 78.34it/s, loss=0.0261]\n",
      "Epoch 2/50 [Validation]: 100%|██████████| 1995/1995 [00:13<00:00, 151.06it/s, val_loss=0.0224]\n"
     ]
    },
    {
     "name": "stdout",
     "output_type": "stream",
     "text": [
      "Epoch 2/50, Train Loss: 0.028852, Validation Loss: 0.028977\n",
      "Saved intermediate model to ./diffusion_models\\20250408_233652\\model_epoch_2.pth\n"
     ]
    },
    {
     "name": "stderr",
     "output_type": "stream",
     "text": [
      "Epoch 3/50 [Train]: 100%|██████████| 7980/7980 [01:41<00:00, 78.98it/s, loss=0.0361]\n",
      "Epoch 3/50 [Validation]: 100%|██████████| 1995/1995 [00:13<00:00, 151.67it/s, val_loss=0.0248]\n"
     ]
    },
    {
     "name": "stdout",
     "output_type": "stream",
     "text": [
      "Epoch 3/50, Train Loss: 0.028465, Validation Loss: 0.027112\n",
      "Saved intermediate model to ./diffusion_models\\20250408_233652\\model_epoch_3.pth\n"
     ]
    },
    {
     "name": "stderr",
     "output_type": "stream",
     "text": [
      "Epoch 4/50 [Train]: 100%|██████████| 7980/7980 [01:41<00:00, 78.79it/s, loss=0.0385]\n",
      "Epoch 4/50 [Validation]: 100%|██████████| 1995/1995 [00:13<00:00, 152.11it/s, val_loss=0.0259]\n"
     ]
    },
    {
     "name": "stdout",
     "output_type": "stream",
     "text": [
      "Epoch 4/50, Train Loss: 0.027873, Validation Loss: 0.028360\n",
      "Saved intermediate model to ./diffusion_models\\20250408_233652\\model_epoch_4.pth\n"
     ]
    },
    {
     "name": "stderr",
     "output_type": "stream",
     "text": [
      "Epoch 5/50 [Train]: 100%|██████████| 7980/7980 [01:41<00:00, 78.40it/s, loss=0.0146]\n",
      "Epoch 5/50 [Validation]: 100%|██████████| 1995/1995 [00:13<00:00, 150.84it/s, val_loss=0.0367]\n"
     ]
    },
    {
     "name": "stdout",
     "output_type": "stream",
     "text": [
      "Epoch 5/50, Train Loss: 0.027442, Validation Loss: 0.027232\n",
      "Saved intermediate model to ./diffusion_models\\20250408_233652\\model_epoch_5.pth\n"
     ]
    },
    {
     "name": "stderr",
     "output_type": "stream",
     "text": [
      "Epoch 6/50 [Train]: 100%|██████████| 7980/7980 [01:41<00:00, 78.93it/s, loss=0.0218]\n",
      "Epoch 6/50 [Validation]: 100%|██████████| 1995/1995 [00:13<00:00, 151.16it/s, val_loss=0.0254]\n"
     ]
    },
    {
     "name": "stdout",
     "output_type": "stream",
     "text": [
      "Epoch 6/50, Train Loss: 0.027059, Validation Loss: 0.028364\n",
      "Saved intermediate model to ./diffusion_models\\20250408_233652\\model_epoch_6.pth\n"
     ]
    },
    {
     "name": "stderr",
     "output_type": "stream",
     "text": [
      "Epoch 7/50 [Train]: 100%|██████████| 7980/7980 [01:41<00:00, 78.67it/s, loss=0.0332]\n",
      "Epoch 7/50 [Validation]: 100%|██████████| 1995/1995 [00:13<00:00, 151.33it/s, val_loss=0.0194] \n"
     ]
    },
    {
     "name": "stdout",
     "output_type": "stream",
     "text": [
      "Epoch 7/50, Train Loss: 0.026652, Validation Loss: 0.026372\n",
      "Saved intermediate model to ./diffusion_models\\20250408_233652\\model_epoch_7.pth\n"
     ]
    },
    {
     "name": "stderr",
     "output_type": "stream",
     "text": [
      "Epoch 8/50 [Train]: 100%|██████████| 7980/7980 [01:41<00:00, 78.50it/s, loss=0.033] \n",
      "Epoch 8/50 [Validation]: 100%|██████████| 1995/1995 [00:13<00:00, 151.63it/s, val_loss=0.0336]\n"
     ]
    },
    {
     "name": "stdout",
     "output_type": "stream",
     "text": [
      "Epoch 8/50, Train Loss: 0.026387, Validation Loss: 0.026919\n",
      "Saved intermediate model to ./diffusion_models\\20250408_233652\\model_epoch_8.pth\n"
     ]
    },
    {
     "name": "stderr",
     "output_type": "stream",
     "text": [
      "Epoch 9/50 [Train]: 100%|██████████| 7980/7980 [01:41<00:00, 78.97it/s, loss=0.017] \n",
      "Epoch 9/50 [Validation]: 100%|██████████| 1995/1995 [00:13<00:00, 150.77it/s, val_loss=0.0182] \n"
     ]
    },
    {
     "name": "stdout",
     "output_type": "stream",
     "text": [
      "Epoch 9/50, Train Loss: 0.026223, Validation Loss: 0.026226\n",
      "Saved intermediate model to ./diffusion_models\\20250408_233652\\model_epoch_9.pth\n"
     ]
    },
    {
     "name": "stderr",
     "output_type": "stream",
     "text": [
      "Epoch 10/50 [Train]: 100%|██████████| 7980/7980 [01:41<00:00, 78.60it/s, loss=0.0215]\n",
      "Epoch 10/50 [Validation]: 100%|██████████| 1995/1995 [00:13<00:00, 150.68it/s, val_loss=0.0242]\n"
     ]
    },
    {
     "name": "stdout",
     "output_type": "stream",
     "text": [
      "Epoch 10/50, Train Loss: 0.025818, Validation Loss: 0.026163\n",
      "Saved intermediate model to ./diffusion_models\\20250408_233652\\model_epoch_10.pth\n"
     ]
    },
    {
     "name": "stderr",
     "output_type": "stream",
     "text": [
      "Epoch 11/50 [Train]: 100%|██████████| 7980/7980 [01:41<00:00, 78.82it/s, loss=0.0273]\n",
      "Epoch 11/50 [Validation]: 100%|██████████| 1995/1995 [00:13<00:00, 150.30it/s, val_loss=0.0169]\n"
     ]
    },
    {
     "name": "stdout",
     "output_type": "stream",
     "text": [
      "Epoch 11/50, Train Loss: 0.025657, Validation Loss: 0.025380\n",
      "Saved intermediate model to ./diffusion_models\\20250408_233652\\model_epoch_11.pth\n"
     ]
    },
    {
     "name": "stderr",
     "output_type": "stream",
     "text": [
      "Epoch 12/50 [Train]: 100%|██████████| 7980/7980 [01:41<00:00, 78.72it/s, loss=0.0198]\n",
      "Epoch 12/50 [Validation]: 100%|██████████| 1995/1995 [00:13<00:00, 151.69it/s, val_loss=0.0202]\n"
     ]
    },
    {
     "name": "stdout",
     "output_type": "stream",
     "text": [
      "Epoch 12/50, Train Loss: 0.025435, Validation Loss: 0.025969\n",
      "Saved intermediate model to ./diffusion_models\\20250408_233652\\model_epoch_12.pth\n"
     ]
    },
    {
     "name": "stderr",
     "output_type": "stream",
     "text": [
      "Epoch 13/50 [Train]: 100%|██████████| 7980/7980 [01:41<00:00, 78.54it/s, loss=0.0188]\n",
      "Epoch 13/50 [Validation]: 100%|██████████| 1995/1995 [00:13<00:00, 148.46it/s, val_loss=0.0236] \n"
     ]
    },
    {
     "name": "stdout",
     "output_type": "stream",
     "text": [
      "Epoch 13/50, Train Loss: 0.025102, Validation Loss: 0.024871\n",
      "Saved intermediate model to ./diffusion_models\\20250408_233652\\model_epoch_13.pth\n"
     ]
    },
    {
     "name": "stderr",
     "output_type": "stream",
     "text": [
      "Epoch 14/50 [Train]: 100%|██████████| 7980/7980 [01:41<00:00, 78.72it/s, loss=0.0218]\n",
      "Epoch 14/50 [Validation]: 100%|██████████| 1995/1995 [00:13<00:00, 148.39it/s, val_loss=0.0152]\n"
     ]
    },
    {
     "name": "stdout",
     "output_type": "stream",
     "text": [
      "Epoch 14/50, Train Loss: 0.024913, Validation Loss: 0.025716\n",
      "Saved intermediate model to ./diffusion_models\\20250408_233652\\model_epoch_14.pth\n"
     ]
    },
    {
     "name": "stderr",
     "output_type": "stream",
     "text": [
      "Epoch 15/50 [Train]: 100%|██████████| 7980/7980 [01:41<00:00, 78.71it/s, loss=0.0195]\n",
      "Epoch 15/50 [Validation]: 100%|██████████| 1995/1995 [00:13<00:00, 150.02it/s, val_loss=0.021] \n"
     ]
    },
    {
     "name": "stdout",
     "output_type": "stream",
     "text": [
      "Epoch 15/50, Train Loss: 0.024807, Validation Loss: 0.024552\n",
      "Saved intermediate model to ./diffusion_models\\20250408_233652\\model_epoch_15.pth\n"
     ]
    },
    {
     "name": "stderr",
     "output_type": "stream",
     "text": [
      "Epoch 16/50 [Train]: 100%|██████████| 7980/7980 [01:41<00:00, 78.76it/s, loss=0.0288]\n",
      "Epoch 16/50 [Validation]: 100%|██████████| 1995/1995 [00:13<00:00, 148.82it/s, val_loss=0.0184]\n"
     ]
    },
    {
     "name": "stdout",
     "output_type": "stream",
     "text": [
      "Epoch 16/50, Train Loss: 0.024556, Validation Loss: 0.024000\n",
      "Saved intermediate model to ./diffusion_models\\20250408_233652\\model_epoch_16.pth\n"
     ]
    },
    {
     "name": "stderr",
     "output_type": "stream",
     "text": [
      "Epoch 17/50 [Train]: 100%|██████████| 7980/7980 [01:40<00:00, 79.17it/s, loss=0.0202]\n",
      "Epoch 17/50 [Validation]: 100%|██████████| 1995/1995 [00:13<00:00, 149.00it/s, val_loss=0.0227] \n"
     ]
    },
    {
     "name": "stdout",
     "output_type": "stream",
     "text": [
      "Epoch 17/50, Train Loss: 0.024293, Validation Loss: 0.024598\n",
      "Saved intermediate model to ./diffusion_models\\20250408_233652\\model_epoch_17.pth\n"
     ]
    },
    {
     "name": "stderr",
     "output_type": "stream",
     "text": [
      "Epoch 18/50 [Train]: 100%|██████████| 7980/7980 [01:41<00:00, 78.67it/s, loss=0.0216] \n",
      "Epoch 18/50 [Validation]: 100%|██████████| 1995/1995 [00:13<00:00, 148.84it/s, val_loss=0.0221]\n"
     ]
    },
    {
     "name": "stdout",
     "output_type": "stream",
     "text": [
      "Epoch 18/50, Train Loss: 0.024092, Validation Loss: 0.024964\n",
      "Saved intermediate model to ./diffusion_models\\20250408_233652\\model_epoch_18.pth\n"
     ]
    },
    {
     "name": "stderr",
     "output_type": "stream",
     "text": [
      "Epoch 19/50 [Train]: 100%|██████████| 7980/7980 [01:41<00:00, 78.69it/s, loss=0.0246]\n",
      "Epoch 19/50 [Validation]: 100%|██████████| 1995/1995 [00:13<00:00, 149.08it/s, val_loss=0.0234] \n"
     ]
    },
    {
     "name": "stdout",
     "output_type": "stream",
     "text": [
      "Epoch 19/50, Train Loss: 0.023922, Validation Loss: 0.024220\n",
      "Saved intermediate model to ./diffusion_models\\20250408_233652\\model_epoch_19.pth\n"
     ]
    },
    {
     "name": "stderr",
     "output_type": "stream",
     "text": [
      "Epoch 20/50 [Train]: 100%|██████████| 7980/7980 [01:41<00:00, 78.92it/s, loss=0.0229]\n",
      "Epoch 20/50 [Validation]: 100%|██████████| 1995/1995 [00:13<00:00, 148.75it/s, val_loss=0.0142]\n"
     ]
    },
    {
     "name": "stdout",
     "output_type": "stream",
     "text": [
      "Epoch 20/50, Train Loss: 0.023817, Validation Loss: 0.024121\n",
      "Saved intermediate model to ./diffusion_models\\20250408_233652\\model_epoch_20.pth\n"
     ]
    },
    {
     "name": "stderr",
     "output_type": "stream",
     "text": [
      "Epoch 21/50 [Train]: 100%|██████████| 7980/7980 [01:41<00:00, 78.56it/s, loss=0.0272]\n",
      "Epoch 21/50 [Validation]: 100%|██████████| 1995/1995 [00:13<00:00, 149.75it/s, val_loss=0.018] \n"
     ]
    },
    {
     "name": "stdout",
     "output_type": "stream",
     "text": [
      "Epoch 21/50, Train Loss: 0.023577, Validation Loss: 0.024894\n",
      "Saved intermediate model to ./diffusion_models\\20250408_233652\\model_epoch_21.pth\n"
     ]
    },
    {
     "name": "stderr",
     "output_type": "stream",
     "text": [
      "Epoch 22/50 [Train]: 100%|██████████| 7980/7980 [01:41<00:00, 78.73it/s, loss=0.024]  \n",
      "Epoch 22/50 [Validation]: 100%|██████████| 1995/1995 [00:13<00:00, 149.29it/s, val_loss=0.0183]\n"
     ]
    },
    {
     "name": "stdout",
     "output_type": "stream",
     "text": [
      "Epoch 22/50, Train Loss: 0.023550, Validation Loss: 0.023766\n",
      "Saved intermediate model to ./diffusion_models\\20250408_233652\\model_epoch_22.pth\n"
     ]
    },
    {
     "name": "stderr",
     "output_type": "stream",
     "text": [
      "Epoch 23/50 [Train]: 100%|██████████| 7980/7980 [01:41<00:00, 78.78it/s, loss=0.0356] \n",
      "Epoch 23/50 [Validation]: 100%|██████████| 1995/1995 [00:13<00:00, 150.74it/s, val_loss=0.0293]\n"
     ]
    },
    {
     "name": "stdout",
     "output_type": "stream",
     "text": [
      "Epoch 23/50, Train Loss: 0.023408, Validation Loss: 0.023547\n",
      "Saved intermediate model to ./diffusion_models\\20250408_233652\\model_epoch_23.pth\n"
     ]
    },
    {
     "name": "stderr",
     "output_type": "stream",
     "text": [
      "Epoch 24/50 [Train]: 100%|██████████| 7980/7980 [01:41<00:00, 78.47it/s, loss=0.0448] \n",
      "Epoch 24/50 [Validation]: 100%|██████████| 1995/1995 [00:13<00:00, 149.96it/s, val_loss=0.0221]\n"
     ]
    },
    {
     "name": "stdout",
     "output_type": "stream",
     "text": [
      "Epoch 24/50, Train Loss: 0.023287, Validation Loss: 0.023332\n",
      "Saved intermediate model to ./diffusion_models\\20250408_233652\\model_epoch_24.pth\n"
     ]
    },
    {
     "name": "stderr",
     "output_type": "stream",
     "text": [
      "Epoch 25/50 [Train]: 100%|██████████| 7980/7980 [01:41<00:00, 78.66it/s, loss=0.0155] \n",
      "Epoch 25/50 [Validation]: 100%|██████████| 1995/1995 [00:13<00:00, 151.20it/s, val_loss=0.016] \n"
     ]
    },
    {
     "name": "stdout",
     "output_type": "stream",
     "text": [
      "Epoch 25/50, Train Loss: 0.023216, Validation Loss: 0.025615\n",
      "Saved intermediate model to ./diffusion_models\\20250408_233652\\model_epoch_25.pth\n"
     ]
    },
    {
     "name": "stderr",
     "output_type": "stream",
     "text": [
      "Epoch 26/50 [Train]: 100%|██████████| 7980/7980 [01:41<00:00, 78.56it/s, loss=0.0299] \n",
      "Epoch 26/50 [Validation]: 100%|██████████| 1995/1995 [00:13<00:00, 152.03it/s, val_loss=0.0252]\n"
     ]
    },
    {
     "name": "stdout",
     "output_type": "stream",
     "text": [
      "Epoch 26/50, Train Loss: 0.022927, Validation Loss: 0.023111\n",
      "Saved intermediate model to ./diffusion_models\\20250408_233652\\model_epoch_26.pth\n"
     ]
    },
    {
     "name": "stderr",
     "output_type": "stream",
     "text": [
      "Epoch 27/50 [Train]: 100%|██████████| 7980/7980 [01:41<00:00, 78.44it/s, loss=0.0172] \n",
      "Epoch 27/50 [Validation]: 100%|██████████| 1995/1995 [00:13<00:00, 149.58it/s, val_loss=0.0241] \n"
     ]
    },
    {
     "name": "stdout",
     "output_type": "stream",
     "text": [
      "Epoch 27/50, Train Loss: 0.022841, Validation Loss: 0.022976\n",
      "Saved intermediate model to ./diffusion_models\\20250408_233652\\model_epoch_27.pth\n"
     ]
    },
    {
     "name": "stderr",
     "output_type": "stream",
     "text": [
      "Epoch 28/50 [Train]: 100%|██████████| 7980/7980 [01:41<00:00, 79.00it/s, loss=0.023]  \n",
      "Epoch 28/50 [Validation]: 100%|██████████| 1995/1995 [00:13<00:00, 150.74it/s, val_loss=0.0295]\n"
     ]
    },
    {
     "name": "stdout",
     "output_type": "stream",
     "text": [
      "Epoch 28/50, Train Loss: 0.022723, Validation Loss: 0.024261\n",
      "Saved intermediate model to ./diffusion_models\\20250408_233652\\model_epoch_28.pth\n"
     ]
    },
    {
     "name": "stderr",
     "output_type": "stream",
     "text": [
      "Epoch 29/50 [Train]: 100%|██████████| 7980/7980 [01:41<00:00, 78.67it/s, loss=0.0194] \n",
      "Epoch 29/50 [Validation]: 100%|██████████| 1995/1995 [00:13<00:00, 151.39it/s, val_loss=0.0206]\n"
     ]
    },
    {
     "name": "stdout",
     "output_type": "stream",
     "text": [
      "Epoch 29/50, Train Loss: 0.022713, Validation Loss: 0.023772\n",
      "Saved intermediate model to ./diffusion_models\\20250408_233652\\model_epoch_29.pth\n"
     ]
    },
    {
     "name": "stderr",
     "output_type": "stream",
     "text": [
      "Epoch 30/50 [Train]: 100%|██████████| 7980/7980 [01:41<00:00, 78.54it/s, loss=0.0275] \n",
      "Epoch 30/50 [Validation]: 100%|██████████| 1995/1995 [00:13<00:00, 151.73it/s, val_loss=0.0229]\n"
     ]
    },
    {
     "name": "stdout",
     "output_type": "stream",
     "text": [
      "Epoch 30/50, Train Loss: 0.022497, Validation Loss: 0.023461\n",
      "Saved intermediate model to ./diffusion_models\\20250408_233652\\model_epoch_30.pth\n"
     ]
    },
    {
     "name": "stderr",
     "output_type": "stream",
     "text": [
      "Epoch 31/50 [Train]: 100%|██████████| 7980/7980 [01:41<00:00, 78.98it/s, loss=0.0187] \n",
      "Epoch 31/50 [Validation]: 100%|██████████| 1995/1995 [00:13<00:00, 150.83it/s, val_loss=0.0207]\n"
     ]
    },
    {
     "name": "stdout",
     "output_type": "stream",
     "text": [
      "Epoch 31/50, Train Loss: 0.022432, Validation Loss: 0.022554\n",
      "Saved intermediate model to ./diffusion_models\\20250408_233652\\model_epoch_31.pth\n"
     ]
    },
    {
     "name": "stderr",
     "output_type": "stream",
     "text": [
      "Epoch 32/50 [Train]: 100%|██████████| 7980/7980 [01:41<00:00, 78.53it/s, loss=0.0445] \n",
      "Epoch 32/50 [Validation]: 100%|██████████| 1995/1995 [00:13<00:00, 151.02it/s, val_loss=0.0412]\n"
     ]
    },
    {
     "name": "stdout",
     "output_type": "stream",
     "text": [
      "Epoch 32/50, Train Loss: 0.022474, Validation Loss: 0.022484\n",
      "Saved intermediate model to ./diffusion_models\\20250408_233652\\model_epoch_32.pth\n"
     ]
    },
    {
     "name": "stderr",
     "output_type": "stream",
     "text": [
      "Epoch 33/50 [Train]: 100%|██████████| 7980/7980 [01:41<00:00, 78.25it/s, loss=0.0281] \n",
      "Epoch 33/50 [Validation]: 100%|██████████| 1995/1995 [00:13<00:00, 151.20it/s, val_loss=0.019]  \n"
     ]
    },
    {
     "name": "stdout",
     "output_type": "stream",
     "text": [
      "Epoch 33/50, Train Loss: 0.022342, Validation Loss: 0.022286\n",
      "Saved intermediate model to ./diffusion_models\\20250408_233652\\model_epoch_33.pth\n"
     ]
    },
    {
     "name": "stderr",
     "output_type": "stream",
     "text": [
      "Epoch 34/50 [Train]: 100%|██████████| 7980/7980 [01:41<00:00, 78.62it/s, loss=0.024]  \n",
      "Epoch 34/50 [Validation]: 100%|██████████| 1995/1995 [00:13<00:00, 150.33it/s, val_loss=0.0215]\n"
     ]
    },
    {
     "name": "stdout",
     "output_type": "stream",
     "text": [
      "Epoch 34/50, Train Loss: 0.022256, Validation Loss: 0.023232\n",
      "Saved intermediate model to ./diffusion_models\\20250408_233652\\model_epoch_34.pth\n"
     ]
    },
    {
     "name": "stderr",
     "output_type": "stream",
     "text": [
      "Epoch 35/50 [Train]: 100%|██████████| 7980/7980 [01:41<00:00, 78.60it/s, loss=0.0205] \n",
      "Epoch 35/50 [Validation]: 100%|██████████| 1995/1995 [00:13<00:00, 147.80it/s, val_loss=0.0146]\n"
     ]
    },
    {
     "name": "stdout",
     "output_type": "stream",
     "text": [
      "Epoch 35/50, Train Loss: 0.022090, Validation Loss: 0.022771\n",
      "Saved intermediate model to ./diffusion_models\\20250408_233652\\model_epoch_35.pth\n"
     ]
    },
    {
     "name": "stderr",
     "output_type": "stream",
     "text": [
      "Epoch 36/50 [Train]: 100%|██████████| 7980/7980 [01:40<00:00, 79.08it/s, loss=0.0202] \n",
      "Epoch 36/50 [Validation]: 100%|██████████| 1995/1995 [00:13<00:00, 151.22it/s, val_loss=0.0251]\n"
     ]
    },
    {
     "name": "stdout",
     "output_type": "stream",
     "text": [
      "Epoch 36/50, Train Loss: 0.022082, Validation Loss: 0.022969\n",
      "Saved intermediate model to ./diffusion_models\\20250408_233652\\model_epoch_36.pth\n"
     ]
    },
    {
     "name": "stderr",
     "output_type": "stream",
     "text": [
      "Epoch 37/50 [Train]: 100%|██████████| 7980/7980 [01:41<00:00, 78.94it/s, loss=0.0364] \n",
      "Epoch 37/50 [Validation]: 100%|██████████| 1995/1995 [00:13<00:00, 150.32it/s, val_loss=0.028] \n"
     ]
    },
    {
     "name": "stdout",
     "output_type": "stream",
     "text": [
      "Epoch 37/50, Train Loss: 0.021996, Validation Loss: 0.022418\n",
      "Saved intermediate model to ./diffusion_models\\20250408_233652\\model_epoch_37.pth\n"
     ]
    },
    {
     "name": "stderr",
     "output_type": "stream",
     "text": [
      "Epoch 38/50 [Train]: 100%|██████████| 7980/7980 [01:41<00:00, 78.66it/s, loss=0.0201] \n",
      "Epoch 38/50 [Validation]: 100%|██████████| 1995/1995 [00:13<00:00, 148.47it/s, val_loss=0.0175]\n"
     ]
    },
    {
     "name": "stdout",
     "output_type": "stream",
     "text": [
      "Epoch 38/50, Train Loss: 0.022040, Validation Loss: 0.023825\n",
      "Saved intermediate model to ./diffusion_models\\20250408_233652\\model_epoch_38.pth\n"
     ]
    },
    {
     "name": "stderr",
     "output_type": "stream",
     "text": [
      "Epoch 39/50 [Train]: 100%|██████████| 7980/7980 [01:41<00:00, 78.97it/s, loss=0.0208] \n",
      "Epoch 39/50 [Validation]: 100%|██████████| 1995/1995 [00:13<00:00, 149.19it/s, val_loss=0.0182] \n"
     ]
    },
    {
     "name": "stdout",
     "output_type": "stream",
     "text": [
      "Epoch 39/50, Train Loss: 0.021803, Validation Loss: 0.022297\n",
      "Saved intermediate model to ./diffusion_models\\20250408_233652\\model_epoch_39.pth\n"
     ]
    },
    {
     "name": "stderr",
     "output_type": "stream",
     "text": [
      "Epoch 40/50 [Train]: 100%|██████████| 7980/7980 [01:40<00:00, 79.10it/s, loss=0.0251] \n",
      "Epoch 40/50 [Validation]: 100%|██████████| 1995/1995 [00:13<00:00, 150.46it/s, val_loss=0.0135] \n"
     ]
    },
    {
     "name": "stdout",
     "output_type": "stream",
     "text": [
      "Epoch 40/50, Train Loss: 0.021706, Validation Loss: 0.022172\n",
      "Saved intermediate model to ./diffusion_models\\20250408_233652\\model_epoch_40.pth\n"
     ]
    },
    {
     "name": "stderr",
     "output_type": "stream",
     "text": [
      "Epoch 41/50 [Train]: 100%|██████████| 7980/7980 [01:41<00:00, 78.80it/s, loss=0.0201] \n",
      "Epoch 41/50 [Validation]: 100%|██████████| 1995/1995 [00:13<00:00, 148.21it/s, val_loss=0.0211]\n"
     ]
    },
    {
     "name": "stdout",
     "output_type": "stream",
     "text": [
      "Epoch 41/50, Train Loss: 0.021695, Validation Loss: 0.022629\n",
      "Saved intermediate model to ./diffusion_models\\20250408_233652\\model_epoch_41.pth\n"
     ]
    },
    {
     "name": "stderr",
     "output_type": "stream",
     "text": [
      "Epoch 42/50 [Train]: 100%|██████████| 7980/7980 [01:41<00:00, 78.77it/s, loss=0.0199] \n",
      "Epoch 42/50 [Validation]: 100%|██████████| 1995/1995 [00:13<00:00, 148.60it/s, val_loss=0.0152] \n"
     ]
    },
    {
     "name": "stdout",
     "output_type": "stream",
     "text": [
      "Epoch 42/50, Train Loss: 0.021683, Validation Loss: 0.023811\n",
      "Saved intermediate model to ./diffusion_models\\20250408_233652\\model_epoch_42.pth\n"
     ]
    },
    {
     "name": "stderr",
     "output_type": "stream",
     "text": [
      "Epoch 43/50 [Train]: 100%|██████████| 7980/7980 [01:41<00:00, 78.56it/s, loss=0.0409] \n",
      "Epoch 43/50 [Validation]: 100%|██████████| 1995/1995 [00:13<00:00, 150.52it/s, val_loss=0.0143]\n"
     ]
    },
    {
     "name": "stdout",
     "output_type": "stream",
     "text": [
      "Epoch 43/50, Train Loss: 0.021638, Validation Loss: 0.021748\n",
      "Saved intermediate model to ./diffusion_models\\20250408_233652\\model_epoch_43.pth\n"
     ]
    },
    {
     "name": "stderr",
     "output_type": "stream",
     "text": [
      "Epoch 44/50 [Train]: 100%|██████████| 7980/7980 [01:41<00:00, 78.78it/s, loss=0.0233] \n",
      "Epoch 44/50 [Validation]: 100%|██████████| 1995/1995 [00:13<00:00, 148.33it/s, val_loss=0.0333] \n"
     ]
    },
    {
     "name": "stdout",
     "output_type": "stream",
     "text": [
      "Epoch 44/50, Train Loss: 0.021502, Validation Loss: 0.024479\n",
      "Saved intermediate model to ./diffusion_models\\20250408_233652\\model_epoch_44.pth\n"
     ]
    },
    {
     "name": "stderr",
     "output_type": "stream",
     "text": [
      "Epoch 45/50 [Train]: 100%|██████████| 7980/7980 [01:41<00:00, 78.69it/s, loss=0.0261] \n",
      "Epoch 45/50 [Validation]: 100%|██████████| 1995/1995 [00:13<00:00, 147.81it/s, val_loss=0.0147] \n"
     ]
    },
    {
     "name": "stdout",
     "output_type": "stream",
     "text": [
      "Epoch 45/50, Train Loss: 0.021365, Validation Loss: 0.021797\n",
      "Saved intermediate model to ./diffusion_models\\20250408_233652\\model_epoch_45.pth\n"
     ]
    },
    {
     "name": "stderr",
     "output_type": "stream",
     "text": [
      "Epoch 46/50 [Train]: 100%|██████████| 7980/7980 [01:41<00:00, 78.44it/s, loss=0.0183] \n",
      "Epoch 46/50 [Validation]: 100%|██████████| 1995/1995 [00:13<00:00, 148.86it/s, val_loss=0.0189]\n"
     ]
    },
    {
     "name": "stdout",
     "output_type": "stream",
     "text": [
      "Epoch 46/50, Train Loss: 0.021324, Validation Loss: 0.021748\n",
      "Saved intermediate model to ./diffusion_models\\20250408_233652\\model_epoch_46.pth\n"
     ]
    },
    {
     "name": "stderr",
     "output_type": "stream",
     "text": [
      "Epoch 47/50 [Train]: 100%|██████████| 7980/7980 [01:41<00:00, 78.76it/s, loss=0.0367] \n",
      "Epoch 47/50 [Validation]: 100%|██████████| 1995/1995 [00:13<00:00, 150.76it/s, val_loss=0.032]  \n"
     ]
    },
    {
     "name": "stdout",
     "output_type": "stream",
     "text": [
      "Epoch 47/50, Train Loss: 0.021266, Validation Loss: 0.022538\n",
      "Saved intermediate model to ./diffusion_models\\20250408_233652\\model_epoch_47.pth\n"
     ]
    },
    {
     "name": "stderr",
     "output_type": "stream",
     "text": [
      "Epoch 48/50 [Train]: 100%|██████████| 7980/7980 [01:41<00:00, 78.86it/s, loss=0.0238] \n",
      "Epoch 48/50 [Validation]: 100%|██████████| 1995/1995 [00:13<00:00, 151.71it/s, val_loss=0.0235] \n"
     ]
    },
    {
     "name": "stdout",
     "output_type": "stream",
     "text": [
      "Epoch 48/50, Train Loss: 0.021171, Validation Loss: 0.021816\n",
      "Saved intermediate model to ./diffusion_models\\20250408_233652\\model_epoch_48.pth\n"
     ]
    },
    {
     "name": "stderr",
     "output_type": "stream",
     "text": [
      "Epoch 49/50 [Train]: 100%|██████████| 7980/7980 [01:41<00:00, 78.46it/s, loss=0.0155] \n",
      "Epoch 49/50 [Validation]: 100%|██████████| 1995/1995 [00:13<00:00, 149.91it/s, val_loss=0.0198] \n"
     ]
    },
    {
     "name": "stdout",
     "output_type": "stream",
     "text": [
      "Epoch 49/50, Train Loss: 0.021168, Validation Loss: 0.020978\n",
      "Saved intermediate model to ./diffusion_models\\20250408_233652\\model_epoch_49.pth\n"
     ]
    },
    {
     "name": "stderr",
     "output_type": "stream",
     "text": [
      "Epoch 50/50 [Train]: 100%|██████████| 7980/7980 [01:41<00:00, 78.56it/s, loss=0.0134] \n",
      "Epoch 50/50 [Validation]: 100%|██████████| 1995/1995 [00:13<00:00, 150.37it/s, val_loss=0.02]   \n"
     ]
    },
    {
     "name": "stdout",
     "output_type": "stream",
     "text": [
      "Epoch 50/50, Train Loss: 0.021080, Validation Loss: 0.022506\n",
      "Saved intermediate model to ./diffusion_models\\20250408_233652\\model_epoch_50.pth\n",
      "Saved final model to ./diffusion_models\\20250408_233652\\model_final.pth\n",
      "Saved losses to ./diffusion_models\\20250408_233652\\losses.csv\n",
      "Saved loss plot to ./diffusion_models\\20250408_233652\\loss_plot.png\n"
     ]
    },
    {
     "data": {
      "image/png": "[encoded data removed]",
      "text/plain": [
       "<Figure size 1000x600 with 1 Axes>"
      ]
     },
     "metadata": {},
     "output_type": "display_data"
    }
   ],
   "source": [
    "training_timestamp = datetime.now().strftime(\"%Y%m%d_%H%M%S\")\n",
    "output_folder = os.path.join(\"./diffusion_models\", training_timestamp)\n",
    "\n",
    "ssim_criterion = SSIMLoss(window_size=11)\n",
    "train_diffusion_model(\n",
    "    model,\n",
    "    train_dataloader,\n",
    "    val_dataloader,\n",
    "    num_timesteps=200,\n",
    "    epochs=50,\n",
    "    device=\"cuda\",\n",
    "    #criterion=ssim_criterion, #default is mse\n",
    "    output_folder=output_folder,\n",
    "    save_intermediates=True,\n",
    "    track_losses=True\n",
    ")"
   ]
  },
  {
   "cell_type": "code",
   "execution_count": 62,
   "id": "124441cdaf0c844a",
   "metadata": {
    "ExecuteTime": {
     "end_time": "2025-03-26T03:51:58.793695Z",
     "start_time": "2025-03-26T03:51:58.782548Z"
    }
   },
   "outputs": [],
   "source": [
    "def get_noise_schedule(t, num_timesteps, schedule_type=\"cosine\"):\n",
    "    \"\"\"\n",
    "    Returns noise schedule for timestep t.\n",
    "    Supports 'linear', 'cosine', and 'exponential' schedules.\n",
    "\n",
    "    Args:\n",
    "        t (int): Current timestep\n",
    "        num_timesteps (int): Total number of diffusion steps\n",
    "        schedule_type (str): Type of schedule - \"linear\", \"cosine\", or \"exponential\"\n",
    "\n",
    "    Returns:\n",
    "        float: Alpha value for current timestep\n",
    "    \"\"\"\n",
    "    if schedule_type == \"linear\":\n",
    "        return 1 - t/num_timesteps\n",
    "    elif schedule_type == \"cosine\":\n",
    "        # Improved schedule from Ho et al.\n",
    "        s = 0.008\n",
    "        t = t / num_timesteps\n",
    "        return np.cos((t + s)/(1 + s) * np.pi/2) ** 2\n",
    "    else: # exponential\n",
    "        return 0.99 ** t\n",
    "\n",
    "def get_variance_schedule(t, num_timesteps, schedule_type=\"exponential\"):\n",
    "    \"\"\"\n",
    "    Returns variance schedule for noise prediction\n",
    "\n",
    "    Args:\n",
    "        t (int): Current timestep\n",
    "        num_timesteps (int): Total number of diffusion steps\n",
    "        schedule_type (str): Type of schedule - currently only \"exponential\" supported\n",
    "\n",
    "    Returns:\n",
    "        float: Beta (variance) value for current timestep\n",
    "    \"\"\"\n",
    "    if schedule_type == \"exponential\":\n",
    "        beta_start = 0.0001\n",
    "        beta_end = 0.02\n",
    "        return beta_start + t * (beta_end - beta_start) / num_timesteps\n",
    "    return 0.0001  # Default fallback\n",
    "\n",
    "def normalize_bandgap_conditions(bandgap_top, bandgap_bottom, max_bandgap=2000.0):\n",
    "    \"\"\"\n",
    "    Normalize bandgap conditions to [0,1] range\n",
    "\n",
    "    Args:\n",
    "        bandgap_top (float): Upper bandgap frequency\n",
    "        bandgap_bottom (float): Lower bandgap frequency\n",
    "        max_bandgap (float): Maximum expected bandgap frequency\n",
    "\n",
    "    Returns:\n",
    "        tuple: Normalized (top, bottom) values\n",
    "    \"\"\"\n",
    "    return bandgap_top/max_bandgap, bandgap_bottom/max_bandgap\n",
    "\n",
    "def generate_image_fixed(model, bandgap_top, bandgap_bottom, num_timesteps=200,\n",
    "                        device=\"cuda\", image_size=32,\n",
    "                        noise_schedule_type=\"cosine\",\n",
    "                        variance_schedule_type=\"exponential\",\n",
    "                        guidance_scale=3.0,\n",
    "                        max_norm=1.0):\n",
    "    \"\"\"\n",
    "    Generate an image given bandgap conditions using the trained diffusion model.\n",
    "    Includes improved noise scheduling, variance scheduling, and classifier-free guidance.\n",
    "\n",
    "    Args:\n",
    "        model: The diffusion model\n",
    "        bandgap_top (float): Upper bandgap frequency\n",
    "        bandgap_bottom (float): Lower bandgap frequency\n",
    "        num_timesteps (int): Number of diffusion steps\n",
    "        device (str): Device to run on (\"cuda\" or \"cpu\")\n",
    "        image_size (int): Size of generated image\n",
    "        noise_schedule_type (str): Type of noise schedule\n",
    "        variance_schedule_type (str): Type of variance schedule\n",
    "        guidance_scale (float): Scale factor for classifier-free guidance\n",
    "        max_norm (float): Maximum norm for gradient clipping\n",
    "\n",
    "    Returns:\n",
    "        tuple: (final_image, initial_noise)\n",
    "    \"\"\"\n",
    "    model.eval()\n",
    "    model.to(device)\n",
    "\n",
    "    # Initialize with Gaussian noise\n",
    "    x_t = torch.randn(1, 1, image_size, image_size, device=device)\n",
    "    x_i = x_t.clone()  # Save initial noise for visualization\n",
    "\n",
    "    # Normalize conditions\n",
    "    norm_top, norm_bottom = normalize_bandgap_conditions(bandgap_top, bandgap_bottom)\n",
    "\n",
    "    # Create conditioning tensors for guided and unguided prediction\n",
    "    bandgap_conditions = torch.tensor([[norm_top, norm_bottom]],\n",
    "                                    dtype=torch.float32, device=device)\n",
    "    uncond_conditions = torch.zeros_like(bandgap_conditions)\n",
    "\n",
    "    # Keep track of last valid prediction\n",
    "    last_valid_x = x_t.clone()\n",
    "\n",
    "    with torch.no_grad():\n",
    "        for t in range(num_timesteps, 0, -1):\n",
    "            # Create timestep tensor\n",
    "            t_tensor = torch.tensor([[t]], dtype=torch.float32, device=device)\n",
    "\n",
    "            try:\n",
    "                # Get schedule values for current timestep\n",
    "                alpha_t = torch.tensor(get_noise_schedule(t, num_timesteps, noise_schedule_type),\n",
    "                                     device=device)\n",
    "                beta_t = torch.tensor(get_variance_schedule(t, num_timesteps, variance_schedule_type),\n",
    "                                    device=device)\n",
    "                sigma_t = torch.sqrt(beta_t)\n",
    "\n",
    "                # Predict noise with and without conditions\n",
    "                noise_pred_cond = model(x_t, t_tensor, bandgap_conditions)\n",
    "                noise_pred_uncond = model(x_t, t_tensor, uncond_conditions)\n",
    "\n",
    "                # Apply classifier-free guidance\n",
    "                predicted_noise = noise_pred_uncond + guidance_scale * (noise_pred_cond - noise_pred_uncond)\n",
    "\n",
    "                # Clip predicted noise\n",
    "                predicted_noise = torch.clamp(predicted_noise, -max_norm, max_norm)\n",
    "\n",
    "                # Check for NaN\n",
    "                if torch.any(torch.isnan(predicted_noise)):\n",
    "                    print(f\"NaN detected in predicted noise at timestep {t}\")\n",
    "                    x_t = last_valid_x\n",
    "                    break\n",
    "\n",
    "                # Update x_t using improved noise prediction\n",
    "                x_t = (x_t - (1 - alpha_t) * predicted_noise) / torch.sqrt(alpha_t)\n",
    "\n",
    "                # Add noise except at final step\n",
    "                if t > 1:\n",
    "                    noise = torch.randn_like(x_t)\n",
    "                    x_t = x_t + sigma_t * noise\n",
    "\n",
    "                # Check for NaN in x_t\n",
    "                if torch.any(torch.isnan(x_t)):\n",
    "                    print(f\"NaN detected in x_t at timestep {t}\")\n",
    "                    x_t = last_valid_x\n",
    "                    break\n",
    "\n",
    "                # Store last valid prediction\n",
    "                last_valid_x = x_t.clone()\n",
    "\n",
    "            except Exception as e:\n",
    "                print(f\"Error at timestep {t}: {str(e)}\")\n",
    "                x_t = last_valid_x\n",
    "                break\n",
    "\n",
    "    # Ensure final image is in valid range\n",
    "    final_image = torch.clamp(x_t, 0, 1)\n",
    "\n",
    "    return final_image.cpu(), x_i.cpu()\n",
    "\n",
    "def generate_image(model, bandgap_top, bandgap_bottom, num_timesteps=200, device=\"cuda\", image_size=32):\n",
    "    \"\"\"\n",
    "    Generate an image given bandgap conditions using the trained diffusion model.\n",
    "    \"\"\"\n",
    "    model.eval()  # Set model to evaluation mode\n",
    "    model.to(device)\n",
    "\n",
    "    # Initialize Gaussian noise\n",
    "    x_t = torch.randn(1, 1, image_size, image_size, device=device)  # Start with pure noise\n",
    "\n",
    "    # Create conditioning tensors\n",
    "    bandgap_conditions = torch.tensor([[bandgap_top, bandgap_bottom]], dtype=torch.float32, device=device)\n",
    "    t_tensor = torch.tensor([[num_timesteps]], dtype=torch.float32, device=device)\n",
    "\n",
    "    # Process bandgap and time embeddings using the model's embedding layers\n",
    "    bandgap_emb = model.bandgap_embedding(bandgap_conditions)  # Shape: (1, 128)\n",
    "    t_emb = model.time_embedding(t_tensor)  # Shape: (1, 128)\n",
    "    combined_emb = bandgap_emb + t_emb  # Combine embeddings\n",
    "\n",
    "    # Project combined embedding to match bottleneck channels\n",
    "    projected_emb = model.embedding_projection(combined_emb).view(1, 1024, 1, 1)  # Shape: (1, 1024, 1, 1)\n",
    "\n",
    "    # Iterative reverse diffusion process\n",
    "    with torch.no_grad():\n",
    "        for t in range(num_timesteps, 0, -1):\n",
    "            t_tensor = torch.tensor([[t]], dtype=torch.float32, device=device)  # Update timestep tensor\n",
    "            predicted_noise = model(x_t, t_tensor, bandgap_conditions)  # Predict noise\n",
    "            alpha_t = torch.tensor(1 - t / num_timesteps, device=device)  # Compute alpha_t\n",
    "            x_t = (x_t - (1 - alpha_t) * predicted_noise) / alpha_t.clamp(min=1e-6)  # Update x_t\n",
    "\n",
    "    # Final denoised image\n",
    "    final_image = x_t.clamp(0, 1)  # Clamp to [0, 1] for visualization\n",
    "\n",
    "    return final_image.cpu()\n",
    "\n",
    "def plot_generated_image(image_tensor, bandgap_top, bandgap_bottom, timestep, title=None, save_path=None):\n",
    "    \"\"\"\n",
    "    Plot a generated image from a diffusion model output with metadata in the title.\n",
    "    The title includes the bandgap top and bandgap bottom values.\n",
    "    The colorbar is adjusted to be the same height as the plot.\n",
    "\n",
    "    Args:\n",
    "    - image_tensor (torch.Tensor): The generated image tensor of shape (1, 1, H, W).\n",
    "    - bandgap_top (float): Bandgap top value.\n",
    "    - bandgap_bottom (float): Bandgap bottom value.\n",
    "    - title (str): Optional title for the plot. If None, a default title is created.\n",
    "    - save_path (str): Optional path to save the plot as an image file.\n",
    "    \"\"\"\n",
    "    # Remove batch and channel dimensions\n",
    "    image = image_tensor.squeeze(0).squeeze(0).cpu().numpy()  # Shape: (H, W)\n",
    "\n",
    "    # Create the plot\n",
    "    fig, ax = plt.subplots(figsize=(6, 6))\n",
    "    im = ax.imshow(image, cmap='gray_r', vmin=0, vmax=1)\n",
    "\n",
    "    # Add title with metadata\n",
    "    if title is None:\n",
    "        title = f\"Bandgap Top: {bandgap_top:.2f}, Bottom: {bandgap_bottom:.2f}, Timestep: {timestep:.2f}\"\n",
    "    ax.set_title(title)\n",
    "    ax.axis(\"off\")  # Remove axis ticks for cleaner visualization\n",
    "\n",
    "    # Add a colorbar with adjusted height\n",
    "    cbar = fig.colorbar(im, ax=ax, fraction=0.046, pad=0.04)\n",
    "    cbar.set_label(\"Value\")  # Label for the colorbar\n",
    "\n",
    "    # Save or show the plot\n",
    "    if save_path:\n",
    "        plt.savefig(save_path, bbox_inches=\"tight\")\n",
    "        print(f\"Saved plot to {save_path}\")\n",
    "    else:\n",
    "        plt.show()"
   ]
  },
  {
   "cell_type": "code",
   "execution_count": 63,
   "id": "4f7f871eecc84d5a",
   "metadata": {
    "ExecuteTime": {
     "end_time": "2025-03-26T03:53:15.672167Z",
     "start_time": "2025-03-26T03:53:15.062960Z"
    }
   },
   "outputs": [
    {
     "name": "stdout",
     "output_type": "stream",
     "text": [
      "NaN detected in predicted noise at timestep 183\n",
      "torch.Size([1, 1, 32, 32])\n",
      "Saved plot to generated_image_with_metadata.png\n"
     ]
    },
    {
     "data": {
      "image/png": "[encoded data removed]",
      "text/plain": [
       "<Figure size 600x600 with 2 Axes>"
      ]
     },
     "metadata": {},
     "output_type": "display_data"
    }
   ],
   "source": [
    "bandgap_top = 800\n",
    "bandgap_bottom = 500\n",
    "timesteps = 200\n",
    "generated_image, initial_noise = generate_image_fixed(\n",
    "    model,\n",
    "    bandgap_top=bandgap_top,\n",
    "    bandgap_bottom=bandgap_bottom,\n",
    "    num_timesteps=timesteps,\n",
    "    device=\"cuda\",\n",
    "    noise_schedule_type=\"cosine\",\n",
    "    guidance_scale=3.0\n",
    ")\n",
    "print(generated_image.shape)\n",
    "\n",
    "# Plot the generated image\n",
    "plot_generated_image(\n",
    "    generated_image,\n",
    "    bandgap_top=bandgap_top,\n",
    "    bandgap_bottom=bandgap_bottom,\n",
    "    timestep=timesteps,\n",
    "    title=None,\n",
    "    save_path=\"generated_image_with_metadata.png\"\n",
    ")\n"
   ]
  },
  {
   "cell_type": "code",
   "execution_count": null,
   "id": "7973de82",
   "metadata": {
    "ExecuteTime": {
     "end_time": "2025-03-26T03:32:04.934779Z",
     "start_time": "2025-03-26T03:32:04.932905Z"
    }
   },
   "outputs": [],
   "source": []
  },
  {
   "cell_type": "code",
   "execution_count": null,
   "id": "71e5dbf693dab3ee",
   "metadata": {
    "ExecuteTime": {
     "end_time": "2025-03-26T03:32:04.947907Z",
     "start_time": "2025-03-26T03:32:04.945534Z"
    }
   },
   "outputs": [],
   "source": []
  }
 ],
 "metadata": {
  "kernelspec": {
   "display_name": "base",
   "language": "python",
   "name": "python3"
  },
  "language_info": {
   "codemirror_mode": {
    "name": "ipython",
    "version": 3
   },
   "file_extension": ".py",
   "mimetype": "text/x-python",
   "name": "python",
   "nbconvert_exporter": "python",
   "pygments_lexer": "ipython3",
   "version": "3.9.18"
  }
 },
 "nbformat": 4,
 "nbformat_minor": 5
}
